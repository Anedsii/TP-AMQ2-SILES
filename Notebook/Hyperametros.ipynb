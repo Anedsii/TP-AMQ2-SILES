{
 "cells": [
  {
   "cell_type": "code",
   "execution_count": 1,
   "metadata": {},
   "outputs": [
    {
     "name": "stderr",
     "output_type": "stream",
     "text": [
      "INFO:__main__:Loading data from: ../data/\n",
      "INFO:__main__:Preprocessing data: Item_MRP\n",
      "INFO:__main__:Data prepared for training: X\n",
      "INFO:__main__:Model trained successfully\n",
      "INFO:__main__:Score model: [-1174.45481642 -1163.40561215 -1035.87472539 -1129.76640339\n",
      " -1066.90335567 -1177.79769901 -1218.15909424 -1189.71950574\n",
      " -1080.64951487 -1176.27624407]\n",
      "INFO:__main__:Mean: -1141.3006970933468, Std: 57.32010374259351\n",
      "\u001b[32m[I 2023-08-29 05:05:17,829]\u001b[0m A new study created in memory with name: no-name-1b7d40a0-3ee8-4248-bc77-5e3e1132e9cc\u001b[0m\n",
      "\u001b[32m[I 2023-08-29 05:05:18,123]\u001b[0m Trial 0 finished with value: -1156.8655934588846 and parameters: {'lambda': 13.118277116054756, 'alpha': 7.16945787487016, 'learning_rate': 0.28278279341364504, 'colsample_bytree': 0.692715975829107, 'n_estimators': 60}. Best is trial 0 with value: -1156.8655934588846.\u001b[0m\n",
      "\u001b[32m[I 2023-08-29 05:05:18,327]\u001b[0m Trial 1 finished with value: -1157.94955758038 and parameters: {'lambda': 16.71095031214162, 'alpha': 16.458538234382125, 'learning_rate': 0.4455187224262787, 'colsample_bytree': 0.7314639307657842, 'n_estimators': 36}. Best is trial 1 with value: -1157.94955758038.\u001b[0m\n",
      "\u001b[32m[I 2023-08-29 05:05:18,372]\u001b[0m Trial 2 finished with value: -1871.1783322806332 and parameters: {'lambda': 13.972692201470515, 'alpha': 14.873337342206444, 'learning_rate': 0.4257320244467097, 'colsample_bytree': 0.516327063954179, 'n_estimators': 1}. Best is trial 2 with value: -1871.1783322806332.\u001b[0m\n",
      "\u001b[32m[I 2023-08-29 05:05:18,657]\u001b[0m Trial 3 finished with value: -1170.3005610152209 and parameters: {'lambda': 9.237782004785274, 'alpha': 13.631251050043609, 'learning_rate': 0.36642137331422653, 'colsample_bytree': 0.5708258061841915, 'n_estimators': 68}. Best is trial 2 with value: -1871.1783322806332.\u001b[0m\n",
      "\u001b[32m[I 2023-08-29 05:05:18,894]\u001b[0m Trial 4 finished with value: -1139.2862510884188 and parameters: {'lambda': 16.696107692372394, 'alpha': 14.269775914551232, 'learning_rate': 0.1635190065816215, 'colsample_bytree': 0.5045579239227567, 'n_estimators': 52}. Best is trial 2 with value: -1871.1783322806332.\u001b[0m\n",
      "\u001b[32m[I 2023-08-29 05:05:19,018]\u001b[0m Trial 5 finished with value: -1136.1890104339777 and parameters: {'lambda': 12.591132753525905, 'alpha': 10.20334320256812, 'learning_rate': 0.22059363024574435, 'colsample_bytree': 0.6078506290885459, 'n_estimators': 19}. Best is trial 2 with value: -1871.1783322806332.\u001b[0m\n",
      "\u001b[32m[I 2023-08-29 05:05:19,394]\u001b[0m Trial 6 finished with value: -1138.0237198568682 and parameters: {'lambda': 14.399870206429346, 'alpha': 15.92060589755691, 'learning_rate': 0.07938594161931144, 'colsample_bytree': 0.6101775788171744, 'n_estimators': 72}. Best is trial 2 with value: -1871.1783322806332.\u001b[0m\n",
      "\u001b[32m[I 2023-08-29 05:05:19,690]\u001b[0m Trial 7 finished with value: -1166.8046610154697 and parameters: {'lambda': 12.544250884029712, 'alpha': 7.716084187628208, 'learning_rate': 0.321858990516292, 'colsample_bytree': 0.7810569253169988, 'n_estimators': 63}. Best is trial 2 with value: -1871.1783322806332.\u001b[0m\n",
      "\u001b[32m[I 2023-08-29 05:05:19,926]\u001b[0m Trial 8 finished with value: -1146.5204780679705 and parameters: {'lambda': 13.820822565506276, 'alpha': 8.29752188281439, 'learning_rate': 0.07530865606062281, 'colsample_bytree': 0.4910648969642244, 'n_estimators': 62}. Best is trial 2 with value: -1871.1783322806332.\u001b[0m\n",
      "\u001b[32m[I 2023-08-29 05:05:19,972]\u001b[0m Trial 9 finished with value: -2521.7873237725316 and parameters: {'lambda': 16.133305634019095, 'alpha': 8.613914074465097, 'learning_rate': 0.059406000170313035, 'colsample_bytree': 0.6149391466546024, 'n_estimators': 2}. Best is trial 9 with value: -2521.7873237725316.\u001b[0m\n",
      "\u001b[32m[I 2023-08-29 05:05:20,428]\u001b[0m Trial 10 finished with value: -1159.6390030124771 and parameters: {'lambda': 9.63658367416771, 'alpha': 10.691989573640976, 'learning_rate': 0.1701899548586339, 'colsample_bytree': 0.8817368390708686, 'n_estimators': 89}. Best is trial 9 with value: -2521.7873237725316.\u001b[0m\n",
      "\u001b[32m[I 2023-08-29 05:05:20,475]\u001b[0m Trial 11 finished with value: -1446.9304718189328 and parameters: {'lambda': 15.356300045938239, 'alpha': 12.681462395737762, 'learning_rate': 0.4967847880564944, 'colsample_bytree': 0.472984836735398, 'n_estimators': 2}. Best is trial 9 with value: -2521.7873237725316.\u001b[0m\n",
      "\u001b[32m[I 2023-08-29 05:05:20,511]\u001b[0m Trial 12 finished with value: -2777.100309646695 and parameters: {'lambda': 10.909353495340472, 'alpha': 9.992948229922746, 'learning_rate': 0.38035877936121876, 'colsample_bytree': 0.4192615975158712, 'n_estimators': 0}. Best is trial 12 with value: -2777.100309646695.\u001b[0m\n",
      "\u001b[32m[I 2023-08-29 05:05:20,649]\u001b[0m Trial 13 finished with value: -1146.6885368166868 and parameters: {'lambda': 11.087327012199594, 'alpha': 9.432688916369198, 'learning_rate': 0.3651839228046255, 'colsample_bytree': 0.41017981842004314, 'n_estimators': 23}. Best is trial 12 with value: -2777.100309646695.\u001b[0m\n",
      "\u001b[32m[I 2023-08-29 05:05:20,744]\u001b[0m Trial 14 finished with value: -1182.5300719546715 and parameters: {'lambda': 7.513959967043078, 'alpha': 11.77910274691168, 'learning_rate': 0.22245732143549032, 'colsample_bytree': 0.42145528054488357, 'n_estimators': 18}. Best is trial 12 with value: -2777.100309646695.\u001b[0m\n",
      "\u001b[32m[I 2023-08-29 05:05:20,963]\u001b[0m Trial 15 finished with value: -1138.170640016388 and parameters: {'lambda': 11.10339982961962, 'alpha': 9.188724924366305, 'learning_rate': 0.13352146850149754, 'colsample_bytree': 0.8332889271211225, 'n_estimators': 36}. Best is trial 12 with value: -2777.100309646695.\u001b[0m\n",
      "\u001b[32m[I 2023-08-29 05:05:21,059]\u001b[0m Trial 16 finished with value: -1138.8617785058705 and parameters: {'lambda': 10.982605281551661, 'alpha': 11.188251663772366, 'learning_rate': 0.3537051817692671, 'colsample_bytree': 0.6785905599839304, 'n_estimators': 12}. Best is trial 12 with value: -2777.100309646695.\u001b[0m\n",
      "\u001b[32m[I 2023-08-29 05:05:21,230]\u001b[0m Trial 17 finished with value: -1142.7554920016935 and parameters: {'lambda': 9.564973310318862, 'alpha': 8.893858061504542, 'learning_rate': 0.25984779668182734, 'colsample_bytree': 0.5563065750732683, 'n_estimators': 34}. Best is trial 12 with value: -2777.100309646695.\u001b[0m\n",
      "\u001b[32m[I 2023-08-29 05:05:21,279]\u001b[0m Trial 18 finished with value: -2777.100309646695 and parameters: {'lambda': 15.205885419262438, 'alpha': 10.08054622406131, 'learning_rate': 0.43250876268721067, 'colsample_bytree': 0.7446995552242408, 'n_estimators': 0}. Best is trial 12 with value: -2777.100309646695.\u001b[0m\n",
      "\u001b[32m[I 2023-08-29 05:05:21,703]\u001b[0m Trial 19 finished with value: -1202.4914612301297 and parameters: {'lambda': 7.359796888209352, 'alpha': 9.826123116020476, 'learning_rate': 0.4226645962540394, 'colsample_bytree': 0.7681431387667966, 'n_estimators': 85}. Best is trial 12 with value: -2777.100309646695.\u001b[0m\n",
      "\u001b[32m[I 2023-08-29 05:05:21,811]\u001b[0m Trial 20 finished with value: -1137.9873177281427 and parameters: {'lambda': 14.885866665239835, 'alpha': 12.582823746553503, 'learning_rate': 0.4833042261421324, 'colsample_bytree': 0.8147914424962674, 'n_estimators': 11}. Best is trial 12 with value: -2777.100309646695.\u001b[0m\n",
      "\u001b[32m[I 2023-08-29 05:05:21,859]\u001b[0m Trial 21 finished with value: -2777.100309646695 and parameters: {'lambda': 15.567715792808283, 'alpha': 8.374484248268596, 'learning_rate': 0.39777641672817754, 'colsample_bytree': 0.7294388921961723, 'n_estimators': 0}. Best is trial 12 with value: -2777.100309646695.\u001b[0m\n",
      "\u001b[32m[I 2023-08-29 05:05:22,014]\u001b[0m Trial 22 finished with value: -1148.3118490686984 and parameters: {'lambda': 15.52705962528299, 'alpha': 10.957633890420933, 'learning_rate': 0.40169183101429506, 'colsample_bytree': 0.7272942068524242, 'n_estimators': 28}. Best is trial 12 with value: -2777.100309646695.\u001b[0m\n",
      "\u001b[32m[I 2023-08-29 05:05:22,108]\u001b[0m Trial 23 finished with value: -1137.3635777969985 and parameters: {'lambda': 11.774462336523339, 'alpha': 7.946432310850186, 'learning_rate': 0.4547512541952933, 'colsample_bytree': 0.6637573992484085, 'n_estimators': 10}. Best is trial 12 with value: -2777.100309646695.\u001b[0m\n",
      "\u001b[32m[I 2023-08-29 05:05:22,187]\u001b[0m Trial 24 finished with value: -1134.1813163389959 and parameters: {'lambda': 13.331804382713852, 'alpha': 10.10577463523045, 'learning_rate': 0.3938973439090965, 'colsample_bytree': 0.7228993612606053, 'n_estimators': 9}. Best is trial 12 with value: -2777.100309646695.\u001b[0m\n",
      "\u001b[32m[I 2023-08-29 05:05:22,672]\u001b[0m Trial 25 finished with value: -1179.9823623735472 and parameters: {'lambda': 10.32310861254063, 'alpha': 11.537024243647643, 'learning_rate': 0.3080670088271118, 'colsample_bytree': 0.8868621302871313, 'n_estimators': 100}. Best is trial 12 with value: -2777.100309646695.\u001b[0m\n",
      "\u001b[32m[I 2023-08-29 05:05:22,907]\u001b[0m Trial 26 finished with value: -1154.938975201511 and parameters: {'lambda': 15.811685663381606, 'alpha': 10.485299625716562, 'learning_rate': 0.33019686554771827, 'colsample_bytree': 0.78530228192338, 'n_estimators': 45}. Best is trial 12 with value: -2777.100309646695.\u001b[0m\n",
      "\u001b[32m[I 2023-08-29 05:05:22,955]\u001b[0m Trial 27 finished with value: -2777.100309646695 and parameters: {'lambda': 8.204906991897042, 'alpha': 7.061553196246709, 'learning_rate': 0.4634112954883784, 'colsample_bytree': 0.6412087754431279, 'n_estimators': 0}. Best is trial 12 with value: -2777.100309646695.\u001b[0m\n",
      "\u001b[32m[I 2023-08-29 05:05:23,126]\u001b[0m Trial 28 finished with value: -1159.7372659504913 and parameters: {'lambda': 8.421154924315935, 'alpha': 7.27313166267482, 'learning_rate': 0.47575621798360807, 'colsample_bytree': 0.6300433629375971, 'n_estimators': 26}. Best is trial 12 with value: -2777.100309646695.\u001b[0m\n",
      "\u001b[32m[I 2023-08-29 05:05:23,255]\u001b[0m Trial 29 finished with value: -1146.3527868926421 and parameters: {'lambda': 14.424565493407668, 'alpha': 7.039222759506173, 'learning_rate': 0.45012243345278374, 'colsample_bytree': 0.6963494728386505, 'n_estimators': 17}. Best is trial 12 with value: -2777.100309646695.\u001b[0m\n",
      "\u001b[32m[I 2023-08-29 05:05:23,333]\u001b[0m Trial 30 finished with value: -1292.0275673322385 and parameters: {'lambda': 8.25002045801, 'alpha': 8.055376472602122, 'learning_rate': 0.26799047715355995, 'colsample_bytree': 0.44507219659050506, 'n_estimators': 7}. Best is trial 12 with value: -2777.100309646695.\u001b[0m\n",
      "\u001b[32m[I 2023-08-29 05:05:23,398]\u001b[0m Trial 31 finished with value: -2777.100309646695 and parameters: {'lambda': 8.41868319548094, 'alpha': 9.381936009044859, 'learning_rate': 0.3977502576690152, 'colsample_bytree': 0.7479757779747569, 'n_estimators': 0}. Best is trial 12 with value: -2777.100309646695.\u001b[0m\n",
      "\u001b[32m[I 2023-08-29 05:05:23,491]\u001b[0m Trial 32 finished with value: -1140.6950674573397 and parameters: {'lambda': 8.526259310527115, 'alpha': 8.748260738052858, 'learning_rate': 0.3895921183854732, 'colsample_bytree': 0.8452137210555095, 'n_estimators': 8}. Best is trial 12 with value: -2777.100309646695.\u001b[0m\n",
      "\u001b[32m[I 2023-08-29 05:05:23,602]\u001b[0m Trial 33 finished with value: -1146.441983902775 and parameters: {'lambda': 7.927784229528088, 'alpha': 7.468197658062277, 'learning_rate': 0.4208343477653085, 'colsample_bytree': 0.7015778504829709, 'n_estimators': 15}. Best is trial 12 with value: -2777.100309646695.\u001b[0m\n",
      "\u001b[32m[I 2023-08-29 05:05:23,649]\u001b[0m Trial 34 finished with value: -2777.100309646695 and parameters: {'lambda': 16.646238307354615, 'alpha': 9.407197064037899, 'learning_rate': 0.35735789771345255, 'colsample_bytree': 0.7506259602761652, 'n_estimators': 0}. Best is trial 12 with value: -2777.100309646695.\u001b[0m\n",
      "\u001b[32m[I 2023-08-29 05:05:23,712]\u001b[0m Trial 35 finished with value: -1213.6228516798224 and parameters: {'lambda': 16.475718376732605, 'alpha': 9.255164191212925, 'learning_rate': 0.33966504158987926, 'colsample_bytree': 0.7635446867753471, 'n_estimators': 5}. Best is trial 12 with value: -2777.100309646695.\u001b[0m\n",
      "\u001b[32m[I 2023-08-29 05:05:23,866]\u001b[0m Trial 36 finished with value: -1140.100100046076 and parameters: {'lambda': 16.8106045523804, 'alpha': 9.82450293404875, 'learning_rate': 0.3004457566125951, 'colsample_bytree': 0.7977574935326379, 'n_estimators': 21}. Best is trial 12 with value: -2777.100309646695.\u001b[0m\n",
      "\u001b[32m[I 2023-08-29 05:05:24,088]\u001b[0m Trial 37 finished with value: -1164.1767259214278 and parameters: {'lambda': 12.020447859197043, 'alpha': 8.460162048351478, 'learning_rate': 0.45916004816783607, 'colsample_bytree': 0.5254268129965863, 'n_estimators': 48}. Best is trial 12 with value: -2777.100309646695.\u001b[0m\n",
      "\u001b[32m[I 2023-08-29 05:05:24,233]\u001b[0m Trial 38 finished with value: -1159.8461914035302 and parameters: {'lambda': 8.888494333402603, 'alpha': 12.498952777670958, 'learning_rate': 0.42806351163315587, 'colsample_bytree': 0.6443654319492566, 'n_estimators': 29}. Best is trial 12 with value: -2777.100309646695.\u001b[0m\n",
      "\u001b[32m[I 2023-08-29 05:05:24,295]\u001b[0m Trial 39 finished with value: -1151.9484864892152 and parameters: {'lambda': 10.413249177112823, 'alpha': 7.802948442891598, 'learning_rate': 0.38231001342579674, 'colsample_bytree': 0.576299099626136, 'n_estimators': 6}. Best is trial 12 with value: -2777.100309646695.\u001b[0m\n",
      "\u001b[32m[I 2023-08-29 05:05:24,422]\u001b[0m Trial 40 finished with value: -1141.3501745200983 and parameters: {'lambda': 16.97662470661207, 'alpha': 7.0013915556140125, 'learning_rate': 0.435225768466941, 'colsample_bytree': 0.7123364733134099, 'n_estimators': 16}. Best is trial 12 with value: -2777.100309646695.\u001b[0m\n",
      "\u001b[32m[I 2023-08-29 05:05:24,484]\u001b[0m Trial 41 finished with value: -1990.1159103566067 and parameters: {'lambda': 14.883761871136947, 'alpha': 9.613864735195115, 'learning_rate': 0.3665506477804528, 'colsample_bytree': 0.7485323724573242, 'n_estimators': 1}. Best is trial 12 with value: -2777.100309646695.\u001b[0m\n",
      "\u001b[32m[I 2023-08-29 05:05:24,548]\u001b[0m Trial 42 finished with value: -1775.1434097563722 and parameters: {'lambda': 9.032105515818827, 'alpha': 10.31446482236229, 'learning_rate': 0.4708695676746921, 'colsample_bytree': 0.672453828324399, 'n_estimators': 1}. Best is trial 12 with value: -2777.100309646695.\u001b[0m\n",
      "\u001b[32m[I 2023-08-29 05:05:24,628]\u001b[0m Trial 43 finished with value: -1169.6836578358493 and parameters: {'lambda': 16.374634138992597, 'alpha': 16.790116453517324, 'learning_rate': 0.4091586582623371, 'colsample_bytree': 0.7413371716539952, 'n_estimators': 5}. Best is trial 12 with value: -2777.100309646695.\u001b[0m\n",
      "\u001b[32m[I 2023-08-29 05:05:24,756]\u001b[0m Trial 44 finished with value: -1139.3733985497627 and parameters: {'lambda': 9.520137415988842, 'alpha': 8.318789432351121, 'learning_rate': 0.3730349100487436, 'colsample_bytree': 0.8092102697630001, 'n_estimators': 13}. Best is trial 12 with value: -2777.100309646695.\u001b[0m\n",
      "\u001b[32m[I 2023-08-29 05:05:25,221]\u001b[0m Trial 45 finished with value: -1165.1434740502223 and parameters: {'lambda': 13.403230328347213, 'alpha': 15.293752967199158, 'learning_rate': 0.2949224834341213, 'colsample_bytree': 0.854624546383155, 'n_estimators': 56}. Best is trial 12 with value: -2777.100309646695.\u001b[0m\n",
      "\u001b[32m[I 2023-08-29 05:05:25,282]\u001b[0m Trial 46 finished with value: -2777.100309646695 and parameters: {'lambda': 15.787422981522555, 'alpha': 9.052868147283224, 'learning_rate': 0.3461846856280256, 'colsample_bytree': 0.7518038853374749, 'n_estimators': 0}. Best is trial 12 with value: -2777.100309646695.\u001b[0m\n",
      "\u001b[32m[I 2023-08-29 05:05:25,344]\u001b[0m Trial 47 finished with value: -1255.5012938048096 and parameters: {'lambda': 15.821098578182935, 'alpha': 8.972778274819358, 'learning_rate': 0.34633118726631573, 'colsample_bytree': 0.7555367745428009, 'n_estimators': 4}. Best is trial 12 with value: -2777.100309646695.\u001b[0m\n",
      "\u001b[32m[I 2023-08-29 05:05:25,472]\u001b[0m Trial 48 finished with value: -1141.8308946439736 and parameters: {'lambda': 14.097666831954935, 'alpha': 7.6712276520349265, 'learning_rate': 0.43922886567037034, 'colsample_bytree': 0.6502933992229837, 'n_estimators': 13}. Best is trial 12 with value: -2777.100309646695.\u001b[0m\n",
      "\u001b[32m[I 2023-08-29 05:05:25,707]\u001b[0m Trial 49 finished with value: -1151.9483667726752 and parameters: {'lambda': 12.68251296873117, 'alpha': 10.86935407009098, 'learning_rate': 0.32057611504753103, 'colsample_bytree': 0.68607740663853, 'n_estimators': 42}. Best is trial 12 with value: -2777.100309646695.\u001b[0m\n",
      "\u001b[32m[I 2023-08-29 05:05:25,997]\u001b[0m Trial 50 finished with value: -1178.771958498881 and parameters: {'lambda': 16.02249871276148, 'alpha': 8.232403956006872, 'learning_rate': 0.4958238460405513, 'colsample_bytree': 0.5921105469571595, 'n_estimators': 72}. Best is trial 12 with value: -2777.100309646695.\u001b[0m\n",
      "\u001b[32m[I 2023-08-29 05:05:26,044]\u001b[0m Trial 51 finished with value: -1933.1873543351837 and parameters: {'lambda': 15.1763588899205, 'alpha': 9.565877182540603, 'learning_rate': 0.39524416452364497, 'colsample_bytree': 0.7857343562359047, 'n_estimators': 1}. Best is trial 12 with value: -2777.100309646695.\u001b[0m\n",
      "\u001b[32m[I 2023-08-29 05:05:26,090]\u001b[0m Trial 52 finished with value: -2777.100309646695 and parameters: {'lambda': 7.135198100057329, 'alpha': 8.667856175020344, 'learning_rate': 0.4075286246338508, 'colsample_bytree': 0.4725197337143535, 'n_estimators': 0}. Best is trial 12 with value: -2777.100309646695.\u001b[0m\n",
      "\u001b[32m[I 2023-08-29 05:05:26,154]\u001b[0m Trial 53 finished with value: -1228.6454158684962 and parameters: {'lambda': 7.210647127294706, 'alpha': 8.697845032772442, 'learning_rate': 0.35789960401205284, 'colsample_bytree': 0.48461223200276365, 'n_estimators': 6}. Best is trial 12 with value: -2777.100309646695.\u001b[0m\n",
      "\u001b[32m[I 2023-08-29 05:05:26,234]\u001b[0m Trial 54 finished with value: -1134.3265212455753 and parameters: {'lambda': 16.343772888291415, 'alpha': 13.572480524371974, 'learning_rate': 0.4145533538690941, 'colsample_bytree': 0.550626709532194, 'n_estimators': 10}. Best is trial 12 with value: -2777.100309646695.\u001b[0m\n",
      "\u001b[32m[I 2023-08-29 05:05:26,405]\u001b[0m Trial 55 finished with value: -1155.7338559439245 and parameters: {'lambda': 7.664214959567725, 'alpha': 7.603156442238748, 'learning_rate': 0.4655451350069282, 'colsample_bytree': 0.7236556451749702, 'n_estimators': 23}. Best is trial 12 with value: -2777.100309646695.\u001b[0m\n",
      "\u001b[32m[I 2023-08-29 05:05:26,483]\u001b[0m Trial 56 finished with value: -1182.5736342066598 and parameters: {'lambda': 9.963356840342811, 'alpha': 11.41524796644807, 'learning_rate': 0.2371664886986473, 'colsample_bytree': 0.8257432796814912, 'n_estimators': 8}. Best is trial 12 with value: -2777.100309646695.\u001b[0m\n",
      "\u001b[32m[I 2023-08-29 05:05:26,546]\u001b[0m Trial 57 finished with value: -1310.3237344850147 and parameters: {'lambda': 7.835694974892823, 'alpha': 9.957660738505338, 'learning_rate': 0.4076215116687061, 'colsample_bytree': 0.4361815371336606, 'n_estimators': 4}. Best is trial 12 with value: -2777.100309646695.\u001b[0m\n",
      "\u001b[32m[I 2023-08-29 05:05:26,594]\u001b[0m Trial 58 finished with value: -2777.100309646695 and parameters: {'lambda': 8.164950025879868, 'alpha': 9.379602041547077, 'learning_rate': 0.4398270173413987, 'colsample_bytree': 0.7678289268074735, 'n_estimators': 0}. Best is trial 12 with value: -2777.100309646695.\u001b[0m\n",
      "\u001b[32m[I 2023-08-29 05:05:26,737]\u001b[0m Trial 59 finished with value: -1155.8888109057698 and parameters: {'lambda': 8.89481363227111, 'alpha': 10.520529668854214, 'learning_rate': 0.440830913232014, 'colsample_bytree': 0.8642822379057156, 'n_estimators': 20}. Best is trial 12 with value: -2777.100309646695.\u001b[0m\n",
      "\u001b[32m[I 2023-08-29 05:05:26,843]\u001b[0m Trial 60 finished with value: -1139.6905291816274 and parameters: {'lambda': 14.44228148433987, 'alpha': 9.141712394156768, 'learning_rate': 0.4890628738862475, 'colsample_bytree': 0.7736710835180995, 'n_estimators': 12}. Best is trial 12 with value: -2777.100309646695.\u001b[0m\n",
      "\u001b[32m[I 2023-08-29 05:05:26,891]\u001b[0m Trial 61 finished with value: -2777.100309646695 and parameters: {'lambda': 8.125960255212373, 'alpha': 9.337584257162654, 'learning_rate': 0.38649030654219607, 'colsample_bytree': 0.7373785950280674, 'n_estimators': 0}. Best is trial 12 with value: -2777.100309646695.\u001b[0m\n",
      "\u001b[32m[I 2023-08-29 05:05:26,965]\u001b[0m Trial 62 finished with value: -1211.299285519065 and parameters: {'lambda': 11.553532746342862, 'alpha': 10.217361314493267, 'learning_rate': 0.3854641943188664, 'colsample_bytree': 0.7090939070987562, 'n_estimators': 4}. Best is trial 12 with value: -2777.100309646695.\u001b[0m\n",
      "\u001b[32m[I 2023-08-29 05:05:27,027]\u001b[0m Trial 63 finished with value: -1348.8746748672772 and parameters: {'lambda': 15.118481345668318, 'alpha': 9.698495550816508, 'learning_rate': 0.3701044285208752, 'colsample_bytree': 0.7409891505502259, 'n_estimators': 3}. Best is trial 12 with value: -2777.100309646695.\u001b[0m\n",
      "\u001b[32m[I 2023-08-29 05:05:27,090]\u001b[0m Trial 64 finished with value: -1230.5589818874546 and parameters: {'lambda': 7.172947746496987, 'alpha': 9.069305694605024, 'learning_rate': 0.3225369329545996, 'colsample_bytree': 0.4001396620925219, 'n_estimators': 9}. Best is trial 12 with value: -2777.100309646695.\u001b[0m\n",
      "\u001b[32m[I 2023-08-29 05:05:27,186]\u001b[0m Trial 65 finished with value: -1153.9631168998649 and parameters: {'lambda': 7.462768854198651, 'alpha': 8.630118046985652, 'learning_rate': 0.4237453414180532, 'colsample_bytree': 0.44119144963830187, 'n_estimators': 16}. Best is trial 12 with value: -2777.100309646695.\u001b[0m\n",
      "\u001b[32m[I 2023-08-29 05:05:27,237]\u001b[0m Trial 66 finished with value: -2777.100309646695 and parameters: {'lambda': 15.625268475677903, 'alpha': 8.205134211254295, 'learning_rate': 0.35336588660417545, 'colsample_bytree': 0.7351649730480879, 'n_estimators': 0}. Best is trial 12 with value: -2777.100309646695.\u001b[0m\n",
      "\u001b[32m[I 2023-08-29 05:05:27,313]\u001b[0m Trial 67 finished with value: -1137.736380396318 and parameters: {'lambda': 8.680169520894893, 'alpha': 8.03436677786302, 'learning_rate': 0.44360413622913564, 'colsample_bytree': 0.8085549651336851, 'n_estimators': 7}. Best is trial 12 with value: -2777.100309646695.\u001b[0m\n",
      "\u001b[32m[I 2023-08-29 05:05:27,393]\u001b[0m Trial 68 finished with value: -1166.896648805936 and parameters: {'lambda': 7.056091076517844, 'alpha': 7.440920607221614, 'learning_rate': 0.4564461155633832, 'colsample_bytree': 0.45824338670608616, 'n_estimators': 12}. Best is trial 12 with value: -2777.100309646695.\u001b[0m\n",
      "\u001b[32m[I 2023-08-29 05:05:27,663]\u001b[0m Trial 69 finished with value: -1159.2679361064277 and parameters: {'lambda': 16.677873966877495, 'alpha': 8.780834144799645, 'learning_rate': 0.3358088968442178, 'colsample_bytree': 0.5048972167721726, 'n_estimators': 69}. Best is trial 12 with value: -2777.100309646695.\u001b[0m\n",
      "\u001b[32m[I 2023-08-29 05:05:27,724]\u001b[0m Trial 70 finished with value: -1212.5192469089718 and parameters: {'lambda': 8.183054216287637, 'alpha': 9.473827994919294, 'learning_rate': 0.4798758712264691, 'colsample_bytree': 0.7883503588706274, 'n_estimators': 3}. Best is trial 12 with value: -2777.100309646695.\u001b[0m\n",
      "\u001b[32m[I 2023-08-29 05:05:27,771]\u001b[0m Trial 71 finished with value: -2777.100309646695 and parameters: {'lambda': 15.443862048363199, 'alpha': 9.3462942067697, 'learning_rate': 0.397540087428797, 'colsample_bytree': 0.7263383487090508, 'n_estimators': 0}. Best is trial 12 with value: -2777.100309646695.\u001b[0m\n",
      "\u001b[32m[I 2023-08-29 05:05:27,852]\u001b[0m Trial 72 finished with value: -1139.0369919516875 and parameters: {'lambda': 16.10505158004867, 'alpha': 9.892119776884735, 'learning_rate': 0.4007912385914865, 'colsample_bytree': 0.7154903056316172, 'n_estimators': 7}. Best is trial 12 with value: -2777.100309646695.\u001b[0m\n",
      "\u001b[32m[I 2023-08-29 05:05:27,897]\u001b[0m Trial 73 finished with value: -2777.100309646695 and parameters: {'lambda': 7.992494188620231, 'alpha': 9.284343494604592, 'learning_rate': 0.42659462544347615, 'colsample_bytree': 0.7537882030032778, 'n_estimators': 0}. Best is trial 12 with value: -2777.100309646695.\u001b[0m\n",
      "\u001b[32m[I 2023-08-29 05:05:27,945]\u001b[0m Trial 74 finished with value: -2777.100309646695 and parameters: {'lambda': 8.077876282466924, 'alpha': 9.235463728833103, 'learning_rate': 0.37904003498991296, 'colsample_bytree': 0.7638627963903662, 'n_estimators': 0}. Best is trial 12 with value: -2777.100309646695.\u001b[0m\n",
      "\u001b[32m[I 2023-08-29 05:05:28,005]\u001b[0m Trial 75 finished with value: -1370.4644134179412 and parameters: {'lambda': 9.29153006594781, 'alpha': 8.112452799353246, 'learning_rate': 0.35389786310638016, 'colsample_bytree': 0.6925803692782275, 'n_estimators': 3}. Best is trial 12 with value: -2777.100309646695.\u001b[0m\n",
      "\u001b[32m[I 2023-08-29 05:05:28,085]\u001b[0m Trial 76 finished with value: -1135.1932970550213 and parameters: {'lambda': 14.691039405545938, 'alpha': 9.28430188142425, 'learning_rate': 0.37616026741810027, 'colsample_bytree': 0.7675283017361703, 'n_estimators': 9}. Best is trial 12 with value: -2777.100309646695.\u001b[0m\n",
      "\u001b[32m[I 2023-08-29 05:05:28,370]\u001b[0m Trial 77 finished with value: -1173.0133234565315 and parameters: {'lambda': 15.731889581031728, 'alpha': 8.438665342755279, 'learning_rate': 0.41356979507129027, 'colsample_bytree': 0.4635242329854908, 'n_estimators': 80}. Best is trial 12 with value: -2777.100309646695.\u001b[0m\n",
      "\u001b[32m[I 2023-08-29 05:05:28,480]\u001b[0m Trial 78 finished with value: -1167.7743505308586 and parameters: {'lambda': 7.807572208661634, 'alpha': 8.916493171319514, 'learning_rate': 0.15436187562621229, 'colsample_bytree': 0.7499648982363374, 'n_estimators': 14}. Best is trial 12 with value: -2777.100309646695.\u001b[0m\n",
      "\u001b[32m[I 2023-08-29 05:05:28,543]\u001b[0m Trial 79 finished with value: -1412.4928677750972 and parameters: {'lambda': 8.463309257106149, 'alpha': 12.045461288481658, 'learning_rate': 0.2814088041751228, 'colsample_bytree': 0.42850461330361095, 'n_estimators': 5}. Best is trial 12 with value: -2777.100309646695.\u001b[0m\n",
      "\u001b[32m[I 2023-08-29 05:05:28,623]\u001b[0m Trial 80 finished with value: -1138.7356202799638 and parameters: {'lambda': 10.711939349764236, 'alpha': 10.657514945957299, 'learning_rate': 0.3874700786307348, 'colsample_bytree': 0.6698198608440813, 'n_estimators': 10}. Best is trial 12 with value: -2777.100309646695.\u001b[0m\n",
      "\u001b[32m[I 2023-08-29 05:05:28,672]\u001b[0m Trial 81 finished with value: -1272.230016397747 and parameters: {'lambda': 15.57891670323533, 'alpha': 7.795480230369933, 'learning_rate': 0.4273385516164333, 'colsample_bytree': 0.7301261681790578, 'n_estimators': 3}. Best is trial 12 with value: -2777.100309646695.\u001b[0m\n",
      "\u001b[32m[I 2023-08-29 05:05:28,718]\u001b[0m Trial 82 finished with value: -1384.5684223566147 and parameters: {'lambda': 8.10393836836923, 'alpha': 11.008907028737717, 'learning_rate': 0.44857057980206083, 'colsample_bytree': 0.7619901483105251, 'n_estimators': 2}. Best is trial 12 with value: -2777.100309646695.\u001b[0m\n",
      "\u001b[32m[I 2023-08-29 05:05:28,798]\u001b[0m Trial 83 finished with value: -1137.5001013370797 and parameters: {'lambda': 9.911053099367061, 'alpha': 10.04237883680519, 'learning_rate': 0.4657793726713093, 'colsample_bytree': 0.6252071039987996, 'n_estimators': 7}. Best is trial 12 with value: -2777.100309646695.\u001b[0m\n",
      "\u001b[32m[I 2023-08-29 05:05:28,846]\u001b[0m Trial 84 finished with value: -2777.100309646695 and parameters: {'lambda': 7.628599084318247, 'alpha': 7.232415714956522, 'learning_rate': 0.39975052344774903, 'colsample_bytree': 0.736067834466792, 'n_estimators': 0}. Best is trial 12 with value: -2777.100309646695.\u001b[0m\n",
      "\u001b[32m[I 2023-08-29 05:05:28,908]\u001b[0m Trial 85 finished with value: -1188.6651790220808 and parameters: {'lambda': 7.547976608289946, 'alpha': 7.19940303725057, 'learning_rate': 0.3652505379610538, 'colsample_bytree': 0.7044652741037898, 'n_estimators': 5}. Best is trial 12 with value: -2777.100309646695.\u001b[0m\n",
      "\u001b[32m[I 2023-08-29 05:05:28,972]\u001b[0m Trial 86 finished with value: -1462.623397198207 and parameters: {'lambda': 8.76183150127525, 'alpha': 7.417246652933575, 'learning_rate': 0.40506948430618095, 'colsample_bytree': 0.7765307299150834, 'n_estimators': 2}. Best is trial 12 with value: -2777.100309646695.\u001b[0m\n",
      "\u001b[32m[I 2023-08-29 05:05:29,019]\u001b[0m Trial 87 finished with value: -2777.100309646695 and parameters: {'lambda': 15.295412351202716, 'alpha': 10.28628178578222, 'learning_rate': 0.3828168945241211, 'colsample_bytree': 0.7251836324537186, 'n_estimators': 0}. Best is trial 12 with value: -2777.100309646695.\u001b[0m\n",
      "\u001b[32m[I 2023-08-29 05:05:29,084]\u001b[0m Trial 88 finished with value: -1157.3205533228452 and parameters: {'lambda': 9.161916300495642, 'alpha': 8.982396643420275, 'learning_rate': 0.34965906918240464, 'colsample_bytree': 0.8003631602487197, 'n_estimators': 6}. Best is trial 12 with value: -2777.100309646695.\u001b[0m\n",
      "\u001b[32m[I 2023-08-29 05:05:29,179]\u001b[0m Trial 89 finished with value: -1134.9925700745728 and parameters: {'lambda': 16.19197276290917, 'alpha': 8.461443431904035, 'learning_rate': 0.37899707991817994, 'colsample_bytree': 0.6806136368853779, 'n_estimators': 11}. Best is trial 12 with value: -2777.100309646695.\u001b[0m\n",
      "\u001b[32m[I 2023-08-29 05:05:29,226]\u001b[0m Trial 90 finished with value: -2777.100309646695 and parameters: {'lambda': 7.910242869926616, 'alpha': 9.683086973171285, 'learning_rate': 0.33933576122333403, 'colsample_bytree': 0.7530014692520398, 'n_estimators': 0}. Best is trial 12 with value: -2777.100309646695.\u001b[0m\n",
      "\u001b[32m[I 2023-08-29 05:05:29,290]\u001b[0m Trial 91 finished with value: -1436.4757546104986 and parameters: {'lambda': 8.49502859958904, 'alpha': 9.328136703313845, 'learning_rate': 0.41893012442386834, 'colsample_bytree': 0.6563403120735056, 'n_estimators': 2}. Best is trial 12 with value: -2777.100309646695.\u001b[0m\n",
      "\u001b[32m[I 2023-08-29 05:05:29,834]\u001b[0m Trial 92 finished with value: -1194.1450199604244 and parameters: {'lambda': 13.742786898660597, 'alpha': 8.30540283010596, 'learning_rate': 0.43055259372975657, 'colsample_bytree': 0.7907254581953667, 'n_estimators': 97}. Best is trial 12 with value: -2777.100309646695.\u001b[0m\n",
      "\u001b[32m[I 2023-08-29 05:05:29,928]\u001b[0m Trial 93 finished with value: -1173.6031955422502 and parameters: {'lambda': 7.386805466492467, 'alpha': 9.13827946860053, 'learning_rate': 0.3919690551689244, 'colsample_bytree': 0.7664048885463649, 'n_estimators': 5}. Best is trial 12 with value: -2777.100309646695.\u001b[0m\n",
      "\u001b[32m[I 2023-08-29 05:05:30,053]\u001b[0m Trial 94 finished with value: -1136.4133684185977 and parameters: {'lambda': 15.440833500590971, 'alpha': 8.590643410695918, 'learning_rate': 0.41160715389800273, 'colsample_bytree': 0.7400857082213953, 'n_estimators': 9}. Best is trial 12 with value: -2777.100309646695.\u001b[0m\n",
      "\u001b[32m[I 2023-08-29 05:05:30,118]\u001b[0m Trial 95 finished with value: -2777.100309646695 and parameters: {'lambda': 8.058771507865208, 'alpha': 9.74382444796397, 'learning_rate': 0.39624253456359604, 'colsample_bytree': 0.7187125317655729, 'n_estimators': 0}. Best is trial 12 with value: -2777.100309646695.\u001b[0m\n",
      "\u001b[32m[I 2023-08-29 05:05:30,180]\u001b[0m Trial 96 finished with value: -1453.2288565413896 and parameters: {'lambda': 8.34941467451569, 'alpha': 7.958178356816097, 'learning_rate': 0.31166857214604726, 'colsample_bytree': 0.530760420472347, 'n_estimators': 3}. Best is trial 12 with value: -2777.100309646695.\u001b[0m\n",
      "\u001b[32m[I 2023-08-29 05:05:30,306]\u001b[0m Trial 97 finished with value: -1142.6764474417662 and parameters: {'lambda': 14.745867506915932, 'alpha': 10.000597012368551, 'learning_rate': 0.36234888691216366, 'colsample_bytree': 0.7279078889332974, 'n_estimators': 18}. Best is trial 12 with value: -2777.100309646695.\u001b[0m\n",
      "\u001b[32m[I 2023-08-29 05:05:30,385]\u001b[0m Trial 98 finished with value: -1142.6431963988234 and parameters: {'lambda': 7.733795649719614, 'alpha': 9.509372117781252, 'learning_rate': 0.37861731267309257, 'colsample_bytree': 0.8194389042806933, 'n_estimators': 7}. Best is trial 12 with value: -2777.100309646695.\u001b[0m\n",
      "\u001b[32m[I 2023-08-29 05:05:30,542]\u001b[0m Trial 99 finished with value: -1164.647196068112 and parameters: {'lambda': 7.257980346374013, 'alpha': 7.13590873889242, 'learning_rate': 0.4385582775358732, 'colsample_bytree': 0.4082726844271395, 'n_estimators': 36}. Best is trial 12 with value: -2777.100309646695.\u001b[0m\n",
      "\u001b[32m[I 2023-08-29 05:05:30,652]\u001b[0m Trial 100 finished with value: -1136.5541478846492 and parameters: {'lambda': 14.991474127666605, 'alpha': 8.876401377092417, 'learning_rate': 0.39869301757471565, 'colsample_bytree': 0.7479556359261861, 'n_estimators': 14}. Best is trial 12 with value: -2777.100309646695.\u001b[0m\n",
      "\u001b[32m[I 2023-08-29 05:05:30,700]\u001b[0m Trial 101 finished with value: -2777.100309646695 and parameters: {'lambda': 16.49229042534097, 'alpha': 9.502534268944421, 'learning_rate': 0.42258337401228174, 'colsample_bytree': 0.7022217087825795, 'n_estimators': 0}. Best is trial 12 with value: -2777.100309646695.\u001b[0m\n",
      "\u001b[32m[I 2023-08-29 05:05:30,750]\u001b[0m Trial 102 finished with value: -1398.7331791776392 and parameters: {'lambda': 16.901452618119762, 'alpha': 8.706416638195737, 'learning_rate': 0.4508465422531367, 'colsample_bytree': 0.6905977974863695, 'n_estimators': 2}. Best is trial 12 with value: -2777.100309646695.\u001b[0m\n",
      "\u001b[32m[I 2023-08-29 05:05:30,812]\u001b[0m Trial 103 finished with value: -1181.128585901527 and parameters: {'lambda': 16.58809826854387, 'alpha': 9.030096874797398, 'learning_rate': 0.4330041922308724, 'colsample_bytree': 0.7015075708302934, 'n_estimators': 4}. Best is trial 12 with value: -2777.100309646695.\u001b[0m\n",
      "\u001b[32m[I 2023-08-29 05:05:30,859]\u001b[0m Trial 104 finished with value: -2777.100309646695 and parameters: {'lambda': 8.672230004526284, 'alpha': 13.623494635513522, 'learning_rate': 0.3595832783225763, 'colsample_bytree': 0.7996417180901688, 'n_estimators': 0}. Best is trial 12 with value: -2777.100309646695.\u001b[0m\n",
      "\u001b[32m[I 2023-08-29 05:05:30,937]\u001b[0m Trial 105 finished with value: -1186.1054755508335 and parameters: {'lambda': 8.152403691567464, 'alpha': 9.29228685174181, 'learning_rate': 0.3700030480092995, 'colsample_bytree': 0.777098852594822, 'n_estimators': 5}. Best is trial 12 with value: -2777.100309646695.\u001b[0m\n",
      "\u001b[32m[I 2023-08-29 05:05:30,984]\u001b[0m Trial 106 finished with value: -2777.100309646695 and parameters: {'lambda': 8.704924724091745, 'alpha': 13.37716055513075, 'learning_rate': 0.4083177370647696, 'colsample_bytree': 0.8366910870368381, 'n_estimators': 0}. Best is trial 12 with value: -2777.100309646695.\u001b[0m\n",
      "\u001b[32m[I 2023-08-29 05:05:31,076]\u001b[0m Trial 107 finished with value: -1137.597721153271 and parameters: {'lambda': 15.303034464486279, 'alpha': 10.323403475558752, 'learning_rate': 0.468435083527607, 'colsample_bytree': 0.8728282574273627, 'n_estimators': 8}. Best is trial 12 with value: -2777.100309646695.\u001b[0m\n",
      "\u001b[32m[I 2023-08-29 05:05:31,139]\u001b[0m Trial 108 finished with value: -1610.4654187704346 and parameters: {'lambda': 15.847547612621135, 'alpha': 13.878431992825211, 'learning_rate': 0.34060017462050945, 'colsample_bytree': 0.7565804752390057, 'n_estimators': 2}. Best is trial 12 with value: -2777.100309646695.\u001b[0m\n",
      "\u001b[32m[I 2023-08-29 05:05:31,438]\u001b[0m Trial 109 finished with value: -1169.0709332865274 and parameters: {'lambda': 16.268667814086097, 'alpha': 10.333120848185942, 'learning_rate': 0.41893305730032887, 'colsample_bytree': 0.7137620910343653, 'n_estimators': 54}. Best is trial 12 with value: -2777.100309646695.\u001b[0m\n",
      "\u001b[32m[I 2023-08-29 05:05:31,533]\u001b[0m Trial 110 finished with value: -1435.5304030079906 and parameters: {'lambda': 16.001173990376035, 'alpha': 9.768153877407753, 'learning_rate': 0.0996612076726334, 'colsample_bytree': 0.7150055577142642, 'n_estimators': 11}. Best is trial 12 with value: -2777.100309646695.\u001b[0m\n",
      "\u001b[32m[I 2023-08-29 05:05:31,616]\u001b[0m Trial 111 finished with value: -1485.2013405899647 and parameters: {'lambda': 16.451203690028116, 'alpha': 9.594224061086699, 'learning_rate': 0.40097526882785445, 'colsample_bytree': 0.8989170605143983, 'n_estimators': 2}. Best is trial 12 with value: -2777.100309646695.\u001b[0m\n",
      "\u001b[32m[I 2023-08-29 05:05:31,692]\u001b[0m Trial 112 finished with value: -1283.0246100959928 and parameters: {'lambda': 14.543321354762867, 'alpha': 9.738829727083116, 'learning_rate': 0.3256181394173391, 'colsample_bytree': 0.7237589155483264, 'n_estimators': 4}. Best is trial 12 with value: -2777.100309646695.\u001b[0m\n",
      "\u001b[32m[I 2023-08-29 05:05:31,739]\u001b[0m Trial 113 finished with value: -2777.100309646695 and parameters: {'lambda': 14.194054649895076, 'alpha': 10.198504752136003, 'learning_rate': 0.38532894050374966, 'colsample_bytree': 0.7449190407418889, 'n_estimators': 0}. Best is trial 12 with value: -2777.100309646695.\u001b[0m\n",
      "\u001b[32m[I 2023-08-29 05:05:31,820]\u001b[0m Trial 114 finished with value: -1161.8975918032465 and parameters: {'lambda': 7.598126574590144, 'alpha': 9.41253173195139, 'learning_rate': 0.35173681082005076, 'colsample_bytree': 0.7370237908422385, 'n_estimators': 6}. Best is trial 12 with value: -2777.100309646695.\u001b[0m\n",
      "\u001b[32m[I 2023-08-29 05:05:32,176]\u001b[0m Trial 115 finished with value: -1173.7443321594324 and parameters: {'lambda': 16.743990978172068, 'alpha': 9.89210223511918, 'learning_rate': 0.4578080315567748, 'colsample_bytree': 0.7558809858759579, 'n_estimators': 59}. Best is trial 12 with value: -2777.100309646695.\u001b[0m\n",
      "\u001b[32m[I 2023-08-29 05:05:32,230]\u001b[0m Trial 116 finished with value: -1423.7108518529897 and parameters: {'lambda': 7.954537387747312, 'alpha': 10.56763522722227, 'learning_rate': 0.4254369499804393, 'colsample_bytree': 0.6442571167832934, 'n_estimators': 2}. Best is trial 12 with value: -2777.100309646695.\u001b[0m\n",
      "\u001b[32m[I 2023-08-29 05:05:32,355]\u001b[0m Trial 117 finished with value: -1136.5448409763242 and parameters: {'lambda': 7.031881669201485, 'alpha': 7.6148803423714995, 'learning_rate': 0.38941663006952615, 'colsample_bytree': 0.7341744949329733, 'n_estimators': 8}. Best is trial 12 with value: -2777.100309646695.\u001b[0m\n",
      "\u001b[32m[I 2023-08-29 05:05:32,406]\u001b[0m Trial 118 finished with value: -2777.100309646695 and parameters: {'lambda': 12.798514413789595, 'alpha': 9.689286956581487, 'learning_rate': 0.3443334262512098, 'colsample_bytree': 0.7161188494690478, 'n_estimators': 0}. Best is trial 12 with value: -2777.100309646695.\u001b[0m\n",
      "\u001b[32m[I 2023-08-29 05:05:32,485]\u001b[0m Trial 119 finished with value: -1307.3453550938152 and parameters: {'lambda': 12.804032326259218, 'alpha': 14.763491578789562, 'learning_rate': 0.309765440160867, 'colsample_bytree': 0.8353984238650317, 'n_estimators': 4}. Best is trial 12 with value: -2777.100309646695.\u001b[0m\n",
      "\u001b[32m[I 2023-08-29 05:05:32,586]\u001b[0m Trial 120 finished with value: -1142.5524004404454 and parameters: {'lambda': 8.64506981910614, 'alpha': 13.469489274058459, 'learning_rate': 0.40578749494696614, 'colsample_bytree': 0.8414281768244681, 'n_estimators': 6}. Best is trial 12 with value: -2777.100309646695.\u001b[0m\n",
      "\u001b[32m[I 2023-08-29 05:05:32,637]\u001b[0m Trial 121 finished with value: -2777.100309646695 and parameters: {'lambda': 8.958306197002806, 'alpha': 13.84589457396231, 'learning_rate': 0.4146710635262325, 'colsample_bytree': 0.6992804427345115, 'n_estimators': 0}. Best is trial 12 with value: -2777.100309646695.\u001b[0m\n",
      "\u001b[32m[I 2023-08-29 05:05:32,683]\u001b[0m Trial 122 finished with value: -2777.100309646695 and parameters: {'lambda': 9.371419153785649, 'alpha': 13.199524723628873, 'learning_rate': 0.4434591914698973, 'colsample_bytree': 0.7975765006184846, 'n_estimators': 0}. Best is trial 12 with value: -2777.100309646695.\u001b[0m\n",
      "\u001b[32m[I 2023-08-29 05:05:32,748]\u001b[0m Trial 123 finished with value: -1400.8602415309258 and parameters: {'lambda': 7.933986143736723, 'alpha': 9.153534959129793, 'learning_rate': 0.33596692224962904, 'colsample_bytree': 0.7572118038158597, 'n_estimators': 3}. Best is trial 12 with value: -2777.100309646695.\u001b[0m\n",
      "\u001b[32m[I 2023-08-29 05:05:32,792]\u001b[0m Trial 124 finished with value: -1523.8698975042867 and parameters: {'lambda': 8.278235416927368, 'alpha': 8.235235246853783, 'learning_rate': 0.3737649018074941, 'colsample_bytree': 0.7771089722657832, 'n_estimators': 2}. Best is trial 12 with value: -2777.100309646695.\u001b[0m\n",
      "\u001b[32m[I 2023-08-29 05:05:32,840]\u001b[0m Trial 125 finished with value: -2777.100309646695 and parameters: {'lambda': 15.266982294095557, 'alpha': 10.150700795726566, 'learning_rate': 0.3946099883449897, 'colsample_bytree': 0.6092808257087018, 'n_estimators': 0}. Best is trial 12 with value: -2777.100309646695.\u001b[0m\n",
      "\u001b[32m[I 2023-08-29 05:05:32,905]\u001b[0m Trial 126 finished with value: -1177.6908652720322 and parameters: {'lambda': 15.572346205283507, 'alpha': 8.825193868238893, 'learning_rate': 0.39701177845368885, 'colsample_bytree': 0.6118183545167497, 'n_estimators': 5}. Best is trial 12 with value: -2777.100309646695.\u001b[0m\n",
      "\u001b[32m[I 2023-08-29 05:05:32,983]\u001b[0m Trial 127 finished with value: -1138.4439623676012 and parameters: {'lambda': 8.016803536230313, 'alpha': 7.838156770194441, 'learning_rate': 0.38126918416493594, 'colsample_bytree': 0.7843842651134473, 'n_estimators': 8}. Best is trial 12 with value: -2777.100309646695.\u001b[0m\n",
      "\u001b[32m[I 2023-08-29 05:05:33,047]\u001b[0m Trial 128 finished with value: -1206.4509304739888 and parameters: {'lambda': 8.350318846903114, 'alpha': 12.957941877444624, 'learning_rate': 0.3885782402480392, 'colsample_bytree': 0.5951143864434829, 'n_estimators': 4}. Best is trial 12 with value: -2777.100309646695.\u001b[0m\n",
      "\u001b[32m[I 2023-08-29 05:05:33,093]\u001b[0m Trial 129 finished with value: -2777.100309646695 and parameters: {'lambda': 8.731252094754286, 'alpha': 12.377340668156014, 'learning_rate': 0.3599370343447003, 'colsample_bytree': 0.8049376732929644, 'n_estimators': 0}. Best is trial 12 with value: -2777.100309646695.\u001b[0m\n",
      "\u001b[32m[I 2023-08-29 05:05:33,155]\u001b[0m Trial 130 finished with value: -1538.654777125535 and parameters: {'lambda': 7.6911219576092495, 'alpha': 12.210606291363419, 'learning_rate': 0.3665878687952852, 'colsample_bytree': 0.8053275663344115, 'n_estimators': 2}. Best is trial 12 with value: -2777.100309646695.\u001b[0m\n",
      "\u001b[32m[I 2023-08-29 05:05:33,202]\u001b[0m Trial 131 finished with value: -2777.100309646695 and parameters: {'lambda': 14.053305468647501, 'alpha': 13.120982206966326, 'learning_rate': 0.38528111363364753, 'colsample_bytree': 0.7217698616939583, 'n_estimators': 0}. Best is trial 12 with value: -2777.100309646695.\u001b[0m\n",
      "\u001b[32m[I 2023-08-29 05:05:33,266]\u001b[0m Trial 132 finished with value: -1560.3970252552501 and parameters: {'lambda': 13.93586952890952, 'alpha': 14.555195231960637, 'learning_rate': 0.3614537049075987, 'colsample_bytree': 0.7438113012774993, 'n_estimators': 2}. Best is trial 12 with value: -2777.100309646695.\u001b[0m\n",
      "\u001b[32m[I 2023-08-29 05:05:33,377]\u001b[0m Trial 133 finished with value: -1141.6130086478786 and parameters: {'lambda': 12.213929718438493, 'alpha': 8.504216256048592, 'learning_rate': 0.4365680690524687, 'colsample_bytree': 0.7681217345187887, 'n_estimators': 6}. Best is trial 12 with value: -2777.100309646695.\u001b[0m\n",
      "\u001b[32m[I 2023-08-29 05:05:33,439]\u001b[0m Trial 134 finished with value: -2777.100309646695 and parameters: {'lambda': 11.507409967888071, 'alpha': 14.159748651900314, 'learning_rate': 0.41102615702719236, 'colsample_bytree': 0.7015579199790557, 'n_estimators': 0}. Best is trial 12 with value: -2777.100309646695.\u001b[0m\n",
      "\u001b[32m[I 2023-08-29 05:05:33,519]\u001b[0m Trial 135 finished with value: -1188.7557314059945 and parameters: {'lambda': 9.424990963381882, 'alpha': 13.72048321000393, 'learning_rate': 0.41348403958198726, 'colsample_bytree': 0.8206657072075343, 'n_estimators': 4}. Best is trial 12 with value: -2777.100309646695.\u001b[0m\n",
      "\u001b[32m[I 2023-08-29 05:05:33,597]\u001b[0m Trial 136 finished with value: -1846.4015764614492 and parameters: {'lambda': 13.184563233805589, 'alpha': 14.056117805102254, 'learning_rate': 0.24916409761365665, 'colsample_bytree': 0.7048320081962847, 'n_estimators': 2}. Best is trial 12 with value: -2777.100309646695.\u001b[0m\n",
      "\u001b[32m[I 2023-08-29 05:05:33,754]\u001b[0m Trial 137 finished with value: -1188.0488327852927 and parameters: {'lambda': 8.90547584198367, 'alpha': 13.22844406668442, 'learning_rate': 0.20302984858614592, 'colsample_bytree': 0.6793081237028442, 'n_estimators': 10}. Best is trial 12 with value: -2777.100309646695.\u001b[0m\n",
      "\u001b[32m[I 2023-08-29 05:05:34,041]\u001b[0m Trial 138 finished with value: -1158.2134085685946 and parameters: {'lambda': 15.224838007776142, 'alpha': 10.036029472111895, 'learning_rate': 0.4183381905822585, 'colsample_bytree': 0.6283129393241667, 'n_estimators': 39}. Best is trial 12 with value: -2777.100309646695.\u001b[0m\n",
      "\u001b[32m[I 2023-08-29 05:05:34,120]\u001b[0m Trial 139 finished with value: -1136.5714879195684 and parameters: {'lambda': 15.815870569084403, 'alpha': 15.322563726860693, 'learning_rate': 0.4465194006575334, 'colsample_bytree': 0.7912887148002312, 'n_estimators': 7}. Best is trial 12 with value: -2777.100309646695.\u001b[0m\n",
      "\u001b[32m[I 2023-08-29 05:05:34,195]\u001b[0m Trial 140 finished with value: -1272.7024348333243 and parameters: {'lambda': 9.190054109587177, 'alpha': 12.83255480689024, 'learning_rate': 0.33023761135102375, 'colsample_bytree': 0.8582251060983573, 'n_estimators': 4}. Best is trial 12 with value: -2777.100309646695.\u001b[0m\n",
      "\u001b[32m[I 2023-08-29 05:05:34,243]\u001b[0m Trial 141 finished with value: -2777.100309646695 and parameters: {'lambda': 7.499011184167566, 'alpha': 9.491195744971295, 'learning_rate': 0.35767971107626284, 'colsample_bytree': 0.7326600592432684, 'n_estimators': 0}. Best is trial 12 with value: -2777.100309646695.\u001b[0m\n",
      "\u001b[32m[I 2023-08-29 05:05:34,289]\u001b[0m Trial 142 finished with value: -2777.100309646695 and parameters: {'lambda': 7.40334383650847, 'alpha': 9.639524433708507, 'learning_rate': 0.37122819970412035, 'colsample_bytree': 0.7326193566476461, 'n_estimators': 0}. Best is trial 12 with value: -2777.100309646695.\u001b[0m\n",
      "\u001b[32m[I 2023-08-29 05:05:34,351]\u001b[0m Trial 143 finished with value: -1586.18267622433 and parameters: {'lambda': 7.549301166352571, 'alpha': 9.283941225243803, 'learning_rate': 0.34485164585228306, 'colsample_bytree': 0.754241525449843, 'n_estimators': 2}. Best is trial 12 with value: -2777.100309646695.\u001b[0m\n",
      "\u001b[32m[I 2023-08-29 05:05:34,429]\u001b[0m Trial 144 finished with value: -1221.5446206370077 and parameters: {'lambda': 7.238979414126994, 'alpha': 8.956443327395933, 'learning_rate': 0.37123326071512336, 'colsample_bytree': 0.76941618382076, 'n_estimators': 4}. Best is trial 12 with value: -2777.100309646695.\u001b[0m\n",
      "\u001b[32m[I 2023-08-29 05:05:34,475]\u001b[0m Trial 145 finished with value: -2777.100309646695 and parameters: {'lambda': 9.951485984962595, 'alpha': 11.87537195845928, 'learning_rate': 0.4293199912244231, 'colsample_bytree': 0.6622610380828811, 'n_estimators': 0}. Best is trial 12 with value: -2777.100309646695.\u001b[0m\n",
      "\u001b[32m[I 2023-08-29 05:05:34,556]\u001b[0m Trial 146 finished with value: -1144.0073906326259 and parameters: {'lambda': 9.768149536391038, 'alpha': 11.300424435114707, 'learning_rate': 0.4307504067698597, 'colsample_bytree': 0.6671260276280899, 'n_estimators': 6}. Best is trial 12 with value: -2777.100309646695.\u001b[0m\n",
      "\u001b[32m[I 2023-08-29 05:05:34,633]\u001b[0m Trial 147 finished with value: -1405.974875201365 and parameters: {'lambda': 13.566263243962963, 'alpha': 10.782551584059805, 'learning_rate': 0.4427530477148912, 'colsample_bytree': 0.7470497328674796, 'n_estimators': 2}. Best is trial 12 with value: -2777.100309646695.\u001b[0m\n",
      "\u001b[32m[I 2023-08-29 05:05:34,679]\u001b[0m Trial 148 finished with value: -2777.100309646695 and parameters: {'lambda': 8.999801857478136, 'alpha': 7.369133709326984, 'learning_rate': 0.40821640726069314, 'colsample_bytree': 0.6922522151092309, 'n_estimators': 0}. Best is trial 12 with value: -2777.100309646695.\u001b[0m\n",
      "\u001b[32m[I 2023-08-29 05:05:34,758]\u001b[0m Trial 149 finished with value: -1289.9737366962559 and parameters: {'lambda': 8.132355982620332, 'alpha': 9.178228332327807, 'learning_rate': 0.40466512121495524, 'colsample_bytree': 0.7203856398520242, 'n_estimators': 3}. Best is trial 12 with value: -2777.100309646695.\u001b[0m\n",
      "\u001b[32m[I 2023-08-29 05:05:34,840]\u001b[0m Trial 150 finished with value: -1207.1312470611533 and parameters: {'lambda': 8.457203518771596, 'alpha': 7.522574810448881, 'learning_rate': 0.3443795174767163, 'colsample_bytree': 0.6848733526665847, 'n_estimators': 5}. Best is trial 12 with value: -2777.100309646695.\u001b[0m\n",
      "\u001b[32m[I 2023-08-29 05:05:34,901]\u001b[0m Trial 151 finished with value: -2777.100309646695 and parameters: {'lambda': 15.943847454779593, 'alpha': 9.730211047770245, 'learning_rate': 0.35378521315794303, 'colsample_bytree': 0.7095784086268447, 'n_estimators': 0}. Best is trial 12 with value: -2777.100309646695.\u001b[0m\n",
      "\u001b[32m[I 2023-08-29 05:05:34,978]\u001b[0m Trial 152 finished with value: -1499.5619683400716 and parameters: {'lambda': 7.8745250556126605, 'alpha': 9.756478992444615, 'learning_rate': 0.3853204527238967, 'colsample_bytree': 0.7429644309458705, 'n_estimators': 2}. Best is trial 12 with value: -2777.100309646695.\u001b[0m\n",
      "\u001b[32m[I 2023-08-29 05:05:35,041]\u001b[0m Trial 153 finished with value: -2777.100309646695 and parameters: {'lambda': 12.42323452448074, 'alpha': 13.227585357304378, 'learning_rate': 0.48329108138868876, 'colsample_bytree': 0.8119492669119258, 'n_estimators': 0}. Best is trial 12 with value: -2777.100309646695.\u001b[0m\n",
      "\u001b[32m[I 2023-08-29 05:05:35,107]\u001b[0m Trial 154 finished with value: -2777.100309646695 and parameters: {'lambda': 12.385326252019349, 'alpha': 12.462357750159898, 'learning_rate': 0.48472320954129167, 'colsample_bytree': 0.8097617163062417, 'n_estimators': 0}. Best is trial 12 with value: -2777.100309646695.\u001b[0m\n",
      "\u001b[32m[I 2023-08-29 05:05:35,598]\u001b[0m Trial 155 finished with value: -1205.5414053310376 and parameters: {'lambda': 8.797820057494025, 'alpha': 13.359168247415429, 'learning_rate': 0.4930582262963659, 'colsample_bytree': 0.7973414133637179, 'n_estimators': 80}. Best is trial 12 with value: -2777.100309646695.\u001b[0m\n",
      "\u001b[32m[I 2023-08-29 05:05:35,673]\u001b[0m Trial 156 finished with value: -1277.173003408996 and parameters: {'lambda': 14.177448360514637, 'alpha': 12.934717186811966, 'learning_rate': 0.4234108167738947, 'colsample_bytree': 0.8282170657359346, 'n_estimators': 3}. Best is trial 12 with value: -2777.100309646695.\u001b[0m\n",
      "\u001b[32m[I 2023-08-29 05:05:36,000]\u001b[0m Trial 157 finished with value: -1161.4083555642906 and parameters: {'lambda': 11.803523649258713, 'alpha': 14.129474191098055, 'learning_rate': 0.393405440162108, 'colsample_bytree': 0.5531592509647107, 'n_estimators': 48}. Best is trial 12 with value: -2777.100309646695.\u001b[0m\n",
      "\u001b[32m[I 2023-08-29 05:05:36,096]\u001b[0m Trial 158 finished with value: -1136.5196376408257 and parameters: {'lambda': 10.466062412892066, 'alpha': 13.842030553781917, 'learning_rate': 0.38053776427555236, 'colsample_bytree': 0.7592558748790661, 'n_estimators': 8}. Best is trial 12 with value: -2777.100309646695.\u001b[0m\n",
      "\u001b[32m[I 2023-08-29 05:05:36,155]\u001b[0m Trial 159 finished with value: -2777.100309646695 and parameters: {'lambda': 11.212979137312743, 'alpha': 14.264839874451262, 'learning_rate': 0.3728177319336867, 'colsample_bytree': 0.6429454556956714, 'n_estimators': 0}. Best is trial 12 with value: -2777.100309646695.\u001b[0m\n",
      "\u001b[32m[I 2023-08-29 05:05:36,342]\u001b[0m Trial 160 finished with value: -1152.4647730041856 and parameters: {'lambda': 8.62878117039001, 'alpha': 14.54587378670656, 'learning_rate': 0.3822888168023281, 'colsample_bytree': 0.739464297676226, 'n_estimators': 30}. Best is trial 12 with value: -2777.100309646695.\u001b[0m\n",
      "\u001b[32m[I 2023-08-29 05:05:36,404]\u001b[0m Trial 161 finished with value: -1535.7723128323091 and parameters: {'lambda': 11.267688809185017, 'alpha': 9.444357156317732, 'learning_rate': 0.37116036808126635, 'colsample_bytree': 0.7267968721244691, 'n_estimators': 2}. Best is trial 12 with value: -2777.100309646695.\u001b[0m\n",
      "\u001b[32m[I 2023-08-29 05:05:36,452]\u001b[0m Trial 162 finished with value: -2777.100309646695 and parameters: {'lambda': 7.42731297666849, 'alpha': 11.10919921952221, 'learning_rate': 0.41489751239068656, 'colsample_bytree': 0.726961921414111, 'n_estimators': 0}. Best is trial 12 with value: -2777.100309646695.\u001b[0m\n",
      "\u001b[32m[I 2023-08-29 05:05:36,516]\u001b[0m Trial 163 finished with value: -1165.2540577253646 and parameters: {'lambda': 8.289697121205867, 'alpha': 11.576011720243034, 'learning_rate': 0.4557736331973675, 'colsample_bytree': 0.78008173209139, 'n_estimators': 4}. Best is trial 12 with value: -2777.100309646695.\u001b[0m\n",
      "\u001b[32m[I 2023-08-29 05:05:36,596]\u001b[0m Trial 164 finished with value: -1151.1855957848293 and parameters: {'lambda': 14.915580234361553, 'alpha': 7.237555520334261, 'learning_rate': 0.3981501437138166, 'colsample_bytree': 0.6923538264244521, 'n_estimators': 6}. Best is trial 12 with value: -2777.100309646695.\u001b[0m\n",
      "\u001b[32m[I 2023-08-29 05:05:36,706]\u001b[0m Trial 165 finished with value: -1480.9742944275577 and parameters: {'lambda': 7.884666815387963, 'alpha': 12.269579250430679, 'learning_rate': 0.39458518609235227, 'colsample_bytree': 0.5987143888690367, 'n_estimators': 2}. Best is trial 12 with value: -2777.100309646695.\u001b[0m\n",
      "\u001b[32m[I 2023-08-29 05:05:36,768]\u001b[0m Trial 166 finished with value: -1195.3592794988208 and parameters: {'lambda': 8.547606417795999, 'alpha': 10.40421821678324, 'learning_rate': 0.40202589107014597, 'colsample_bytree': 0.7138234363272628, 'n_estimators': 4}. Best is trial 12 with value: -2777.100309646695.\u001b[0m\n",
      "\u001b[32m[I 2023-08-29 05:05:36,863]\u001b[0m Trial 167 finished with value: -2777.100309646695 and parameters: {'lambda': 16.97819234211939, 'alpha': 9.498608601937965, 'learning_rate': 0.40916556245625624, 'colsample_bytree': 0.573933202154588, 'n_estimators': 0}. Best is trial 12 with value: -2777.100309646695.\u001b[0m\n",
      "\u001b[32m[I 2023-08-29 05:05:36,926]\u001b[0m Trial 168 finished with value: -1577.1133719905354 and parameters: {'lambda': 16.917003076232028, 'alpha': 9.423879245040725, 'learning_rate': 0.3563917777314936, 'colsample_bytree': 0.6766225663520254, 'n_estimators': 2}. Best is trial 12 with value: -2777.100309646695.\u001b[0m\n",
      "\u001b[32m[I 2023-08-29 05:05:37,045]\u001b[0m Trial 169 finished with value: -1143.1337863963731 and parameters: {'lambda': 8.081496853740672, 'alpha': 9.9451955237238, 'learning_rate': 0.41892895664950486, 'colsample_bytree': 0.7365870454764925, 'n_estimators': 6}. Best is trial 12 with value: -2777.100309646695.\u001b[0m\n",
      "\u001b[32m[I 2023-08-29 05:05:37,090]\u001b[0m Trial 170 finished with value: -2777.100309646695 and parameters: {'lambda': 7.33150905812604, 'alpha': 8.764769953188399, 'learning_rate': 0.3881838031678919, 'colsample_bytree': 0.733855677756701, 'n_estimators': 0}. Best is trial 12 with value: -2777.100309646695.\u001b[0m\n",
      "\u001b[32m[I 2023-08-29 05:05:37,132]\u001b[0m Trial 171 finished with value: -2777.100309646695 and parameters: {'lambda': 14.209925584863914, 'alpha': 8.744419863720518, 'learning_rate': 0.36004842982979635, 'colsample_bytree': 0.7469372180126365, 'n_estimators': 0}. Best is trial 12 with value: -2777.100309646695.\u001b[0m\n",
      "\u001b[32m[I 2023-08-29 05:05:37,230]\u001b[0m Trial 172 finished with value: -1366.3526114354434 and parameters: {'lambda': 15.6517940506254, 'alpha': 9.052709997052018, 'learning_rate': 0.35987893600308396, 'colsample_bytree': 0.7654837723985859, 'n_estimators': 3}. Best is trial 12 with value: -2777.100309646695.\u001b[0m\n",
      "\u001b[32m[I 2023-08-29 05:05:37,326]\u001b[0m Trial 173 finished with value: -1621.6912298567945 and parameters: {'lambda': 12.97307588348883, 'alpha': 13.165058351607012, 'learning_rate': 0.33404309005998417, 'colsample_bytree': 0.8001968720719127, 'n_estimators': 2}. Best is trial 12 with value: -2777.100309646695.\u001b[0m\n",
      "\u001b[32m[I 2023-08-29 05:05:37,382]\u001b[0m Trial 174 finished with value: -2777.100309646695 and parameters: {'lambda': 13.727530633656194, 'alpha': 13.874054362248316, 'learning_rate': 0.38514907449179475, 'colsample_bytree': 0.7196258020071638, 'n_estimators': 0}. Best is trial 12 with value: -2777.100309646695.\u001b[0m\n",
      "\u001b[32m[I 2023-08-29 05:05:37,446]\u001b[0m Trial 175 finished with value: -1406.1676659932152 and parameters: {'lambda': 7.6476516693791385, 'alpha': 9.242666390451616, 'learning_rate': 0.4349360715239813, 'colsample_bytree': 0.7071046057693946, 'n_estimators': 2}. Best is trial 12 with value: -2777.100309646695.\u001b[0m\n",
      "\u001b[32m[I 2023-08-29 05:05:37,526]\u001b[0m Trial 176 finished with value: -1174.6332355432721 and parameters: {'lambda': 13.700342748037654, 'alpha': 12.68756039657654, 'learning_rate': 0.39514899208944604, 'colsample_bytree': 0.7236337815262361, 'n_estimators': 5}. Best is trial 12 with value: -2777.100309646695.\u001b[0m\n",
      "\u001b[32m[I 2023-08-29 05:05:37,584]\u001b[0m Trial 177 finished with value: -2777.100309646695 and parameters: {'lambda': 12.134157639609336, 'alpha': 12.609674351549616, 'learning_rate': 0.487421277673086, 'colsample_bytree': 0.837200384191986, 'n_estimators': 0}. Best is trial 12 with value: -2777.100309646695.\u001b[0m\n",
      "\u001b[32m[I 2023-08-29 05:05:37,632]\u001b[0m Trial 178 finished with value: -2777.100309646695 and parameters: {'lambda': 12.113784475204374, 'alpha': 12.997423822623212, 'learning_rate': 0.47943890422542673, 'colsample_bytree': 0.8483938773903651, 'n_estimators': 0}. Best is trial 12 with value: -2777.100309646695.\u001b[0m\n",
      "\u001b[32m[I 2023-08-29 05:05:37,696]\u001b[0m Trial 179 finished with value: -1160.111355903471 and parameters: {'lambda': 11.9538668694363, 'alpha': 12.773487213335066, 'learning_rate': 0.47562761307693946, 'colsample_bytree': 0.849548626114961, 'n_estimators': 4}. Best is trial 12 with value: -2777.100309646695.\u001b[0m\n",
      "\u001b[32m[I 2023-08-29 05:05:37,744]\u001b[0m Trial 180 finished with value: -2777.100309646695 and parameters: {'lambda': 12.397862185069712, 'alpha': 13.438976870378733, 'learning_rate': 0.4793452706742559, 'colsample_bytree': 0.8629392726542309, 'n_estimators': 0}. Best is trial 12 with value: -2777.100309646695.\u001b[0m\n",
      "\u001b[32m[I 2023-08-29 05:05:37,805]\u001b[0m Trial 181 finished with value: -1524.175749941317 and parameters: {'lambda': 15.327538173204893, 'alpha': 10.047652501145814, 'learning_rate': 0.37961721691228434, 'colsample_bytree': 0.7541935059642985, 'n_estimators': 2}. Best is trial 12 with value: -2777.100309646695.\u001b[0m\n",
      "\u001b[32m[I 2023-08-29 05:05:37,867]\u001b[0m Trial 182 finished with value: -1230.5755267836569 and parameters: {'lambda': 9.047758293969311, 'alpha': 13.617538090091506, 'learning_rate': 0.36427273623865564, 'colsample_bytree': 0.8758964047608053, 'n_estimators': 4}. Best is trial 12 with value: -2777.100309646695.\u001b[0m\n",
      "\u001b[32m[I 2023-08-29 05:05:37,947]\u001b[0m Trial 183 finished with value: -1460.6301593276914 and parameters: {'lambda': 8.757639510319917, 'alpha': 11.995058787116976, 'learning_rate': 0.40611663705265505, 'colsample_bytree': 0.732111832646802, 'n_estimators': 2}. Best is trial 12 with value: -2777.100309646695.\u001b[0m\n",
      "\u001b[32m[I 2023-08-29 05:05:38,010]\u001b[0m Trial 184 finished with value: -2777.100309646695 and parameters: {'lambda': 16.569558232754652, 'alpha': 9.520014654703, 'learning_rate': 0.34399927483771875, 'colsample_bytree': 0.6964865395467188, 'n_estimators': 0}. Best is trial 12 with value: -2777.100309646695.\u001b[0m\n",
      "\u001b[32m[I 2023-08-29 05:05:38,058]\u001b[0m Trial 185 finished with value: -2777.100309646695 and parameters: {'lambda': 15.967316930934361, 'alpha': 9.068226517891048, 'learning_rate': 0.3492162309539773, 'colsample_bytree': 0.6595999333358656, 'n_estimators': 0}. Best is trial 12 with value: -2777.100309646695.\u001b[0m\n",
      "\u001b[32m[I 2023-08-29 05:05:38,121]\u001b[0m Trial 186 finished with value: -1398.022414257527 and parameters: {'lambda': 16.159437958641558, 'alpha': 9.011016324659845, 'learning_rate': 0.35122731090694376, 'colsample_bytree': 0.4968712815948406, 'n_estimators': 4}. Best is trial 12 with value: -2777.100309646695.\u001b[0m\n",
      "\u001b[32m[I 2023-08-29 05:05:38,168]\u001b[0m Trial 187 finished with value: -2777.100309646695 and parameters: {'lambda': 10.015267313207168, 'alpha': 13.181472542377588, 'learning_rate': 0.4671254693509679, 'colsample_bytree': 0.647116328116504, 'n_estimators': 0}. Best is trial 12 with value: -2777.100309646695.\u001b[0m\n",
      "\u001b[32m[I 2023-08-29 05:05:38,245]\u001b[0m Trial 188 finished with value: -1137.9007018598345 and parameters: {'lambda': 11.540081313800222, 'alpha': 12.50058443802953, 'learning_rate': 0.4891542720276583, 'colsample_bytree': 0.7093053081275871, 'n_estimators': 7}. Best is trial 12 with value: -2777.100309646695.\u001b[0m\n",
      "\u001b[32m[I 2023-08-29 05:05:38,303]\u001b[0m Trial 189 finished with value: -1372.9878467041385 and parameters: {'lambda': 15.136025551152562, 'alpha': 12.311237473727411, 'learning_rate': 0.46574911886083525, 'colsample_bytree': 0.624173310779481, 'n_estimators': 2}. Best is trial 12 with value: -2777.100309646695.\u001b[0m\n",
      "\u001b[32m[I 2023-08-29 05:05:38,366]\u001b[0m Trial 190 finished with value: -1165.2269054349385 and parameters: {'lambda': 10.820907023731118, 'alpha': 14.433681451586924, 'learning_rate': 0.4170106433822744, 'colsample_bytree': 0.7460438769701027, 'n_estimators': 5}. Best is trial 12 with value: -2777.100309646695.\u001b[0m\n",
      "\u001b[32m[I 2023-08-29 05:05:38,413]\u001b[0m Trial 191 finished with value: -2777.100309646695 and parameters: {'lambda': 7.0588322580306695, 'alpha': 10.175256016780594, 'learning_rate': 0.41186459880031245, 'colsample_bytree': 0.582397392309255, 'n_estimators': 0}. Best is trial 12 with value: -2777.100309646695.\u001b[0m\n",
      "\u001b[32m[I 2023-08-29 05:05:38,461]\u001b[0m Trial 192 finished with value: -1491.308249109325 and parameters: {'lambda': 8.281535810887693, 'alpha': 9.590983526015817, 'learning_rate': 0.3898358423340992, 'colsample_bytree': 0.7636593375277156, 'n_estimators': 2}. Best is trial 12 with value: -2777.100309646695.\u001b[0m\n",
      "\u001b[32m[I 2023-08-29 05:05:38,524]\u001b[0m Trial 193 finished with value: -1423.7548904359603 and parameters: {'lambda': 9.40191331323735, 'alpha': 13.752440052493414, 'learning_rate': 0.4271878607348149, 'colsample_bytree': 0.790236174678536, 'n_estimators': 2}. Best is trial 12 with value: -2777.100309646695.\u001b[0m\n",
      "\u001b[32m[I 2023-08-29 05:05:38,586]\u001b[0m Trial 194 finished with value: -1221.2182562909 and parameters: {'lambda': 9.004067858363893, 'alpha': 14.0922269316216, 'learning_rate': 0.3759516179792557, 'colsample_bytree': 0.6955465987378148, 'n_estimators': 4}. Best is trial 12 with value: -2777.100309646695.\u001b[0m\n",
      "\u001b[32m[I 2023-08-29 05:05:38,634]\u001b[0m Trial 195 finished with value: -2777.100309646695 and parameters: {'lambda': 14.189295586467763, 'alpha': 8.724804587895584, 'learning_rate': 0.4078064714017709, 'colsample_bytree': 0.7449507304011181, 'n_estimators': 0}. Best is trial 12 with value: -2777.100309646695.\u001b[0m\n",
      "\u001b[32m[I 2023-08-29 05:05:38,696]\u001b[0m Trial 196 finished with value: -1526.2676172459433 and parameters: {'lambda': 7.27772635590199, 'alpha': 8.756133710215865, 'learning_rate': 0.37181769421249805, 'colsample_bytree': 0.7360354080962042, 'n_estimators': 2}. Best is trial 12 with value: -2777.100309646695.\u001b[0m\n",
      "\u001b[32m[I 2023-08-29 05:05:38,743]\u001b[0m Trial 197 finished with value: -2777.100309646695 and parameters: {'lambda': 12.20161476703646, 'alpha': 12.979123595932338, 'learning_rate': 0.4999876417680185, 'colsample_bytree': 0.8372903700666818, 'n_estimators': 0}. Best is trial 12 with value: -2777.100309646695.\u001b[0m\n",
      "\u001b[32m[I 2023-08-29 05:05:38,807]\u001b[0m Trial 198 finished with value: -1150.5829572533116 and parameters: {'lambda': 7.400081656412816, 'alpha': 8.472524870640438, 'learning_rate': 0.3878945514440267, 'colsample_bytree': 0.7239066105759169, 'n_estimators': 6}. Best is trial 12 with value: -2777.100309646695.\u001b[0m\n",
      "\u001b[32m[I 2023-08-29 05:05:38,854]\u001b[0m Trial 199 finished with value: -2777.100309646695 and parameters: {'lambda': 12.74262739552429, 'alpha': 13.915485081405858, 'learning_rate': 0.4981855916839868, 'colsample_bytree': 0.859609719182967, 'n_estimators': 0}. Best is trial 12 with value: -2777.100309646695.\u001b[0m\n"
     ]
    },
    {
     "data": {
      "application/vnd.plotly.v1+json": {
       "config": {
        "plotlyServerURL": "https://plot.ly"
       },
       "data": [
        {
         "dimensions": [
          {
           "label": "Objective Value",
           "range": [
            -2777.100309646695,
            -1134.1813163389959
           ],
           "values": [
            -1156.8655934588846,
            -1157.94955758038,
            -1871.1783322806332,
            -1170.3005610152209,
            -1139.2862510884188,
            -1136.1890104339777,
            -1138.0237198568682,
            -1166.8046610154697,
            -1146.5204780679705,
            -2521.7873237725316,
            -1159.6390030124771,
            -1446.9304718189328,
            -2777.100309646695,
            -1146.6885368166868,
            -1182.5300719546715,
            -1138.170640016388,
            -1138.8617785058705,
            -1142.7554920016935,
            -2777.100309646695,
            -1202.4914612301297,
            -1137.9873177281427,
            -2777.100309646695,
            -1148.3118490686984,
            -1137.3635777969985,
            -1134.1813163389959,
            -1179.9823623735472,
            -1154.938975201511,
            -2777.100309646695,
            -1159.7372659504913,
            -1146.3527868926421,
            -1292.0275673322385,
            -2777.100309646695,
            -1140.6950674573397,
            -1146.441983902775,
            -2777.100309646695,
            -1213.6228516798224,
            -1140.100100046076,
            -1164.1767259214278,
            -1159.8461914035302,
            -1151.9484864892152,
            -1141.3501745200983,
            -1990.1159103566067,
            -1775.1434097563722,
            -1169.6836578358493,
            -1139.3733985497627,
            -1165.1434740502223,
            -2777.100309646695,
            -1255.5012938048096,
            -1141.8308946439736,
            -1151.9483667726752,
            -1178.771958498881,
            -1933.1873543351837,
            -2777.100309646695,
            -1228.6454158684962,
            -1134.3265212455753,
            -1155.7338559439245,
            -1182.5736342066598,
            -1310.3237344850147,
            -2777.100309646695,
            -1155.8888109057698,
            -1139.6905291816274,
            -2777.100309646695,
            -1211.299285519065,
            -1348.8746748672772,
            -1230.5589818874546,
            -1153.9631168998649,
            -2777.100309646695,
            -1137.736380396318,
            -1166.896648805936,
            -1159.2679361064277,
            -1212.5192469089718,
            -2777.100309646695,
            -1139.0369919516875,
            -2777.100309646695,
            -2777.100309646695,
            -1370.4644134179412,
            -1135.1932970550213,
            -1173.0133234565315,
            -1167.7743505308586,
            -1412.4928677750972,
            -1138.7356202799638,
            -1272.230016397747,
            -1384.5684223566147,
            -1137.5001013370797,
            -2777.100309646695,
            -1188.6651790220808,
            -1462.623397198207,
            -2777.100309646695,
            -1157.3205533228452,
            -1134.9925700745728,
            -2777.100309646695,
            -1436.4757546104986,
            -1194.1450199604244,
            -1173.6031955422502,
            -1136.4133684185977,
            -2777.100309646695,
            -1453.2288565413896,
            -1142.6764474417662,
            -1142.6431963988234,
            -1164.647196068112,
            -1136.5541478846492,
            -2777.100309646695,
            -1398.7331791776392,
            -1181.128585901527,
            -2777.100309646695,
            -1186.1054755508335,
            -2777.100309646695,
            -1137.597721153271,
            -1610.4654187704346,
            -1169.0709332865274,
            -1435.5304030079906,
            -1485.2013405899647,
            -1283.0246100959928,
            -2777.100309646695,
            -1161.8975918032465,
            -1173.7443321594324,
            -1423.7108518529897,
            -1136.5448409763242,
            -2777.100309646695,
            -1307.3453550938152,
            -1142.5524004404454,
            -2777.100309646695,
            -2777.100309646695,
            -1400.8602415309258,
            -1523.8698975042867,
            -2777.100309646695,
            -1177.6908652720322,
            -1138.4439623676012,
            -1206.4509304739888,
            -2777.100309646695,
            -1538.654777125535,
            -2777.100309646695,
            -1560.3970252552501,
            -1141.6130086478786,
            -2777.100309646695,
            -1188.7557314059945,
            -1846.4015764614492,
            -1188.0488327852927,
            -1158.2134085685946,
            -1136.5714879195684,
            -1272.7024348333243,
            -2777.100309646695,
            -2777.100309646695,
            -1586.18267622433,
            -1221.5446206370077,
            -2777.100309646695,
            -1144.0073906326259,
            -1405.974875201365,
            -2777.100309646695,
            -1289.9737366962559,
            -1207.1312470611533,
            -2777.100309646695,
            -1499.5619683400716,
            -2777.100309646695,
            -2777.100309646695,
            -1205.5414053310376,
            -1277.173003408996,
            -1161.4083555642906,
            -1136.5196376408257,
            -2777.100309646695,
            -1152.4647730041856,
            -1535.7723128323091,
            -2777.100309646695,
            -1165.2540577253646,
            -1151.1855957848293,
            -1480.9742944275577,
            -1195.3592794988208,
            -2777.100309646695,
            -1577.1133719905354,
            -1143.1337863963731,
            -2777.100309646695,
            -2777.100309646695,
            -1366.3526114354434,
            -1621.6912298567945,
            -2777.100309646695,
            -1406.1676659932152,
            -1174.6332355432721,
            -2777.100309646695,
            -2777.100309646695,
            -1160.111355903471,
            -2777.100309646695,
            -1524.175749941317,
            -1230.5755267836569,
            -1460.6301593276914,
            -2777.100309646695,
            -2777.100309646695,
            -1398.022414257527,
            -2777.100309646695,
            -1137.9007018598345,
            -1372.9878467041385,
            -1165.2269054349385,
            -2777.100309646695,
            -1491.308249109325,
            -1423.7548904359603,
            -1221.2182562909,
            -2777.100309646695,
            -1526.2676172459433,
            -2777.100309646695,
            -1150.5829572533116,
            -2777.100309646695
           ]
          },
          {
           "label": "alpha",
           "range": [
            7.0013915556140125,
            16.790116453517324
           ],
           "values": [
            7.16945787487016,
            16.458538234382125,
            14.873337342206444,
            13.631251050043609,
            14.269775914551232,
            10.20334320256812,
            15.92060589755691,
            7.716084187628208,
            8.29752188281439,
            8.613914074465097,
            10.691989573640976,
            12.681462395737762,
            9.992948229922746,
            9.432688916369198,
            11.77910274691168,
            9.188724924366305,
            11.188251663772366,
            8.893858061504542,
            10.08054622406131,
            9.826123116020476,
            12.582823746553503,
            8.374484248268596,
            10.957633890420933,
            7.946432310850186,
            10.10577463523045,
            11.537024243647643,
            10.485299625716562,
            7.061553196246709,
            7.27313166267482,
            7.039222759506173,
            8.055376472602122,
            9.381936009044859,
            8.748260738052858,
            7.468197658062277,
            9.407197064037899,
            9.255164191212925,
            9.82450293404875,
            8.460162048351478,
            12.498952777670958,
            7.802948442891598,
            7.0013915556140125,
            9.613864735195115,
            10.31446482236229,
            16.790116453517324,
            8.318789432351121,
            15.293752967199158,
            9.052868147283224,
            8.972778274819358,
            7.6712276520349265,
            10.86935407009098,
            8.232403956006872,
            9.565877182540603,
            8.667856175020344,
            8.697845032772442,
            13.572480524371974,
            7.603156442238748,
            11.41524796644807,
            9.957660738505338,
            9.379602041547077,
            10.520529668854214,
            9.141712394156768,
            9.337584257162654,
            10.217361314493267,
            9.698495550816508,
            9.069305694605024,
            8.630118046985652,
            8.205134211254295,
            8.03436677786302,
            7.440920607221614,
            8.780834144799645,
            9.473827994919294,
            9.3462942067697,
            9.892119776884735,
            9.284343494604592,
            9.235463728833103,
            8.112452799353246,
            9.28430188142425,
            8.438665342755279,
            8.916493171319514,
            12.045461288481658,
            10.657514945957299,
            7.795480230369933,
            11.008907028737717,
            10.04237883680519,
            7.232415714956522,
            7.19940303725057,
            7.417246652933575,
            10.28628178578222,
            8.982396643420275,
            8.461443431904035,
            9.683086973171285,
            9.328136703313845,
            8.30540283010596,
            9.13827946860053,
            8.590643410695918,
            9.74382444796397,
            7.958178356816097,
            10.000597012368551,
            9.509372117781252,
            7.13590873889242,
            8.876401377092417,
            9.502534268944421,
            8.706416638195737,
            9.030096874797398,
            13.623494635513522,
            9.29228685174181,
            13.37716055513075,
            10.323403475558752,
            13.878431992825211,
            10.333120848185942,
            9.768153877407753,
            9.594224061086699,
            9.738829727083116,
            10.198504752136003,
            9.41253173195139,
            9.89210223511918,
            10.56763522722227,
            7.6148803423714995,
            9.689286956581487,
            14.763491578789562,
            13.469489274058459,
            13.84589457396231,
            13.199524723628873,
            9.153534959129793,
            8.235235246853783,
            10.150700795726566,
            8.825193868238893,
            7.838156770194441,
            12.957941877444624,
            12.377340668156014,
            12.210606291363419,
            13.120982206966326,
            14.555195231960637,
            8.504216256048592,
            14.159748651900314,
            13.72048321000393,
            14.056117805102254,
            13.22844406668442,
            10.036029472111895,
            15.322563726860693,
            12.83255480689024,
            9.491195744971295,
            9.639524433708507,
            9.283941225243803,
            8.956443327395933,
            11.87537195845928,
            11.300424435114707,
            10.782551584059805,
            7.369133709326984,
            9.178228332327807,
            7.522574810448881,
            9.730211047770245,
            9.756478992444615,
            13.227585357304378,
            12.462357750159898,
            13.359168247415429,
            12.934717186811966,
            14.129474191098055,
            13.842030553781917,
            14.264839874451262,
            14.54587378670656,
            9.444357156317732,
            11.10919921952221,
            11.576011720243034,
            7.237555520334261,
            12.269579250430679,
            10.40421821678324,
            9.498608601937965,
            9.423879245040725,
            9.9451955237238,
            8.764769953188399,
            8.744419863720518,
            9.052709997052018,
            13.165058351607012,
            13.874054362248316,
            9.242666390451616,
            12.68756039657654,
            12.609674351549616,
            12.997423822623212,
            12.773487213335066,
            13.438976870378733,
            10.047652501145814,
            13.617538090091506,
            11.995058787116976,
            9.520014654703,
            9.068226517891048,
            9.011016324659845,
            13.181472542377588,
            12.50058443802953,
            12.311237473727411,
            14.433681451586924,
            10.175256016780594,
            9.590983526015817,
            13.752440052493414,
            14.0922269316216,
            8.724804587895584,
            8.756133710215865,
            12.979123595932338,
            8.472524870640438,
            13.915485081405858
           ]
          },
          {
           "label": "colsample_bytree",
           "range": [
            0.4001396620925219,
            0.8989170605143983
           ],
           "values": [
            0.692715975829107,
            0.7314639307657842,
            0.516327063954179,
            0.5708258061841915,
            0.5045579239227567,
            0.6078506290885459,
            0.6101775788171744,
            0.7810569253169988,
            0.4910648969642244,
            0.6149391466546024,
            0.8817368390708686,
            0.472984836735398,
            0.4192615975158712,
            0.41017981842004314,
            0.42145528054488357,
            0.8332889271211225,
            0.6785905599839304,
            0.5563065750732683,
            0.7446995552242408,
            0.7681431387667966,
            0.8147914424962674,
            0.7294388921961723,
            0.7272942068524242,
            0.6637573992484085,
            0.7228993612606053,
            0.8868621302871313,
            0.78530228192338,
            0.6412087754431279,
            0.6300433629375971,
            0.6963494728386505,
            0.44507219659050506,
            0.7479757779747569,
            0.8452137210555095,
            0.7015778504829709,
            0.7506259602761652,
            0.7635446867753471,
            0.7977574935326379,
            0.5254268129965863,
            0.6443654319492566,
            0.576299099626136,
            0.7123364733134099,
            0.7485323724573242,
            0.672453828324399,
            0.7413371716539952,
            0.8092102697630001,
            0.854624546383155,
            0.7518038853374749,
            0.7555367745428009,
            0.6502933992229837,
            0.68607740663853,
            0.5921105469571595,
            0.7857343562359047,
            0.4725197337143535,
            0.48461223200276365,
            0.550626709532194,
            0.7236556451749702,
            0.8257432796814912,
            0.4361815371336606,
            0.7678289268074735,
            0.8642822379057156,
            0.7736710835180995,
            0.7373785950280674,
            0.7090939070987562,
            0.7409891505502259,
            0.4001396620925219,
            0.44119144963830187,
            0.7351649730480879,
            0.8085549651336851,
            0.45824338670608616,
            0.5048972167721726,
            0.7883503588706274,
            0.7263383487090508,
            0.7154903056316172,
            0.7537882030032778,
            0.7638627963903662,
            0.6925803692782275,
            0.7675283017361703,
            0.4635242329854908,
            0.7499648982363374,
            0.42850461330361095,
            0.6698198608440813,
            0.7301261681790578,
            0.7619901483105251,
            0.6252071039987996,
            0.736067834466792,
            0.7044652741037898,
            0.7765307299150834,
            0.7251836324537186,
            0.8003631602487197,
            0.6806136368853779,
            0.7530014692520398,
            0.6563403120735056,
            0.7907254581953667,
            0.7664048885463649,
            0.7400857082213953,
            0.7187125317655729,
            0.530760420472347,
            0.7279078889332974,
            0.8194389042806933,
            0.4082726844271395,
            0.7479556359261861,
            0.7022217087825795,
            0.6905977974863695,
            0.7015075708302934,
            0.7996417180901688,
            0.777098852594822,
            0.8366910870368381,
            0.8728282574273627,
            0.7565804752390057,
            0.7137620910343653,
            0.7150055577142642,
            0.8989170605143983,
            0.7237589155483264,
            0.7449190407418889,
            0.7370237908422385,
            0.7558809858759579,
            0.6442571167832934,
            0.7341744949329733,
            0.7161188494690478,
            0.8353984238650317,
            0.8414281768244681,
            0.6992804427345115,
            0.7975765006184846,
            0.7572118038158597,
            0.7771089722657832,
            0.6092808257087018,
            0.6118183545167497,
            0.7843842651134473,
            0.5951143864434829,
            0.8049376732929644,
            0.8053275663344115,
            0.7217698616939583,
            0.7438113012774993,
            0.7681217345187887,
            0.7015579199790557,
            0.8206657072075343,
            0.7048320081962847,
            0.6793081237028442,
            0.6283129393241667,
            0.7912887148002312,
            0.8582251060983573,
            0.7326600592432684,
            0.7326193566476461,
            0.754241525449843,
            0.76941618382076,
            0.6622610380828811,
            0.6671260276280899,
            0.7470497328674796,
            0.6922522151092309,
            0.7203856398520242,
            0.6848733526665847,
            0.7095784086268447,
            0.7429644309458705,
            0.8119492669119258,
            0.8097617163062417,
            0.7973414133637179,
            0.8282170657359346,
            0.5531592509647107,
            0.7592558748790661,
            0.6429454556956714,
            0.739464297676226,
            0.7267968721244691,
            0.726961921414111,
            0.78008173209139,
            0.6923538264244521,
            0.5987143888690367,
            0.7138234363272628,
            0.573933202154588,
            0.6766225663520254,
            0.7365870454764925,
            0.733855677756701,
            0.7469372180126365,
            0.7654837723985859,
            0.8001968720719127,
            0.7196258020071638,
            0.7071046057693946,
            0.7236337815262361,
            0.837200384191986,
            0.8483938773903651,
            0.849548626114961,
            0.8629392726542309,
            0.7541935059642985,
            0.8758964047608053,
            0.732111832646802,
            0.6964865395467188,
            0.6595999333358656,
            0.4968712815948406,
            0.647116328116504,
            0.7093053081275871,
            0.624173310779481,
            0.7460438769701027,
            0.582397392309255,
            0.7636593375277156,
            0.790236174678536,
            0.6955465987378148,
            0.7449507304011181,
            0.7360354080962042,
            0.8372903700666818,
            0.7239066105759169,
            0.859609719182967
           ]
          },
          {
           "label": "lambda",
           "range": [
            7.031881669201485,
            16.97819234211939
           ],
           "values": [
            13.118277116054756,
            16.71095031214162,
            13.972692201470515,
            9.237782004785274,
            16.696107692372394,
            12.591132753525905,
            14.399870206429346,
            12.544250884029712,
            13.820822565506276,
            16.133305634019095,
            9.63658367416771,
            15.356300045938239,
            10.909353495340472,
            11.087327012199594,
            7.513959967043078,
            11.10339982961962,
            10.982605281551661,
            9.564973310318862,
            15.205885419262438,
            7.359796888209352,
            14.885866665239835,
            15.567715792808283,
            15.52705962528299,
            11.774462336523339,
            13.331804382713852,
            10.32310861254063,
            15.811685663381606,
            8.204906991897042,
            8.421154924315935,
            14.424565493407668,
            8.25002045801,
            8.41868319548094,
            8.526259310527115,
            7.927784229528088,
            16.646238307354615,
            16.475718376732605,
            16.8106045523804,
            12.020447859197043,
            8.888494333402603,
            10.413249177112823,
            16.97662470661207,
            14.883761871136947,
            9.032105515818827,
            16.374634138992597,
            9.520137415988842,
            13.403230328347213,
            15.787422981522555,
            15.821098578182935,
            14.097666831954935,
            12.68251296873117,
            16.02249871276148,
            15.1763588899205,
            7.135198100057329,
            7.210647127294706,
            16.343772888291415,
            7.664214959567725,
            9.963356840342811,
            7.835694974892823,
            8.164950025879868,
            8.89481363227111,
            14.44228148433987,
            8.125960255212373,
            11.553532746342862,
            15.118481345668318,
            7.172947746496987,
            7.462768854198651,
            15.625268475677903,
            8.680169520894893,
            7.056091076517844,
            16.677873966877495,
            8.183054216287637,
            15.443862048363199,
            16.10505158004867,
            7.992494188620231,
            8.077876282466924,
            9.29153006594781,
            14.691039405545938,
            15.731889581031728,
            7.807572208661634,
            8.463309257106149,
            10.711939349764236,
            15.57891670323533,
            8.10393836836923,
            9.911053099367061,
            7.628599084318247,
            7.547976608289946,
            8.76183150127525,
            15.295412351202716,
            9.161916300495642,
            16.19197276290917,
            7.910242869926616,
            8.49502859958904,
            13.742786898660597,
            7.386805466492467,
            15.440833500590971,
            8.058771507865208,
            8.34941467451569,
            14.745867506915932,
            7.733795649719614,
            7.257980346374013,
            14.991474127666605,
            16.49229042534097,
            16.901452618119762,
            16.58809826854387,
            8.672230004526284,
            8.152403691567464,
            8.704924724091745,
            15.303034464486279,
            15.847547612621135,
            16.268667814086097,
            16.001173990376035,
            16.451203690028116,
            14.543321354762867,
            14.194054649895076,
            7.598126574590144,
            16.743990978172068,
            7.954537387747312,
            7.031881669201485,
            12.798514413789595,
            12.804032326259218,
            8.64506981910614,
            8.958306197002806,
            9.371419153785649,
            7.933986143736723,
            8.278235416927368,
            15.266982294095557,
            15.572346205283507,
            8.016803536230313,
            8.350318846903114,
            8.731252094754286,
            7.6911219576092495,
            14.053305468647501,
            13.93586952890952,
            12.213929718438493,
            11.507409967888071,
            9.424990963381882,
            13.184563233805589,
            8.90547584198367,
            15.224838007776142,
            15.815870569084403,
            9.190054109587177,
            7.499011184167566,
            7.40334383650847,
            7.549301166352571,
            7.238979414126994,
            9.951485984962595,
            9.768149536391038,
            13.566263243962963,
            8.999801857478136,
            8.132355982620332,
            8.457203518771596,
            15.943847454779593,
            7.8745250556126605,
            12.42323452448074,
            12.385326252019349,
            8.797820057494025,
            14.177448360514637,
            11.803523649258713,
            10.466062412892066,
            11.212979137312743,
            8.62878117039001,
            11.267688809185017,
            7.42731297666849,
            8.289697121205867,
            14.915580234361553,
            7.884666815387963,
            8.547606417795999,
            16.97819234211939,
            16.917003076232028,
            8.081496853740672,
            7.33150905812604,
            14.209925584863914,
            15.6517940506254,
            12.97307588348883,
            13.727530633656194,
            7.6476516693791385,
            13.700342748037654,
            12.134157639609336,
            12.113784475204374,
            11.9538668694363,
            12.397862185069712,
            15.327538173204893,
            9.047758293969311,
            8.757639510319917,
            16.569558232754652,
            15.967316930934361,
            16.159437958641558,
            10.015267313207168,
            11.540081313800222,
            15.136025551152562,
            10.820907023731118,
            7.0588322580306695,
            8.281535810887693,
            9.40191331323735,
            9.004067858363893,
            14.189295586467763,
            7.27772635590199,
            12.20161476703646,
            7.400081656412816,
            12.74262739552429
           ]
          },
          {
           "label": "learning_rate",
           "range": [
            0.059406000170313035,
            0.4999876417680185
           ],
           "values": [
            0.28278279341364504,
            0.4455187224262787,
            0.4257320244467097,
            0.36642137331422653,
            0.1635190065816215,
            0.22059363024574435,
            0.07938594161931144,
            0.321858990516292,
            0.07530865606062281,
            0.059406000170313035,
            0.1701899548586339,
            0.4967847880564944,
            0.38035877936121876,
            0.3651839228046255,
            0.22245732143549032,
            0.13352146850149754,
            0.3537051817692671,
            0.25984779668182734,
            0.43250876268721067,
            0.4226645962540394,
            0.4833042261421324,
            0.39777641672817754,
            0.40169183101429506,
            0.4547512541952933,
            0.3938973439090965,
            0.3080670088271118,
            0.33019686554771827,
            0.4634112954883784,
            0.47575621798360807,
            0.45012243345278374,
            0.26799047715355995,
            0.3977502576690152,
            0.3895921183854732,
            0.4208343477653085,
            0.35735789771345255,
            0.33966504158987926,
            0.3004457566125951,
            0.45916004816783607,
            0.42806351163315587,
            0.38231001342579674,
            0.435225768466941,
            0.3665506477804528,
            0.4708695676746921,
            0.4091586582623371,
            0.3730349100487436,
            0.2949224834341213,
            0.3461846856280256,
            0.34633118726631573,
            0.43922886567037034,
            0.32057611504753103,
            0.4958238460405513,
            0.39524416452364497,
            0.4075286246338508,
            0.35789960401205284,
            0.4145533538690941,
            0.4655451350069282,
            0.2371664886986473,
            0.4076215116687061,
            0.4398270173413987,
            0.440830913232014,
            0.4890628738862475,
            0.38649030654219607,
            0.3854641943188664,
            0.3701044285208752,
            0.3225369329545996,
            0.4237453414180532,
            0.35336588660417545,
            0.44360413622913564,
            0.4564461155633832,
            0.3358088968442178,
            0.4798758712264691,
            0.397540087428797,
            0.4007912385914865,
            0.42659462544347615,
            0.37904003498991296,
            0.35389786310638016,
            0.37616026741810027,
            0.41356979507129027,
            0.15436187562621229,
            0.2814088041751228,
            0.3874700786307348,
            0.4273385516164333,
            0.44857057980206083,
            0.4657793726713093,
            0.39975052344774903,
            0.3652505379610538,
            0.40506948430618095,
            0.3828168945241211,
            0.34965906918240464,
            0.37899707991817994,
            0.33933576122333403,
            0.41893012442386834,
            0.43055259372975657,
            0.3919690551689244,
            0.41160715389800273,
            0.39624253456359604,
            0.31166857214604726,
            0.36234888691216366,
            0.37861731267309257,
            0.4385582775358732,
            0.39869301757471565,
            0.42258337401228174,
            0.4508465422531367,
            0.4330041922308724,
            0.3595832783225763,
            0.3700030480092995,
            0.4083177370647696,
            0.468435083527607,
            0.34060017462050945,
            0.41893305730032887,
            0.0996612076726334,
            0.40097526882785445,
            0.3256181394173391,
            0.38532894050374966,
            0.35173681082005076,
            0.4578080315567748,
            0.4254369499804393,
            0.38941663006952615,
            0.3443334262512098,
            0.309765440160867,
            0.40578749494696614,
            0.4146710635262325,
            0.4434591914698973,
            0.33596692224962904,
            0.3737649018074941,
            0.3946099883449897,
            0.39701177845368885,
            0.38126918416493594,
            0.3885782402480392,
            0.3599370343447003,
            0.3665878687952852,
            0.38528111363364753,
            0.3614537049075987,
            0.4365680690524687,
            0.41102615702719236,
            0.41348403958198726,
            0.24916409761365665,
            0.20302984858614592,
            0.4183381905822585,
            0.4465194006575334,
            0.33023761135102375,
            0.35767971107626284,
            0.37122819970412035,
            0.34485164585228306,
            0.37123326071512336,
            0.4293199912244231,
            0.4307504067698597,
            0.4427530477148912,
            0.40821640726069314,
            0.40466512121495524,
            0.3443795174767163,
            0.35378521315794303,
            0.3853204527238967,
            0.48329108138868876,
            0.48472320954129167,
            0.4930582262963659,
            0.4234108167738947,
            0.393405440162108,
            0.38053776427555236,
            0.3728177319336867,
            0.3822888168023281,
            0.37116036808126635,
            0.41489751239068656,
            0.4557736331973675,
            0.3981501437138166,
            0.39458518609235227,
            0.40202589107014597,
            0.40916556245625624,
            0.3563917777314936,
            0.41892895664950486,
            0.3881838031678919,
            0.36004842982979635,
            0.35987893600308396,
            0.33404309005998417,
            0.38514907449179475,
            0.4349360715239813,
            0.39514899208944604,
            0.487421277673086,
            0.47943890422542673,
            0.47562761307693946,
            0.4793452706742559,
            0.37961721691228434,
            0.36427273623865564,
            0.40611663705265505,
            0.34399927483771875,
            0.3492162309539773,
            0.35122731090694376,
            0.4671254693509679,
            0.4891542720276583,
            0.46574911886083525,
            0.4170106433822744,
            0.41186459880031245,
            0.3898358423340992,
            0.4271878607348149,
            0.3759516179792557,
            0.4078064714017709,
            0.37181769421249805,
            0.4999876417680185,
            0.3878945514440267,
            0.4981855916839868
           ]
          },
          {
           "label": "n_estimators",
           "range": [
            0,
            100
           ],
           "values": [
            60,
            36,
            1,
            68,
            52,
            19,
            72,
            63,
            62,
            2,
            89,
            2,
            0,
            23,
            18,
            36,
            12,
            34,
            0,
            85,
            11,
            0,
            28,
            10,
            9,
            100,
            45,
            0,
            26,
            17,
            7,
            0,
            8,
            15,
            0,
            5,
            21,
            48,
            29,
            6,
            16,
            1,
            1,
            5,
            13,
            56,
            0,
            4,
            13,
            42,
            72,
            1,
            0,
            6,
            10,
            23,
            8,
            4,
            0,
            20,
            12,
            0,
            4,
            3,
            9,
            16,
            0,
            7,
            12,
            69,
            3,
            0,
            7,
            0,
            0,
            3,
            9,
            80,
            14,
            5,
            10,
            3,
            2,
            7,
            0,
            5,
            2,
            0,
            6,
            11,
            0,
            2,
            97,
            5,
            9,
            0,
            3,
            18,
            7,
            36,
            14,
            0,
            2,
            4,
            0,
            5,
            0,
            8,
            2,
            54,
            11,
            2,
            4,
            0,
            6,
            59,
            2,
            8,
            0,
            4,
            6,
            0,
            0,
            3,
            2,
            0,
            5,
            8,
            4,
            0,
            2,
            0,
            2,
            6,
            0,
            4,
            2,
            10,
            39,
            7,
            4,
            0,
            0,
            2,
            4,
            0,
            6,
            2,
            0,
            3,
            5,
            0,
            2,
            0,
            0,
            80,
            3,
            48,
            8,
            0,
            30,
            2,
            0,
            4,
            6,
            2,
            4,
            0,
            2,
            6,
            0,
            0,
            3,
            2,
            0,
            2,
            5,
            0,
            0,
            4,
            0,
            2,
            4,
            2,
            0,
            0,
            4,
            0,
            7,
            2,
            5,
            0,
            2,
            2,
            4,
            0,
            2,
            0,
            6,
            0
           ]
          }
         ],
         "labelangle": 30,
         "labelside": "bottom",
         "line": {
          "color": [
           -1156.8655934588846,
           -1157.94955758038,
           -1871.1783322806332,
           -1170.3005610152209,
           -1139.2862510884188,
           -1136.1890104339777,
           -1138.0237198568682,
           -1166.8046610154697,
           -1146.5204780679705,
           -2521.7873237725316,
           -1159.6390030124771,
           -1446.9304718189328,
           -2777.100309646695,
           -1146.6885368166868,
           -1182.5300719546715,
           -1138.170640016388,
           -1138.8617785058705,
           -1142.7554920016935,
           -2777.100309646695,
           -1202.4914612301297,
           -1137.9873177281427,
           -2777.100309646695,
           -1148.3118490686984,
           -1137.3635777969985,
           -1134.1813163389959,
           -1179.9823623735472,
           -1154.938975201511,
           -2777.100309646695,
           -1159.7372659504913,
           -1146.3527868926421,
           -1292.0275673322385,
           -2777.100309646695,
           -1140.6950674573397,
           -1146.441983902775,
           -2777.100309646695,
           -1213.6228516798224,
           -1140.100100046076,
           -1164.1767259214278,
           -1159.8461914035302,
           -1151.9484864892152,
           -1141.3501745200983,
           -1990.1159103566067,
           -1775.1434097563722,
           -1169.6836578358493,
           -1139.3733985497627,
           -1165.1434740502223,
           -2777.100309646695,
           -1255.5012938048096,
           -1141.8308946439736,
           -1151.9483667726752,
           -1178.771958498881,
           -1933.1873543351837,
           -2777.100309646695,
           -1228.6454158684962,
           -1134.3265212455753,
           -1155.7338559439245,
           -1182.5736342066598,
           -1310.3237344850147,
           -2777.100309646695,
           -1155.8888109057698,
           -1139.6905291816274,
           -2777.100309646695,
           -1211.299285519065,
           -1348.8746748672772,
           -1230.5589818874546,
           -1153.9631168998649,
           -2777.100309646695,
           -1137.736380396318,
           -1166.896648805936,
           -1159.2679361064277,
           -1212.5192469089718,
           -2777.100309646695,
           -1139.0369919516875,
           -2777.100309646695,
           -2777.100309646695,
           -1370.4644134179412,
           -1135.1932970550213,
           -1173.0133234565315,
           -1167.7743505308586,
           -1412.4928677750972,
           -1138.7356202799638,
           -1272.230016397747,
           -1384.5684223566147,
           -1137.5001013370797,
           -2777.100309646695,
           -1188.6651790220808,
           -1462.623397198207,
           -2777.100309646695,
           -1157.3205533228452,
           -1134.9925700745728,
           -2777.100309646695,
           -1436.4757546104986,
           -1194.1450199604244,
           -1173.6031955422502,
           -1136.4133684185977,
           -2777.100309646695,
           -1453.2288565413896,
           -1142.6764474417662,
           -1142.6431963988234,
           -1164.647196068112,
           -1136.5541478846492,
           -2777.100309646695,
           -1398.7331791776392,
           -1181.128585901527,
           -2777.100309646695,
           -1186.1054755508335,
           -2777.100309646695,
           -1137.597721153271,
           -1610.4654187704346,
           -1169.0709332865274,
           -1435.5304030079906,
           -1485.2013405899647,
           -1283.0246100959928,
           -2777.100309646695,
           -1161.8975918032465,
           -1173.7443321594324,
           -1423.7108518529897,
           -1136.5448409763242,
           -2777.100309646695,
           -1307.3453550938152,
           -1142.5524004404454,
           -2777.100309646695,
           -2777.100309646695,
           -1400.8602415309258,
           -1523.8698975042867,
           -2777.100309646695,
           -1177.6908652720322,
           -1138.4439623676012,
           -1206.4509304739888,
           -2777.100309646695,
           -1538.654777125535,
           -2777.100309646695,
           -1560.3970252552501,
           -1141.6130086478786,
           -2777.100309646695,
           -1188.7557314059945,
           -1846.4015764614492,
           -1188.0488327852927,
           -1158.2134085685946,
           -1136.5714879195684,
           -1272.7024348333243,
           -2777.100309646695,
           -2777.100309646695,
           -1586.18267622433,
           -1221.5446206370077,
           -2777.100309646695,
           -1144.0073906326259,
           -1405.974875201365,
           -2777.100309646695,
           -1289.9737366962559,
           -1207.1312470611533,
           -2777.100309646695,
           -1499.5619683400716,
           -2777.100309646695,
           -2777.100309646695,
           -1205.5414053310376,
           -1277.173003408996,
           -1161.4083555642906,
           -1136.5196376408257,
           -2777.100309646695,
           -1152.4647730041856,
           -1535.7723128323091,
           -2777.100309646695,
           -1165.2540577253646,
           -1151.1855957848293,
           -1480.9742944275577,
           -1195.3592794988208,
           -2777.100309646695,
           -1577.1133719905354,
           -1143.1337863963731,
           -2777.100309646695,
           -2777.100309646695,
           -1366.3526114354434,
           -1621.6912298567945,
           -2777.100309646695,
           -1406.1676659932152,
           -1174.6332355432721,
           -2777.100309646695,
           -2777.100309646695,
           -1160.111355903471,
           -2777.100309646695,
           -1524.175749941317,
           -1230.5755267836569,
           -1460.6301593276914,
           -2777.100309646695,
           -2777.100309646695,
           -1398.022414257527,
           -2777.100309646695,
           -1137.9007018598345,
           -1372.9878467041385,
           -1165.2269054349385,
           -2777.100309646695,
           -1491.308249109325,
           -1423.7548904359603,
           -1221.2182562909,
           -2777.100309646695,
           -1526.2676172459433,
           -2777.100309646695,
           -1150.5829572533116,
           -2777.100309646695
          ],
          "colorbar": {
           "title": {
            "text": "Objective Value"
           }
          },
          "colorscale": [
           [
            0,
            "rgb(247,251,255)"
           ],
           [
            0.125,
            "rgb(222,235,247)"
           ],
           [
            0.25,
            "rgb(198,219,239)"
           ],
           [
            0.375,
            "rgb(158,202,225)"
           ],
           [
            0.5,
            "rgb(107,174,214)"
           ],
           [
            0.625,
            "rgb(66,146,198)"
           ],
           [
            0.75,
            "rgb(33,113,181)"
           ],
           [
            0.875,
            "rgb(8,81,156)"
           ],
           [
            1,
            "rgb(8,48,107)"
           ]
          ],
          "reversescale": true,
          "showscale": true
         },
         "type": "parcoords"
        }
       ],
       "layout": {
        "template": {
         "data": {
          "bar": [
           {
            "error_x": {
             "color": "#2a3f5f"
            },
            "error_y": {
             "color": "#2a3f5f"
            },
            "marker": {
             "line": {
              "color": "#E5ECF6",
              "width": 0.5
             },
             "pattern": {
              "fillmode": "overlay",
              "size": 10,
              "solidity": 0.2
             }
            },
            "type": "bar"
           }
          ],
          "barpolar": [
           {
            "marker": {
             "line": {
              "color": "#E5ECF6",
              "width": 0.5
             },
             "pattern": {
              "fillmode": "overlay",
              "size": 10,
              "solidity": 0.2
             }
            },
            "type": "barpolar"
           }
          ],
          "carpet": [
           {
            "aaxis": {
             "endlinecolor": "#2a3f5f",
             "gridcolor": "white",
             "linecolor": "white",
             "minorgridcolor": "white",
             "startlinecolor": "#2a3f5f"
            },
            "baxis": {
             "endlinecolor": "#2a3f5f",
             "gridcolor": "white",
             "linecolor": "white",
             "minorgridcolor": "white",
             "startlinecolor": "#2a3f5f"
            },
            "type": "carpet"
           }
          ],
          "choropleth": [
           {
            "colorbar": {
             "outlinewidth": 0,
             "ticks": ""
            },
            "type": "choropleth"
           }
          ],
          "contour": [
           {
            "colorbar": {
             "outlinewidth": 0,
             "ticks": ""
            },
            "colorscale": [
             [
              0,
              "#0d0887"
             ],
             [
              0.1111111111111111,
              "#46039f"
             ],
             [
              0.2222222222222222,
              "#7201a8"
             ],
             [
              0.3333333333333333,
              "#9c179e"
             ],
             [
              0.4444444444444444,
              "#bd3786"
             ],
             [
              0.5555555555555556,
              "#d8576b"
             ],
             [
              0.6666666666666666,
              "#ed7953"
             ],
             [
              0.7777777777777778,
              "#fb9f3a"
             ],
             [
              0.8888888888888888,
              "#fdca26"
             ],
             [
              1,
              "#f0f921"
             ]
            ],
            "type": "contour"
           }
          ],
          "contourcarpet": [
           {
            "colorbar": {
             "outlinewidth": 0,
             "ticks": ""
            },
            "type": "contourcarpet"
           }
          ],
          "heatmap": [
           {
            "colorbar": {
             "outlinewidth": 0,
             "ticks": ""
            },
            "colorscale": [
             [
              0,
              "#0d0887"
             ],
             [
              0.1111111111111111,
              "#46039f"
             ],
             [
              0.2222222222222222,
              "#7201a8"
             ],
             [
              0.3333333333333333,
              "#9c179e"
             ],
             [
              0.4444444444444444,
              "#bd3786"
             ],
             [
              0.5555555555555556,
              "#d8576b"
             ],
             [
              0.6666666666666666,
              "#ed7953"
             ],
             [
              0.7777777777777778,
              "#fb9f3a"
             ],
             [
              0.8888888888888888,
              "#fdca26"
             ],
             [
              1,
              "#f0f921"
             ]
            ],
            "type": "heatmap"
           }
          ],
          "heatmapgl": [
           {
            "colorbar": {
             "outlinewidth": 0,
             "ticks": ""
            },
            "colorscale": [
             [
              0,
              "#0d0887"
             ],
             [
              0.1111111111111111,
              "#46039f"
             ],
             [
              0.2222222222222222,
              "#7201a8"
             ],
             [
              0.3333333333333333,
              "#9c179e"
             ],
             [
              0.4444444444444444,
              "#bd3786"
             ],
             [
              0.5555555555555556,
              "#d8576b"
             ],
             [
              0.6666666666666666,
              "#ed7953"
             ],
             [
              0.7777777777777778,
              "#fb9f3a"
             ],
             [
              0.8888888888888888,
              "#fdca26"
             ],
             [
              1,
              "#f0f921"
             ]
            ],
            "type": "heatmapgl"
           }
          ],
          "histogram": [
           {
            "marker": {
             "pattern": {
              "fillmode": "overlay",
              "size": 10,
              "solidity": 0.2
             }
            },
            "type": "histogram"
           }
          ],
          "histogram2d": [
           {
            "colorbar": {
             "outlinewidth": 0,
             "ticks": ""
            },
            "colorscale": [
             [
              0,
              "#0d0887"
             ],
             [
              0.1111111111111111,
              "#46039f"
             ],
             [
              0.2222222222222222,
              "#7201a8"
             ],
             [
              0.3333333333333333,
              "#9c179e"
             ],
             [
              0.4444444444444444,
              "#bd3786"
             ],
             [
              0.5555555555555556,
              "#d8576b"
             ],
             [
              0.6666666666666666,
              "#ed7953"
             ],
             [
              0.7777777777777778,
              "#fb9f3a"
             ],
             [
              0.8888888888888888,
              "#fdca26"
             ],
             [
              1,
              "#f0f921"
             ]
            ],
            "type": "histogram2d"
           }
          ],
          "histogram2dcontour": [
           {
            "colorbar": {
             "outlinewidth": 0,
             "ticks": ""
            },
            "colorscale": [
             [
              0,
              "#0d0887"
             ],
             [
              0.1111111111111111,
              "#46039f"
             ],
             [
              0.2222222222222222,
              "#7201a8"
             ],
             [
              0.3333333333333333,
              "#9c179e"
             ],
             [
              0.4444444444444444,
              "#bd3786"
             ],
             [
              0.5555555555555556,
              "#d8576b"
             ],
             [
              0.6666666666666666,
              "#ed7953"
             ],
             [
              0.7777777777777778,
              "#fb9f3a"
             ],
             [
              0.8888888888888888,
              "#fdca26"
             ],
             [
              1,
              "#f0f921"
             ]
            ],
            "type": "histogram2dcontour"
           }
          ],
          "mesh3d": [
           {
            "colorbar": {
             "outlinewidth": 0,
             "ticks": ""
            },
            "type": "mesh3d"
           }
          ],
          "parcoords": [
           {
            "line": {
             "colorbar": {
              "outlinewidth": 0,
              "ticks": ""
             }
            },
            "type": "parcoords"
           }
          ],
          "pie": [
           {
            "automargin": true,
            "type": "pie"
           }
          ],
          "scatter": [
           {
            "fillpattern": {
             "fillmode": "overlay",
             "size": 10,
             "solidity": 0.2
            },
            "type": "scatter"
           }
          ],
          "scatter3d": [
           {
            "line": {
             "colorbar": {
              "outlinewidth": 0,
              "ticks": ""
             }
            },
            "marker": {
             "colorbar": {
              "outlinewidth": 0,
              "ticks": ""
             }
            },
            "type": "scatter3d"
           }
          ],
          "scattercarpet": [
           {
            "marker": {
             "colorbar": {
              "outlinewidth": 0,
              "ticks": ""
             }
            },
            "type": "scattercarpet"
           }
          ],
          "scattergeo": [
           {
            "marker": {
             "colorbar": {
              "outlinewidth": 0,
              "ticks": ""
             }
            },
            "type": "scattergeo"
           }
          ],
          "scattergl": [
           {
            "marker": {
             "colorbar": {
              "outlinewidth": 0,
              "ticks": ""
             }
            },
            "type": "scattergl"
           }
          ],
          "scattermapbox": [
           {
            "marker": {
             "colorbar": {
              "outlinewidth": 0,
              "ticks": ""
             }
            },
            "type": "scattermapbox"
           }
          ],
          "scatterpolar": [
           {
            "marker": {
             "colorbar": {
              "outlinewidth": 0,
              "ticks": ""
             }
            },
            "type": "scatterpolar"
           }
          ],
          "scatterpolargl": [
           {
            "marker": {
             "colorbar": {
              "outlinewidth": 0,
              "ticks": ""
             }
            },
            "type": "scatterpolargl"
           }
          ],
          "scatterternary": [
           {
            "marker": {
             "colorbar": {
              "outlinewidth": 0,
              "ticks": ""
             }
            },
            "type": "scatterternary"
           }
          ],
          "surface": [
           {
            "colorbar": {
             "outlinewidth": 0,
             "ticks": ""
            },
            "colorscale": [
             [
              0,
              "#0d0887"
             ],
             [
              0.1111111111111111,
              "#46039f"
             ],
             [
              0.2222222222222222,
              "#7201a8"
             ],
             [
              0.3333333333333333,
              "#9c179e"
             ],
             [
              0.4444444444444444,
              "#bd3786"
             ],
             [
              0.5555555555555556,
              "#d8576b"
             ],
             [
              0.6666666666666666,
              "#ed7953"
             ],
             [
              0.7777777777777778,
              "#fb9f3a"
             ],
             [
              0.8888888888888888,
              "#fdca26"
             ],
             [
              1,
              "#f0f921"
             ]
            ],
            "type": "surface"
           }
          ],
          "table": [
           {
            "cells": {
             "fill": {
              "color": "#EBF0F8"
             },
             "line": {
              "color": "white"
             }
            },
            "header": {
             "fill": {
              "color": "#C8D4E3"
             },
             "line": {
              "color": "white"
             }
            },
            "type": "table"
           }
          ]
         },
         "layout": {
          "annotationdefaults": {
           "arrowcolor": "#2a3f5f",
           "arrowhead": 0,
           "arrowwidth": 1
          },
          "autotypenumbers": "strict",
          "coloraxis": {
           "colorbar": {
            "outlinewidth": 0,
            "ticks": ""
           }
          },
          "colorscale": {
           "diverging": [
            [
             0,
             "#8e0152"
            ],
            [
             0.1,
             "#c51b7d"
            ],
            [
             0.2,
             "#de77ae"
            ],
            [
             0.3,
             "#f1b6da"
            ],
            [
             0.4,
             "#fde0ef"
            ],
            [
             0.5,
             "#f7f7f7"
            ],
            [
             0.6,
             "#e6f5d0"
            ],
            [
             0.7,
             "#b8e186"
            ],
            [
             0.8,
             "#7fbc41"
            ],
            [
             0.9,
             "#4d9221"
            ],
            [
             1,
             "#276419"
            ]
           ],
           "sequential": [
            [
             0,
             "#0d0887"
            ],
            [
             0.1111111111111111,
             "#46039f"
            ],
            [
             0.2222222222222222,
             "#7201a8"
            ],
            [
             0.3333333333333333,
             "#9c179e"
            ],
            [
             0.4444444444444444,
             "#bd3786"
            ],
            [
             0.5555555555555556,
             "#d8576b"
            ],
            [
             0.6666666666666666,
             "#ed7953"
            ],
            [
             0.7777777777777778,
             "#fb9f3a"
            ],
            [
             0.8888888888888888,
             "#fdca26"
            ],
            [
             1,
             "#f0f921"
            ]
           ],
           "sequentialminus": [
            [
             0,
             "#0d0887"
            ],
            [
             0.1111111111111111,
             "#46039f"
            ],
            [
             0.2222222222222222,
             "#7201a8"
            ],
            [
             0.3333333333333333,
             "#9c179e"
            ],
            [
             0.4444444444444444,
             "#bd3786"
            ],
            [
             0.5555555555555556,
             "#d8576b"
            ],
            [
             0.6666666666666666,
             "#ed7953"
            ],
            [
             0.7777777777777778,
             "#fb9f3a"
            ],
            [
             0.8888888888888888,
             "#fdca26"
            ],
            [
             1,
             "#f0f921"
            ]
           ]
          },
          "colorway": [
           "#636efa",
           "#EF553B",
           "#00cc96",
           "#ab63fa",
           "#FFA15A",
           "#19d3f3",
           "#FF6692",
           "#B6E880",
           "#FF97FF",
           "#FECB52"
          ],
          "font": {
           "color": "#2a3f5f"
          },
          "geo": {
           "bgcolor": "white",
           "lakecolor": "white",
           "landcolor": "#E5ECF6",
           "showlakes": true,
           "showland": true,
           "subunitcolor": "white"
          },
          "hoverlabel": {
           "align": "left"
          },
          "hovermode": "closest",
          "mapbox": {
           "style": "light"
          },
          "paper_bgcolor": "white",
          "plot_bgcolor": "#E5ECF6",
          "polar": {
           "angularaxis": {
            "gridcolor": "white",
            "linecolor": "white",
            "ticks": ""
           },
           "bgcolor": "#E5ECF6",
           "radialaxis": {
            "gridcolor": "white",
            "linecolor": "white",
            "ticks": ""
           }
          },
          "scene": {
           "xaxis": {
            "backgroundcolor": "#E5ECF6",
            "gridcolor": "white",
            "gridwidth": 2,
            "linecolor": "white",
            "showbackground": true,
            "ticks": "",
            "zerolinecolor": "white"
           },
           "yaxis": {
            "backgroundcolor": "#E5ECF6",
            "gridcolor": "white",
            "gridwidth": 2,
            "linecolor": "white",
            "showbackground": true,
            "ticks": "",
            "zerolinecolor": "white"
           },
           "zaxis": {
            "backgroundcolor": "#E5ECF6",
            "gridcolor": "white",
            "gridwidth": 2,
            "linecolor": "white",
            "showbackground": true,
            "ticks": "",
            "zerolinecolor": "white"
           }
          },
          "shapedefaults": {
           "line": {
            "color": "#2a3f5f"
           }
          },
          "ternary": {
           "aaxis": {
            "gridcolor": "white",
            "linecolor": "white",
            "ticks": ""
           },
           "baxis": {
            "gridcolor": "white",
            "linecolor": "white",
            "ticks": ""
           },
           "bgcolor": "#E5ECF6",
           "caxis": {
            "gridcolor": "white",
            "linecolor": "white",
            "ticks": ""
           }
          },
          "title": {
           "x": 0.05
          },
          "xaxis": {
           "automargin": true,
           "gridcolor": "white",
           "linecolor": "white",
           "ticks": "",
           "title": {
            "standoff": 15
           },
           "zerolinecolor": "white",
           "zerolinewidth": 2
          },
          "yaxis": {
           "automargin": true,
           "gridcolor": "white",
           "linecolor": "white",
           "ticks": "",
           "title": {
            "standoff": 15
           },
           "zerolinecolor": "white",
           "zerolinewidth": 2
          }
         }
        },
        "title": {
         "text": "Parallel Coordinate Plot"
        }
       }
      }
     },
     "metadata": {},
     "output_type": "display_data"
    },
    {
     "name": "stderr",
     "output_type": "stream",
     "text": [
      "INFO:__main__:Best parameters: {'lambda': 10.909353495340472, 'alpha': 9.992948229922746, 'learning_rate': 0.38035877936121876, 'colsample_bytree': 0.4192615975158712, 'n_estimators': 0}\n"
     ]
    }
   ],
   "source": [
    "\"\"\"\n",
    "\n",
    "AUTHORS: ANGELA EDITH SILES\n",
    "\n",
    "\"\"\"\n",
    "\n",
    "# Imports\n",
    "import logging\n",
    "import os\n",
    "import optuna\n",
    "from optuna.samplers import TPESampler\n",
    "import xgboost as xgboost_regressor\n",
    "import pandas as pd\n",
    "import numpy as np\n",
    "from sklearn.model_selection import cross_val_score, train_test_split\n",
    "\n",
    "# Configure logging\n",
    "logging.basicConfig(level=logging.INFO)\n",
    "logger = logging.getLogger(__name__)\n",
    "\n",
    "def preprocess_dataframe(pandas_df: pd.DataFrame):\n",
    "    \"\"\"Preprocess the dataframe obtained after applying feature engineering.\n",
    "    \n",
    "    Args:\n",
    "        pandas_df (pd.DataFrame): DataFrame obtained after loading.\n",
    "    \n",
    "    Returns:\n",
    "        pd.DataFrame: Preprocessed DataFrame.\n",
    "    \"\"\"\n",
    "    logger.info('Preprocessing data: Item_MRP')\n",
    "    dataset = pandas_df.drop(columns=['Item_Identifier', 'Outlet_Identifier'])\n",
    "\n",
    "    # Split the dataset into train and test sets\n",
    "    df_train = dataset.loc[pandas_df['Set'] == 'train']\n",
    "    df_test = dataset.loc[pandas_df['Set'] == 'test']\n",
    "\n",
    "    return df_train, df_test\n",
    "\n",
    "class TuningHyperParametersPipeline(object):\n",
    "    \"\"\"Pipeline for tuning hyperparameters using Optuna and XGBoost.\"\"\"\n",
    "    \n",
    "    def __init__(self, input_path, output_path: str = None):\n",
    "        self.input_path = input_path\n",
    "        self.output_path = output_path\n",
    "\n",
    "    def load_data(self) -> pd.DataFrame:\n",
    "        \"\"\"Load the dataframe for processing.\n",
    "        \n",
    "        Returns:\n",
    "            pd.DataFrame: Loaded DataFrame.\n",
    "        \"\"\"\n",
    "        try:\n",
    "            train_file = 'features.csv'\n",
    "            train_data = os.path.join(self.input_path, train_file)\n",
    "            pandas_df = pd.read_csv(train_data)\n",
    "            logger.info(\"Loading data from: %s\", self.input_path)\n",
    "        except (FileNotFoundError, PermissionError, OSError) as error_load_file:\n",
    "            logger.exception(\"An error occurred while loading data: %s\", error_load_file)\n",
    "\n",
    "        return pandas_df\n",
    "\n",
    "    def prepare_data_for_training(self, df: pd.DataFrame):\n",
    "        \"\"\"Prepare the data for training.\n",
    "        \n",
    "        Args:\n",
    "            df (pd.DataFrame): Dataframe to be trained.\n",
    "        \n",
    "        Returns:\n",
    "            x_train, y_train (pd.DataFrame, pd.Series): Datasets obtained after applying the machine learning model.\n",
    "        \"\"\"\n",
    "\n",
    "        global x_train\n",
    "        global y_train\n",
    "\n",
    "        df_train, df_test = preprocess_dataframe(pandas_df=df)\n",
    "\n",
    "        # Delete columns without data\n",
    "        df_train.drop(['Set'], axis=1, inplace=True)\n",
    "        df_test.drop(['Item_Outlet_Sales', 'Set'],\n",
    "                     axis=1, inplace=True)\n",
    "\n",
    "        seed = 28\n",
    "\n",
    "        # Split the dataset into training and validation sets\n",
    "        X = df_train.drop(columns='Item_Outlet_Sales')\n",
    "        logger.info('Data prepared for training: X')\n",
    "\n",
    "        y = df_train['Item_Outlet_Sales']\n",
    "\n",
    "        x_train, _, y_train, _ = train_test_split(\n",
    "            X, y, test_size=0.3, random_state=seed)\n",
    "        return x_train, y_train\n",
    "\n",
    "    def train_model(self, x_train, y_train):\n",
    "        \"\"\"Train the model and evaluate its performance.\n",
    "        \n",
    "        Args:\n",
    "            x_train (np.array): Features to be trained.\n",
    "            y_train (np.array): Target to be trained.\n",
    "        \"\"\"\n",
    "        seed = 28\n",
    "        model_trained = xgboost_regressor.XGBRegressor(\n",
    "            objective='reg:linear', n_estimators=10, random_state=seed)\n",
    "        try:\n",
    "            # Train the model\n",
    "            score_model = cross_val_score(\n",
    "                model_trained, x_train, y_train, scoring='neg_root_mean_squared_error', n_jobs=-1, cv=10)\n",
    "            logger.info('Model trained successfully')\n",
    "            logger.info('Score model: %s', score_model)\n",
    "            logger.info('Mean: %s, Std: %s', np.mean(score_model), np.std(score_model))\n",
    "            return score_model\n",
    "        except Exception as e:\n",
    "            logger.exception(\"An error occurred while training the model: %s\", str(e))\n",
    "\n",
    "    def evaluate_score(self, param):\n",
    "        \"\"\"Return the score after applying xgboost regressor.\n",
    "        \n",
    "        Args:\n",
    "            param (_type_): Variable used as a parameter to pass to the XGB Regressor function.\n",
    "        \n",
    "        Returns:\n",
    "            float: Metric obtained after model training.\n",
    "        \"\"\"\n",
    "        model = xgboost_regressor.XGBRegressor(**param)\n",
    "        try:\n",
    "            root_mean_square_error = np.mean(cross_val_score(\n",
    "                model, x_train, y_train, cv=4, n_jobs=-1, scoring='neg_root_mean_squared_error'))\n",
    "            return root_mean_square_error\n",
    "        except Exception as e:\n",
    "            logger.exception(\"An error occurred while returning the score: %s\", str(e))\n",
    "\n",
    "    def objective_function(self, trial):\n",
    "        \"\"\"Optuna objective function.\n",
    "        \n",
    "        Args:\n",
    "            trial (_type_): Description.\n",
    "        \"\"\"\n",
    "        # Define hyperparameters\n",
    "        param = {'sampling_method': 'gradient_based', 'reg_lambda':\n",
    "                 trial.suggest_uniform('lambda', 7.0, 17.0), 'reg_alpha': trial.suggest_uniform('alpha', 7.0, 17.0), 'learning_rate': trial.suggest_uniform('learning_rate', 0.05, 0.5),\n",
    "                 'colsample_bytree': trial.suggest_uniform('colsample_bytree', 0.4, 0.9),\n",
    "                 'n_estimators': trial.suggest_int('n_estimators', 0, 100)}\n",
    "        return self.evaluate_score(param)\n",
    "\n",
    "    def run(self):\n",
    "        \"\"\"Run the entire pipeline.\"\"\"\n",
    "        try:\n",
    "            data_frame = self.load_data()\n",
    "            x_trained, y_trained = self.prepare_data_for_training(data_frame)\n",
    "            model_trained = self.train_model(x_train=x_trained, y_train=y_trained)\n",
    "            study_object = optuna.create_study(\n",
    "                direction='minimize', sampler=TPESampler())\n",
    "            study_object.optimize(self.objective_function, n_trials=200)\n",
    "\n",
    "            fig = optuna.visualization.plot_parallel_coordinate(study_object)\n",
    "            fig.show()\n",
    "\n",
    "            logger.info('Best parameters: %s', study_object.best_params)\n",
    "        except Exception as e:\n",
    "            logger.exception(\"An error occurred in the pipeline: %s\", str(e))\n",
    "\n",
    "if __name__ == \"__main__\":\n",
    "    try:\n",
    "        pipeline = TuningHyperParametersPipeline(\n",
    "            input_path='../data/',\n",
    "            output_path='')\n",
    "        pipeline.run()\n",
    "    except Exception as e:\n",
    "        logger.exception(\"An error occurred: %s\", str(e))\n"
   ]
  }
 ],
 "metadata": {
  "kernelspec": {
   "display_name": "base",
   "language": "python",
   "name": "python3"
  },
  "language_info": {
   "codemirror_mode": {
    "name": "ipython",
    "version": 3
   },
   "file_extension": ".py",
   "mimetype": "text/x-python",
   "name": "python",
   "nbconvert_exporter": "python",
   "pygments_lexer": "ipython3",
   "version": "3.9.7"
  },
  "orig_nbformat": 4
 },
 "nbformat": 4,
 "nbformat_minor": 2
}
