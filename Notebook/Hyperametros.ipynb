{
 "cells": [
  {
   "cell_type": "code",
   "execution_count": 5,
   "metadata": {},
   "outputs": [
    {
     "name": "stderr",
     "output_type": "stream",
     "text": [
      "INFO:__main__:Loading data from: ../data/\n",
      "INFO:__main__:Preprocessing data: Item_MRP\n"
     ]
    },
    {
     "name": "stderr",
     "output_type": "stream",
     "text": [
      "INFO:__main__:Data prepared for training: X\n",
      "INFO:__main__:Model trained successfully\n",
      "INFO:__main__:Score model: [-1174.45481642 -1163.40561215 -1035.87472539 -1129.76640339\n",
      " -1066.90335567 -1177.79769901 -1218.15909424 -1189.71950574\n",
      " -1080.64951487 -1176.27624407]\n",
      "INFO:__main__:Mean: -1141.3006970933468, Std: 57.32010374259351\n",
      "\u001b[32m[I 2023-08-29 04:46:19,280]\u001b[0m A new study created in memory with name: no-name-7cf4586b-0a2f-4343-84fc-44f3be62f9c6\u001b[0m\n",
      "\u001b[32m[I 2023-08-29 04:46:19,665]\u001b[0m Trial 0 finished with value: -1138.6706175441504 and parameters: {'lambda': 7.369219694227853, 'alpha': 12.63374831088244, 'learning_rate': 0.05180592188171176, 'colsample_bytree': 0.5536332330510287, 'n_estimators': 86}. Best is trial 0 with value: -1138.6706175441504.\u001b[0m\n",
      "\u001b[32m[I 2023-08-29 04:46:20,026]\u001b[0m Trial 1 finished with value: -1162.304431399994 and parameters: {'lambda': 9.089082334878228, 'alpha': 7.811751962178478, 'learning_rate': 0.23498361936876544, 'colsample_bytree': 0.5961765829317223, 'n_estimators': 95}. Best is trial 1 with value: -1162.304431399994.\u001b[0m\n",
      "\u001b[32m[I 2023-08-29 04:46:20,357]\u001b[0m Trial 2 finished with value: -1150.838992180735 and parameters: {'lambda': 13.360218936015887, 'alpha': 11.689546348482757, 'learning_rate': 0.22555584559151176, 'colsample_bytree': 0.5306141555482193, 'n_estimators': 69}. Best is trial 1 with value: -1162.304431399994.\u001b[0m\n",
      "\u001b[32m[I 2023-08-29 04:46:20,657]\u001b[0m Trial 3 finished with value: -1145.9555201078272 and parameters: {'lambda': 8.033184053812619, 'alpha': 13.113739065605301, 'learning_rate': 0.1585119366346452, 'colsample_bytree': 0.7206432110328058, 'n_estimators': 60}. Best is trial 1 with value: -1162.304431399994.\u001b[0m\n",
      "\u001b[32m[I 2023-08-29 04:46:21,125]\u001b[0m Trial 4 finished with value: -1163.5108433968717 and parameters: {'lambda': 16.260851265594447, 'alpha': 16.033311209043454, 'learning_rate': 0.2363812624992413, 'colsample_bytree': 0.8033415783498766, 'n_estimators': 91}. Best is trial 4 with value: -1163.5108433968717.\u001b[0m\n",
      "\u001b[32m[I 2023-08-29 04:46:21,360]\u001b[0m Trial 5 finished with value: -1149.2622588379072 and parameters: {'lambda': 11.788237660447209, 'alpha': 13.992130458509681, 'learning_rate': 0.301283641629306, 'colsample_bytree': 0.5270808653593851, 'n_estimators': 52}. Best is trial 4 with value: -1163.5108433968717.\u001b[0m\n",
      "\u001b[32m[I 2023-08-29 04:46:21,866]\u001b[0m Trial 6 finished with value: -1147.8141809182991 and parameters: {'lambda': 15.582383881629829, 'alpha': 7.262808460334276, 'learning_rate': 0.1394450261176508, 'colsample_bytree': 0.7867009950043653, 'n_estimators': 99}. Best is trial 4 with value: -1163.5108433968717.\u001b[0m\n",
      "\u001b[32m[I 2023-08-29 04:46:22,039]\u001b[0m Trial 7 finished with value: -1146.5588236674962 and parameters: {'lambda': 7.662680619516662, 'alpha': 9.2054584247738, 'learning_rate': 0.2658122657340499, 'colsample_bytree': 0.7677805556408197, 'n_estimators': 26}. Best is trial 4 with value: -1163.5108433968717.\u001b[0m\n",
      "\u001b[32m[I 2023-08-29 04:46:22,384]\u001b[0m Trial 8 finished with value: -1139.133230920194 and parameters: {'lambda': 8.234165873624063, 'alpha': 7.115550339570164, 'learning_rate': 0.09490666392140787, 'colsample_bytree': 0.6526542813794345, 'n_estimators': 70}. Best is trial 4 with value: -1163.5108433968717.\u001b[0m\n",
      "\u001b[32m[I 2023-08-29 04:46:22,429]\u001b[0m Trial 9 finished with value: -1285.7622586674543 and parameters: {'lambda': 8.15048627638535, 'alpha': 16.588139176000585, 'learning_rate': 0.40815570723183314, 'colsample_bytree': 0.513126957205644, 'n_estimators': 3}. Best is trial 9 with value: -1285.7622586674543.\u001b[0m\n",
      "\u001b[32m[I 2023-08-29 04:46:22,477]\u001b[0m Trial 10 finished with value: -1967.4976339642635 and parameters: {'lambda': 10.731581388482375, 'alpha': 16.90640763133891, 'learning_rate': 0.45495065036439425, 'colsample_bytree': 0.40461319478853414, 'n_estimators': 1}. Best is trial 10 with value: -1967.4976339642635.\u001b[0m\n",
      "\u001b[32m[I 2023-08-29 04:46:22,525]\u001b[0m Trial 11 finished with value: -2777.100309646695 and parameters: {'lambda': 10.328890844180604, 'alpha': 16.76972485296252, 'learning_rate': 0.4605435014801005, 'colsample_bytree': 0.400242828099084, 'n_estimators': 0}. Best is trial 11 with value: -2777.100309646695.\u001b[0m\n",
      "\u001b[32m[I 2023-08-29 04:46:22,574]\u001b[0m Trial 12 finished with value: -2777.100309646695 and parameters: {'lambda': 10.617107083924173, 'alpha': 15.116072176909908, 'learning_rate': 0.4969106945470882, 'colsample_bytree': 0.41469630313853445, 'n_estimators': 0}. Best is trial 11 with value: -2777.100309646695.\u001b[0m\n",
      "\u001b[32m[I 2023-08-29 04:46:22,715]\u001b[0m Trial 13 finished with value: -1157.0754381706352 and parameters: {'lambda': 10.201299762338163, 'alpha': 14.984569257542532, 'learning_rate': 0.4953606319537149, 'colsample_bytree': 0.40011241330953173, 'n_estimators': 27}. Best is trial 11 with value: -2777.100309646695.\u001b[0m\n",
      "\u001b[32m[I 2023-08-29 04:46:22,841]\u001b[0m Trial 14 finished with value: -1145.2300558272068 and parameters: {'lambda': 13.743465442972598, 'alpha': 14.812635073626387, 'learning_rate': 0.3665281821592059, 'colsample_bytree': 0.4518432279188347, 'n_estimators': 23}. Best is trial 11 with value: -2777.100309646695.\u001b[0m\n",
      "\u001b[32m[I 2023-08-29 04:46:22,955]\u001b[0m Trial 15 finished with value: -1151.6322952126552 and parameters: {'lambda': 10.088943328709762, 'alpha': 15.581004977491329, 'learning_rate': 0.3796121563132174, 'colsample_bytree': 0.47395570184462554, 'n_estimators': 14}. Best is trial 11 with value: -2777.100309646695.\u001b[0m\n",
      "\u001b[32m[I 2023-08-29 04:46:23,203]\u001b[0m Trial 16 finished with value: -1174.1701281199607 and parameters: {'lambda': 12.163997225373627, 'alpha': 10.950009410556582, 'learning_rate': 0.4785360603297442, 'colsample_bytree': 0.8837812345333811, 'n_estimators': 39}. Best is trial 11 with value: -2777.100309646695.\u001b[0m\n",
      "\u001b[32m[I 2023-08-29 04:46:23,298]\u001b[0m Trial 17 finished with value: -1156.9494122394967 and parameters: {'lambda': 11.781840496634306, 'alpha': 13.974169146463963, 'learning_rate': 0.4269796407985891, 'colsample_bytree': 0.4635249076606312, 'n_estimators': 13}. Best is trial 11 with value: -2777.100309646695.\u001b[0m\n",
      "\u001b[32m[I 2023-08-29 04:46:23,520]\u001b[0m Trial 18 finished with value: -1157.5155707860736 and parameters: {'lambda': 9.13378457146467, 'alpha': 14.237466501352184, 'learning_rate': 0.3420905744013767, 'colsample_bytree': 0.6306522988153246, 'n_estimators': 38}. Best is trial 11 with value: -2777.100309646695.\u001b[0m\n",
      "\u001b[32m[I 2023-08-29 04:46:23,616]\u001b[0m Trial 19 finished with value: -1178.2414731852723 and parameters: {'lambda': 13.66159096584013, 'alpha': 15.639418588646993, 'learning_rate': 0.4449323376256489, 'colsample_bytree': 0.4370807128064949, 'n_estimators': 11}. Best is trial 11 with value: -2777.100309646695.\u001b[0m\n",
      "\u001b[32m[I 2023-08-29 04:46:23,790]\u001b[0m Trial 20 finished with value: -1147.5362759016398 and parameters: {'lambda': 10.912947849085413, 'alpha': 11.469450865113773, 'learning_rate': 0.33334637641912573, 'colsample_bytree': 0.5877153898282235, 'n_estimators': 37}. Best is trial 11 with value: -2777.100309646695.\u001b[0m\n",
      "\u001b[32m[I 2023-08-29 04:46:23,838]\u001b[0m Trial 21 finished with value: -2777.100309646695 and parameters: {'lambda': 10.539470941245384, 'alpha': 16.47405672339986, 'learning_rate': 0.47031454265402906, 'colsample_bytree': 0.4001069531273026, 'n_estimators': 0}. Best is trial 11 with value: -2777.100309646695.\u001b[0m\n",
      "\u001b[32m[I 2023-08-29 04:46:23,884]\u001b[0m Trial 22 finished with value: -2777.100309646695 and parameters: {'lambda': 9.378547629120359, 'alpha': 16.97595883188456, 'learning_rate': 0.482614432538332, 'colsample_bytree': 0.48500674156041845, 'n_estimators': 0}. Best is trial 11 with value: -2777.100309646695.\u001b[0m\n",
      "\u001b[32m[I 2023-08-29 04:46:23,963]\u001b[0m Trial 23 finished with value: -1217.1538075978863 and parameters: {'lambda': 12.818687613168576, 'alpha': 16.036325829570494, 'learning_rate': 0.39590887511456585, 'colsample_bytree': 0.4021541618823661, 'n_estimators': 10}. Best is trial 11 with value: -2777.100309646695.\u001b[0m\n",
      "\u001b[32m[I 2023-08-29 04:46:24,088]\u001b[0m Trial 24 finished with value: -1149.124404896354 and parameters: {'lambda': 11.286132903445473, 'alpha': 15.133860811897486, 'learning_rate': 0.4340660834887924, 'colsample_bytree': 0.4383180257888708, 'n_estimators': 20}. Best is trial 11 with value: -2777.100309646695.\u001b[0m\n",
      "\u001b[32m[I 2023-08-29 04:46:24,153]\u001b[0m Trial 25 finished with value: -1181.9897293601507 and parameters: {'lambda': 9.276737253367028, 'alpha': 16.943480287303228, 'learning_rate': 0.4901843681760093, 'colsample_bytree': 0.49194786914769173, 'n_estimators': 7}. Best is trial 11 with value: -2777.100309646695.\u001b[0m\n",
      "\u001b[32m[I 2023-08-29 04:46:24,261]\u001b[0m Trial 26 finished with value: -1156.1876550866232 and parameters: {'lambda': 9.613570816095804, 'alpha': 13.19868061985078, 'learning_rate': 0.4184201889070802, 'colsample_bytree': 0.49075128857159245, 'n_estimators': 18}. Best is trial 11 with value: -2777.100309646695.\u001b[0m\n",
      "\u001b[32m[I 2023-08-29 04:46:24,418]\u001b[0m Trial 27 finished with value: -1159.4809294830043 and parameters: {'lambda': 8.853077166876407, 'alpha': 16.279597997042607, 'learning_rate': 0.4585626140631043, 'colsample_bytree': 0.5655046017838996, 'n_estimators': 31}. Best is trial 11 with value: -2777.100309646695.\u001b[0m\n",
      "\u001b[32m[I 2023-08-29 04:46:24,496]\u001b[0m Trial 28 finished with value: -1149.7583139299793 and parameters: {'lambda': 9.784530283136174, 'alpha': 16.92981751183027, 'learning_rate': 0.35337723706295565, 'colsample_bytree': 0.6712456784570826, 'n_estimators': 7}. Best is trial 11 with value: -2777.100309646695.\u001b[0m\n",
      "\u001b[32m[I 2023-08-29 04:46:24,543]\u001b[0m Trial 29 finished with value: -2777.100309646695 and parameters: {'lambda': 11.443228917201912, 'alpha': 14.776237476639206, 'learning_rate': 0.49802619737535636, 'colsample_bytree': 0.44201870606738863, 'n_estimators': 0}. Best is trial 11 with value: -2777.100309646695.\u001b[0m\n",
      "\u001b[32m[I 2023-08-29 04:46:24,735]\u001b[0m Trial 30 finished with value: -1151.720123166356 and parameters: {'lambda': 15.05583118255738, 'alpha': 12.668484407079434, 'learning_rate': 0.32411872191280006, 'colsample_bytree': 0.5499637513220468, 'n_estimators': 45}. Best is trial 11 with value: -2777.100309646695.\u001b[0m\n",
      "\u001b[32m[I 2023-08-29 04:46:24,780]\u001b[0m Trial 31 finished with value: -1433.1790237570585 and parameters: {'lambda': 7.24900574905414, 'alpha': 16.104911825519565, 'learning_rate': 0.4648977767576885, 'colsample_bytree': 0.44193447335130476, 'n_estimators': 2}. Best is trial 11 with value: -2777.100309646695.\u001b[0m\n",
      "\u001b[32m[I 2023-08-29 04:46:24,892]\u001b[0m Trial 32 finished with value: -1155.5537935721236 and parameters: {'lambda': 10.99297841826292, 'alpha': 14.63984447617463, 'learning_rate': 0.4972814803502047, 'colsample_bytree': 0.42443033033872096, 'n_estimators': 16}. Best is trial 11 with value: -2777.100309646695.\u001b[0m\n",
      "\u001b[32m[I 2023-08-29 04:46:24,956]\u001b[0m Trial 33 finished with value: -1193.0737397021912 and parameters: {'lambda': 12.394534402514669, 'alpha': 15.443741432315422, 'learning_rate': 0.4979219207392048, 'colsample_bytree': 0.4903945570582723, 'n_estimators': 7}. Best is trial 11 with value: -2777.100309646695.\u001b[0m\n",
      "\u001b[32m[I 2023-08-29 04:46:25,242]\u001b[0m Trial 34 finished with value: -1169.8966412282355 and parameters: {'lambda': 11.366941430409394, 'alpha': 13.624258371457534, 'learning_rate': 0.39578651129758097, 'colsample_bytree': 0.473739065935148, 'n_estimators': 82}. Best is trial 11 with value: -2777.100309646695.\u001b[0m\n",
      "\u001b[32m[I 2023-08-29 04:46:25,290]\u001b[0m Trial 35 finished with value: -2777.100309646695 and parameters: {'lambda': 10.298901608840762, 'alpha': 9.955430480031753, 'learning_rate': 0.46096388963219265, 'colsample_bytree': 0.5137295163312307, 'n_estimators': 0}. Best is trial 11 with value: -2777.100309646695.\u001b[0m\n",
      "\u001b[32m[I 2023-08-29 04:46:25,353]\u001b[0m Trial 36 finished with value: -1141.555073235915 and parameters: {'lambda': 10.58705620271536, 'alpha': 9.8748413796369, 'learning_rate': 0.4349770727227887, 'colsample_bytree': 0.5186781798421671, 'n_estimators': 7}. Best is trial 11 with value: -2777.100309646695.\u001b[0m\n",
      "\u001b[32m[I 2023-08-29 04:46:25,619]\u001b[0m Trial 37 finished with value: -1182.933017513085 and parameters: {'lambda': 12.997162297583294, 'alpha': 8.841654614730901, 'learning_rate': 0.47025246513665536, 'colsample_bytree': 0.6050573421531191, 'n_estimators': 61}. Best is trial 11 with value: -2777.100309646695.\u001b[0m\n",
      "\u001b[32m[I 2023-08-29 04:46:25,730]\u001b[0m Trial 38 finished with value: -1137.7520452395313 and parameters: {'lambda': 8.834272085167914, 'alpha': 10.379014262499094, 'learning_rate': 0.29485434018475504, 'colsample_bytree': 0.5380124518646032, 'n_estimators': 20}. Best is trial 11 with value: -2777.100309646695.\u001b[0m\n",
      "\u001b[32m[I 2023-08-29 04:46:25,888]\u001b[0m Trial 39 finished with value: -1155.0448438792373 and parameters: {'lambda': 8.498980581457717, 'alpha': 12.038076618663691, 'learning_rate': 0.3929645644507425, 'colsample_bytree': 0.6992083262147879, 'n_estimators': 29}. Best is trial 11 with value: -2777.100309646695.\u001b[0m\n",
      "\u001b[32m[I 2023-08-29 04:46:25,967]\u001b[0m Trial 40 finished with value: -1227.9246054446007 and parameters: {'lambda': 10.171282819063775, 'alpha': 8.399735326287058, 'learning_rate': 0.2521002862611784, 'colsample_bytree': 0.4521823646072522, 'n_estimators': 12}. Best is trial 11 with value: -2777.100309646695.\u001b[0m\n",
      "\u001b[32m[I 2023-08-29 04:46:26,013]\u001b[0m Trial 41 finished with value: -2777.100309646695 and parameters: {'lambda': 11.627256526959059, 'alpha': 16.355710878862496, 'learning_rate': 0.4684303967525928, 'colsample_bytree': 0.5099822162021063, 'n_estimators': 0}. Best is trial 11 with value: -2777.100309646695.\u001b[0m\n",
      "\u001b[32m[I 2023-08-29 04:46:26,109]\u001b[0m Trial 42 finished with value: -1355.9935882607544 and parameters: {'lambda': 11.583856374213536, 'alpha': 16.343953933611587, 'learning_rate': 0.4382010991776073, 'colsample_bytree': 0.4356605368443063, 'n_estimators': 3}. Best is trial 11 with value: -2777.100309646695.\u001b[0m\n",
      "\u001b[32m[I 2023-08-29 04:46:26,173]\u001b[0m Trial 43 finished with value: -1773.9780645575277 and parameters: {'lambda': 12.388497337469666, 'alpha': 15.784721087571624, 'learning_rate': 0.15427928838236338, 'colsample_bytree': 0.5053338227056287, 'n_estimators': 4}. Best is trial 11 with value: -2777.100309646695.\u001b[0m\n",
      "\u001b[32m[I 2023-08-29 04:46:26,222]\u001b[0m Trial 44 finished with value: -2777.100309646695 and parameters: {'lambda': 9.67072708839216, 'alpha': 14.412475669277832, 'learning_rate': 0.1837025436588668, 'colsample_bytree': 0.5693135320010411, 'n_estimators': 0}. Best is trial 11 with value: -2777.100309646695.\u001b[0m\n",
      "\u001b[32m[I 2023-08-29 04:46:26,300]\u001b[0m Trial 45 finished with value: -1133.7678392693672 and parameters: {'lambda': 16.964352158436448, 'alpha': 16.448147927324747, 'learning_rate': 0.4756633813303998, 'colsample_bytree': 0.5218185567052206, 'n_estimators': 9}. Best is trial 11 with value: -2777.100309646695.\u001b[0m\n",
      "\u001b[32m[I 2023-08-29 04:46:26,409]\u001b[0m Trial 46 finished with value: -1265.315493753109 and parameters: {'lambda': 9.762574594495288, 'alpha': 12.697320980273323, 'learning_rate': 0.10760522879000795, 'colsample_bytree': 0.5686062607891201, 'n_estimators': 16}. Best is trial 11 with value: -2777.100309646695.\u001b[0m\n",
      "\u001b[32m[I 2023-08-29 04:46:26,473]\u001b[0m Trial 47 finished with value: -1403.15429867339 and parameters: {'lambda': 14.467833255973403, 'alpha': 14.223096604480483, 'learning_rate': 0.2256111666944789, 'colsample_bytree': 0.615275059380804, 'n_estimators': 5}. Best is trial 11 with value: -2777.100309646695.\u001b[0m\n",
      "\u001b[32m[I 2023-08-29 04:46:26,507]\u001b[0m Trial 48 finished with value: -2777.100309646695 and parameters: {'lambda': 11.170755356229833, 'alpha': 14.547986064789066, 'learning_rate': 0.19305039744279429, 'colsample_bytree': 0.5765312419487596, 'n_estimators': 0}. Best is trial 11 with value: -2777.100309646695.\u001b[0m\n",
      "\u001b[32m[I 2023-08-29 04:46:26,631]\u001b[0m Trial 49 finished with value: -1138.5246556272161 and parameters: {'lambda': 11.017107344293507, 'alpha': 7.830378978738581, 'learning_rate': 0.1987384132567132, 'colsample_bytree': 0.5415193118338295, 'n_estimators': 23}. Best is trial 11 with value: -2777.100309646695.\u001b[0m\n",
      "\u001b[32m[I 2023-08-29 04:46:26,868]\u001b[0m Trial 50 finished with value: -1145.200793963509 and parameters: {'lambda': 12.061921116104102, 'alpha': 13.507004241879795, 'learning_rate': 0.20016135315140748, 'colsample_bytree': 0.5030982756718615, 'n_estimators': 53}. Best is trial 11 with value: -2777.100309646695.\u001b[0m\n",
      "\u001b[32m[I 2023-08-29 04:46:26,916]\u001b[0m Trial 51 finished with value: -2777.100309646695 and parameters: {'lambda': 10.481482562035474, 'alpha': 15.450718270442232, 'learning_rate': 0.45385945466353544, 'colsample_bytree': 0.4746167444130341, 'n_estimators': 0}. Best is trial 11 with value: -2777.100309646695.\u001b[0m\n",
      "\u001b[32m[I 2023-08-29 04:46:26,995]\u001b[0m Trial 52 finished with value: -1173.1336863360393 and parameters: {'lambda': 10.293866471204996, 'alpha': 15.16727907298206, 'learning_rate': 0.4798537130318631, 'colsample_bytree': 0.416000484109778, 'n_estimators': 12}. Best is trial 11 with value: -2777.100309646695.\u001b[0m\n",
      "\u001b[32m[I 2023-08-29 04:46:27,059]\u001b[0m Trial 53 finished with value: -1213.0976789536116 and parameters: {'lambda': 11.374865003498302, 'alpha': 15.42094460903577, 'learning_rate': 0.4121197233353273, 'colsample_bytree': 0.46414732924584473, 'n_estimators': 6}. Best is trial 11 with value: -2777.100309646695.\u001b[0m\n",
      "\u001b[32m[I 2023-08-29 04:46:27,356]\u001b[0m Trial 54 finished with value: -1184.6177237167713 and parameters: {'lambda': 9.415106815205501, 'alpha': 14.749509013198768, 'learning_rate': 0.45193577709785826, 'colsample_bytree': 0.47853429785550994, 'n_estimators': 79}. Best is trial 11 with value: -2777.100309646695.\u001b[0m\n",
      "\u001b[32m[I 2023-08-29 04:46:27,442]\u001b[0m Trial 55 finished with value: -2777.100309646695 and parameters: {'lambda': 10.542472209372779, 'alpha': 15.790843745823327, 'learning_rate': 0.08086984430276148, 'colsample_bytree': 0.5866798618475445, 'n_estimators': 0}. Best is trial 11 with value: -2777.100309646695.\u001b[0m\n",
      "\u001b[32m[I 2023-08-29 04:46:27,499]\u001b[0m Trial 56 finished with value: -2173.8288938963988 and parameters: {'lambda': 10.418219807516618, 'alpha': 16.57351284571633, 'learning_rate': 0.08032667514492509, 'colsample_bytree': 0.6443847234451755, 'n_estimators': 4}. Best is trial 11 with value: -2777.100309646695.\u001b[0m\n",
      "\u001b[32m[I 2023-08-29 04:46:27,624]\u001b[0m Trial 57 finished with value: -1791.300321871588 and parameters: {'lambda': 7.972484058927561, 'alpha': 16.031694326963287, 'learning_rate': 0.06576233103882315, 'colsample_bytree': 0.5884019663568736, 'n_estimators': 10}. Best is trial 11 with value: -2777.100309646695.\u001b[0m\n",
      "\u001b[32m[I 2023-08-29 04:46:27,718]\u001b[0m Trial 58 finished with value: -1236.3120441903566 and parameters: {'lambda': 9.999706952695673, 'alpha': 11.816740373697712, 'learning_rate': 0.11773867814444894, 'colsample_bytree': 0.5581806316674945, 'n_estimators': 16}. Best is trial 11 with value: -2777.100309646695.\u001b[0m\n",
      "\u001b[32m[I 2023-08-29 04:46:27,799]\u001b[0m Trial 59 finished with value: -1140.0299524959096 and parameters: {'lambda': 11.734160981575956, 'alpha': 16.74137025818431, 'learning_rate': 0.48486801139310215, 'colsample_bytree': 0.8503846076071946, 'n_estimators': 9}. Best is trial 11 with value: -2777.100309646695.\u001b[0m\n",
      "\u001b[32m[I 2023-08-29 04:46:28,124]\u001b[0m Trial 60 finished with value: -1178.3314650684115 and parameters: {'lambda': 13.049179624387136, 'alpha': 10.88131407467358, 'learning_rate': 0.4651264805944601, 'colsample_bytree': 0.4190193562214477, 'n_estimators': 93}. Best is trial 11 with value: -2777.100309646695.\u001b[0m\n",
      "\u001b[32m[I 2023-08-29 04:46:28,170]\u001b[0m Trial 61 finished with value: -2777.100309646695 and parameters: {'lambda': 10.986619809563829, 'alpha': 14.481906139122026, 'learning_rate': 0.19145940166841247, 'colsample_bytree': 0.4567068248397984, 'n_estimators': 0}. Best is trial 11 with value: -2777.100309646695.\u001b[0m\n",
      "\u001b[32m[I 2023-08-29 04:46:28,219]\u001b[0m Trial 62 finished with value: -1858.7638859669448 and parameters: {'lambda': 11.06475650440773, 'alpha': 14.360636528057713, 'learning_rate': 0.1780921355913167, 'colsample_bytree': 0.526620675788862, 'n_estimators': 3}. Best is trial 11 with value: -2777.100309646695.\u001b[0m\n",
      "\u001b[32m[I 2023-08-29 04:46:28,282]\u001b[0m Trial 63 finished with value: -1311.0484191094915 and parameters: {'lambda': 10.738027545647434, 'alpha': 13.82824270798083, 'learning_rate': 0.4241901525149373, 'colsample_bytree': 0.45876698659537835, 'n_estimators': 4}. Best is trial 11 with value: -2777.100309646695.\u001b[0m\n",
      "\u001b[32m[I 2023-08-29 04:46:28,329]\u001b[0m Trial 64 finished with value: -2777.100309646695 and parameters: {'lambda': 10.653191131286986, 'alpha': 14.569998414001825, 'learning_rate': 0.1400152354632978, 'colsample_bytree': 0.5804055568711073, 'n_estimators': 0}. Best is trial 11 with value: -2777.100309646695.\u001b[0m\n",
      "\u001b[32m[I 2023-08-29 04:46:28,376]\u001b[0m Trial 65 finished with value: -2777.100309646695 and parameters: {'lambda': 9.91953534009541, 'alpha': 13.152364301706648, 'learning_rate': 0.12981204260225623, 'colsample_bytree': 0.5720791048621481, 'n_estimators': 0}. Best is trial 11 with value: -2777.100309646695.\u001b[0m\n",
      "\u001b[32m[I 2023-08-29 04:46:28,501]\u001b[0m Trial 66 finished with value: -1230.8665357834134 and parameters: {'lambda': 11.87649802138952, 'alpha': 13.19427536668194, 'learning_rate': 0.13630921087421227, 'colsample_bytree': 0.6210905260945704, 'n_estimators': 13}. Best is trial 11 with value: -2777.100309646695.\u001b[0m\n",
      "\u001b[32m[I 2023-08-29 04:46:28,611]\u001b[0m Trial 67 finished with value: -1139.2816844780161 and parameters: {'lambda': 8.991483662985388, 'alpha': 15.864279392163539, 'learning_rate': 0.44892120325086776, 'colsample_bytree': 0.5496231416495017, 'n_estimators': 8}. Best is trial 11 with value: -2777.100309646695.\u001b[0m\n",
      "\u001b[32m[I 2023-08-29 04:46:28,689]\u001b[0m Trial 68 finished with value: -1609.7343511999538 and parameters: {'lambda': 9.515708742112515, 'alpha': 16.990847993028552, 'learning_rate': 0.16240534110444102, 'colsample_bytree': 0.5046229191285925, 'n_estimators': 5}. Best is trial 11 with value: -2777.100309646695.\u001b[0m\n",
      "\u001b[32m[I 2023-08-29 04:46:28,767]\u001b[0m Trial 69 finished with value: -1676.660703560969 and parameters: {'lambda': 12.443817158773198, 'alpha': 15.118598312176777, 'learning_rate': 0.09112255541980137, 'colsample_bytree': 0.40345580526169134, 'n_estimators': 10}. Best is trial 11 with value: -2777.100309646695.\u001b[0m\n",
      "\u001b[32m[I 2023-08-29 04:46:28,924]\u001b[0m Trial 70 finished with value: -1150.504783579959 and parameters: {'lambda': 9.894392645711259, 'alpha': 12.194756882657629, 'learning_rate': 0.12761992942542608, 'colsample_bytree': 0.6421045977708932, 'n_estimators': 22}. Best is trial 11 with value: -2777.100309646695.\u001b[0m\n",
      "\u001b[32m[I 2023-08-29 04:46:28,988]\u001b[0m Trial 71 finished with value: -2189.8891191396037 and parameters: {'lambda': 11.44427564132282, 'alpha': 14.799238627513544, 'learning_rate': 0.16022683148526143, 'colsample_bytree': 0.48332584212820345, 'n_estimators': 2}. Best is trial 11 with value: -2777.100309646695.\u001b[0m\n",
      "\u001b[32m[I 2023-08-29 04:46:29,036]\u001b[0m Trial 72 finished with value: -2005.9676058138402 and parameters: {'lambda': 10.684536197604048, 'alpha': 14.408729889701984, 'learning_rate': 0.19681865796912443, 'colsample_bytree': 0.5807015358402573, 'n_estimators': 2}. Best is trial 11 with value: -2777.100309646695.\u001b[0m\n",
      "\u001b[32m[I 2023-08-29 04:46:29,073]\u001b[0m Trial 73 finished with value: -2777.100309646695 and parameters: {'lambda': 10.759349341726155, 'alpha': 15.396453837116363, 'learning_rate': 0.18318661989010832, 'colsample_bytree': 0.5717158631527137, 'n_estimators': 0}. Best is trial 11 with value: -2777.100309646695.\u001b[0m\n",
      "\u001b[32m[I 2023-08-29 04:46:29,148]\u001b[0m Trial 74 finished with value: -1416.1081107115506 and parameters: {'lambda': 11.125562233496419, 'alpha': 15.506205152705306, 'learning_rate': 0.18284984936067766, 'colsample_bytree': 0.6034343464641908, 'n_estimators': 6}. Best is trial 11 with value: -2777.100309646695.\u001b[0m\n",
      "\u001b[32m[I 2023-08-29 04:46:29,258]\u001b[0m Trial 75 finished with value: -1138.6450502565804 and parameters: {'lambda': 10.252399929628282, 'alpha': 9.61672138106187, 'learning_rate': 0.24991314264354667, 'colsample_bytree': 0.6727546033913385, 'n_estimators': 14}. Best is trial 11 with value: -2777.100309646695.\u001b[0m\n",
      "\u001b[32m[I 2023-08-29 04:46:29,352]\u001b[0m Trial 76 finished with value: -1238.564664976355 and parameters: {'lambda': 8.676337476917862, 'alpha': 16.363843414932973, 'learning_rate': 0.21985146814677206, 'colsample_bytree': 0.5412913261721636, 'n_estimators': 8}. Best is trial 11 with value: -2777.100309646695.\u001b[0m\n",
      "\u001b[32m[I 2023-08-29 04:46:29,401]\u001b[0m Trial 77 finished with value: -2777.100309646695 and parameters: {'lambda': 10.779290200559538, 'alpha': 14.11502449758304, 'learning_rate': 0.057203023775268605, 'colsample_bytree': 0.5846520673493859, 'n_estimators': 0}. Best is trial 11 with value: -2777.100309646695.\u001b[0m\n",
      "\u001b[32m[I 2023-08-29 04:46:29,554]\u001b[0m Trial 78 finished with value: -1162.5267317251469 and parameters: {'lambda': 9.533859765591465, 'alpha': 16.165308605810047, 'learning_rate': 0.4883123175672753, 'colsample_bytree': 0.4258703089494766, 'n_estimators': 34}. Best is trial 11 with value: -2777.100309646695.\u001b[0m\n",
      "\u001b[32m[I 2023-08-29 04:46:29,651]\u001b[0m Trial 79 finished with value: -2056.8230980734515 and parameters: {'lambda': 9.10596073544163, 'alpha': 15.814159437092037, 'learning_rate': 0.09907097654334177, 'colsample_bytree': 0.5991475584324102, 'n_estimators': 4}. Best is trial 11 with value: -2777.100309646695.\u001b[0m\n",
      "\u001b[32m[I 2023-08-29 04:46:29,791]\u001b[0m Trial 80 finished with value: -1391.3518721233363 and parameters: {'lambda': 10.070464135380112, 'alpha': 11.24492075495214, 'learning_rate': 0.07913718089185091, 'colsample_bytree': 0.445051090326954, 'n_estimators': 19}. Best is trial 11 with value: -2777.100309646695.\u001b[0m\n",
      "\u001b[32m[I 2023-08-29 04:46:29,854]\u001b[0m Trial 81 finished with value: -2042.1472661833218 and parameters: {'lambda': 10.45139133383976, 'alpha': 16.638556035415164, 'learning_rate': 0.14653495539921327, 'colsample_bytree': 0.4129500397833708, 'n_estimators': 3}. Best is trial 11 with value: -2777.100309646695.\u001b[0m\n",
      "\u001b[32m[I 2023-08-29 04:46:29,917]\u001b[0m Trial 82 finished with value: -1711.2705487525013 and parameters: {'lambda': 9.895697148251644, 'alpha': 15.179551874156198, 'learning_rate': 0.11598810451097712, 'colsample_bytree': 0.7248555817473118, 'n_estimators': 6}. Best is trial 11 with value: -2777.100309646695.\u001b[0m\n",
      "\u001b[32m[I 2023-08-29 04:46:29,982]\u001b[0m Trial 83 finished with value: -1687.7524171634093 and parameters: {'lambda': 9.329791775204606, 'alpha': 16.643548773478756, 'learning_rate': 0.30464031117167906, 'colsample_bytree': 0.51435312983917, 'n_estimators': 2}. Best is trial 11 with value: -2777.100309646695.\u001b[0m\n",
      "\u001b[32m[I 2023-08-29 04:46:30,029]\u001b[0m Trial 84 finished with value: -2777.100309646695 and parameters: {'lambda': 11.08757827915229, 'alpha': 15.783682131980353, 'learning_rate': 0.2776675685669828, 'colsample_bytree': 0.4643403271188935, 'n_estimators': 0}. Best is trial 11 with value: -2777.100309646695.\u001b[0m\n",
      "\u001b[32m[I 2023-08-29 04:46:30,107]\u001b[0m Trial 85 finished with value: -1315.219638831146 and parameters: {'lambda': 11.185101449254448, 'alpha': 15.630866390862003, 'learning_rate': 0.21504579190196105, 'colsample_bytree': 0.4697396657915351, 'n_estimators': 10}. Best is trial 11 with value: -2777.100309646695.\u001b[0m\n",
      "\u001b[32m[I 2023-08-29 04:46:30,170]\u001b[0m Trial 86 finished with value: -1311.766776688091 and parameters: {'lambda': 10.517510435585411, 'alpha': 14.949985344533642, 'learning_rate': 0.2774680669985703, 'colsample_bytree': 0.43463990400939023, 'n_estimators': 6}. Best is trial 11 with value: -2777.100309646695.\u001b[0m\n",
      "\u001b[32m[I 2023-08-29 04:46:30,351]\u001b[0m Trial 87 finished with value: -1140.0934562670673 and parameters: {'lambda': 9.768154940157428, 'alpha': 13.847740097526632, 'learning_rate': 0.17619309672396838, 'colsample_bytree': 0.49378058610821374, 'n_estimators': 44}. Best is trial 11 with value: -2777.100309646695.\u001b[0m\n",
      "\u001b[32m[I 2023-08-29 04:46:30,398]\u001b[0m Trial 88 finished with value: -2777.100309646695 and parameters: {'lambda': 12.208778229509322, 'alpha': 14.192388571858178, 'learning_rate': 0.3650786046165899, 'colsample_bytree': 0.4532751515458357, 'n_estimators': 0}. Best is trial 11 with value: -2777.100309646695.\u001b[0m\n",
      "\u001b[32m[I 2023-08-29 04:46:30,443]\u001b[0m Trial 89 finished with value: -2777.100309646695 and parameters: {'lambda': 10.80974917024329, 'alpha': 12.90594333483164, 'learning_rate': 0.05791825927060845, 'colsample_bytree': 0.5649723450429881, 'n_estimators': 0}. Best is trial 11 with value: -2777.100309646695.\u001b[0m\n",
      "\u001b[32m[I 2023-08-29 04:46:30,804]\u001b[0m Trial 90 finished with value: -1142.0302261910347 and parameters: {'lambda': 10.684634058176096, 'alpha': 13.492852530882999, 'learning_rate': 0.13208204527881237, 'colsample_bytree': 0.6292730993796037, 'n_estimators': 66}. Best is trial 11 with value: -2777.100309646695.\u001b[0m\n",
      "\u001b[32m[I 2023-08-29 04:46:30,851]\u001b[0m Trial 91 finished with value: -1513.0599420632313 and parameters: {'lambda': 12.220954785126114, 'alpha': 12.999104573161276, 'learning_rate': 0.383123707316885, 'colsample_bytree': 0.5340173134413255, 'n_estimators': 2}. Best is trial 11 with value: -2777.100309646695.\u001b[0m\n",
      "\u001b[32m[I 2023-08-29 04:46:30,914]\u001b[0m Trial 92 finished with value: -1281.5427657000187 and parameters: {'lambda': 11.603271989809066, 'alpha': 16.0203612333896, 'learning_rate': 0.44349743637273015, 'colsample_bytree': 0.42987557307431057, 'n_estimators': 5}. Best is trial 11 with value: -2777.100309646695.\u001b[0m\n",
      "\u001b[32m[I 2023-08-29 04:46:30,978]\u001b[0m Trial 93 finished with value: -1195.2681394479164 and parameters: {'lambda': 11.52463538831908, 'alpha': 16.283703730737674, 'learning_rate': 0.46159229787046174, 'colsample_bytree': 0.4818495733644997, 'n_estimators': 8}. Best is trial 11 with value: -2777.100309646695.\u001b[0m\n",
      "\u001b[32m[I 2023-08-29 04:46:31,040]\u001b[0m Trial 94 finished with value: -1293.5517373882228 and parameters: {'lambda': 10.124292287784055, 'alpha': 14.057948389635472, 'learning_rate': 0.49962653500282683, 'colsample_bytree': 0.41126791087959325, 'n_estimators': 3}. Best is trial 11 with value: -2777.100309646695.\u001b[0m\n",
      "\u001b[32m[I 2023-08-29 04:46:31,088]\u001b[0m Trial 95 finished with value: -2777.100309646695 and parameters: {'lambda': 10.878573504869737, 'alpha': 15.464262941845675, 'learning_rate': 0.05097041225250855, 'colsample_bytree': 0.5820406249758475, 'n_estimators': 0}. Best is trial 11 with value: -2777.100309646695.\u001b[0m\n",
      "\u001b[32m[I 2023-08-29 04:46:31,151]\u001b[0m Trial 96 finished with value: -1953.7722362693862 and parameters: {'lambda': 10.500516532595187, 'alpha': 14.533075289767753, 'learning_rate': 0.06951505977726899, 'colsample_bytree': 0.6101471717597069, 'n_estimators': 7}. Best is trial 11 with value: -2777.100309646695.\u001b[0m\n",
      "\u001b[32m[I 2023-08-29 04:46:31,230]\u001b[0m Trial 97 finished with value: -1172.082178725686 and parameters: {'lambda': 11.915749997275585, 'alpha': 15.030527277464676, 'learning_rate': 0.205816212769309, 'colsample_bytree': 0.550024355084275, 'n_estimators': 12}. Best is trial 11 with value: -2777.100309646695.\u001b[0m\n",
      "\u001b[32m[I 2023-08-29 04:46:31,293]\u001b[0m Trial 98 finished with value: -2175.4493240739966 and parameters: {'lambda': 11.22596798679021, 'alpha': 13.601967829777122, 'learning_rate': 0.14787718995371596, 'colsample_bytree': 0.591873871409964, 'n_estimators': 2}. Best is trial 11 with value: -2777.100309646695.\u001b[0m\n",
      "\u001b[32m[I 2023-08-29 04:46:31,357]\u001b[0m Trial 99 finished with value: -2108.962486084021 and parameters: {'lambda': 10.22988083596859, 'alpha': 12.387115900619754, 'learning_rate': 0.10094791630624211, 'colsample_bytree': 0.44307083908654143, 'n_estimators': 4}. Best is trial 11 with value: -2777.100309646695.\u001b[0m\n",
      "\u001b[32m[I 2023-08-29 04:46:31,467]\u001b[0m Trial 100 finished with value: -1145.094516043554 and parameters: {'lambda': 10.87171865896503, 'alpha': 15.291270239062015, 'learning_rate': 0.4711498123292444, 'colsample_bytree': 0.6571176893519705, 'n_estimators': 15}. Best is trial 11 with value: -2777.100309646695.\u001b[0m\n",
      "\u001b[32m[I 2023-08-29 04:46:31,515]\u001b[0m Trial 101 finished with value: -2648.166719751061 and parameters: {'lambda': 10.897316673471595, 'alpha': 14.63511471664866, 'learning_rate': 0.05734169939345392, 'colsample_bytree': 0.5584293987043932, 'n_estimators': 1}. Best is trial 11 with value: -2777.100309646695.\u001b[0m\n",
      "\u001b[32m[I 2023-08-29 04:46:31,563]\u001b[0m Trial 102 finished with value: -2777.100309646695 and parameters: {'lambda': 11.647683308289615, 'alpha': 14.875859772288212, 'learning_rate': 0.16897992071669354, 'colsample_bytree': 0.5254622853293345, 'n_estimators': 0}. Best is trial 11 with value: -2777.100309646695.\u001b[0m\n",
      "\u001b[32m[I 2023-08-29 04:46:31,642]\u001b[0m Trial 103 finished with value: -1517.2126103438918 and parameters: {'lambda': 12.631235910327632, 'alpha': 14.476708509894042, 'learning_rate': 0.1873263268037752, 'colsample_bytree': 0.565810543254134, 'n_estimators': 5}. Best is trial 11 with value: -2777.100309646695.\u001b[0m\n",
      "\u001b[32m[I 2023-08-29 04:46:31,737]\u001b[0m Trial 104 finished with value: -1220.4925893818706 and parameters: {'lambda': 9.700200492159938, 'alpha': 14.968176581079112, 'learning_rate': 0.1712086673612163, 'colsample_bytree': 0.5290022823546502, 'n_estimators': 11}. Best is trial 11 with value: -2777.100309646695.\u001b[0m\n",
      "\u001b[32m[I 2023-08-29 04:46:31,817]\u001b[0m Trial 105 finished with value: -1217.4636498228383 and parameters: {'lambda': 11.290553606039403, 'alpha': 15.77860955288107, 'learning_rate': 0.23717391423287698, 'colsample_bytree': 0.5043760046759009, 'n_estimators': 8}. Best is trial 11 with value: -2777.100309646695.\u001b[0m\n",
      "\u001b[32m[I 2023-08-29 04:46:31,865]\u001b[0m Trial 106 finished with value: -1692.682846055454 and parameters: {'lambda': 10.348719892650912, 'alpha': 14.191852480279533, 'learning_rate': 0.3035002082818899, 'colsample_bytree': 0.562689257811986, 'n_estimators': 2}. Best is trial 11 with value: -2777.100309646695.\u001b[0m\n",
      "\u001b[32m[I 2023-08-29 04:46:31,929]\u001b[0m Trial 107 finished with value: -1929.3419448091363 and parameters: {'lambda': 9.975805887643379, 'alpha': 13.74865953702625, 'learning_rate': 0.12201290502276312, 'colsample_bytree': 0.5771390177684181, 'n_estimators': 4}. Best is trial 11 with value: -2777.100309646695.\u001b[0m\n",
      "\u001b[32m[I 2023-08-29 04:46:32,462]\u001b[0m Trial 108 finished with value: -1141.2800687246374 and parameters: {'lambda': 10.871326400811737, 'alpha': 16.79306769533484, 'learning_rate': 0.054030700133331964, 'colsample_bytree': 0.4545633732330872, 'n_estimators': 98}. Best is trial 11 with value: -2777.100309646695.\u001b[0m\n",
      "\u001b[32m[I 2023-08-29 04:46:32,524]\u001b[0m Trial 109 finished with value: -1191.6177913658742 and parameters: {'lambda': 11.741569312961449, 'alpha': 14.80641971189888, 'learning_rate': 0.4789867607063864, 'colsample_bytree': 0.4207099079428712, 'n_estimators': 6}. Best is trial 11 with value: -2777.100309646695.\u001b[0m\n",
      "\u001b[32m[I 2023-08-29 04:46:32,571]\u001b[0m Trial 110 finished with value: -2572.3322704803622 and parameters: {'lambda': 12.150327111352647, 'alpha': 13.970381566042393, 'learning_rate': 0.09159307553649926, 'colsample_bytree': 0.5135931686875952, 'n_estimators': 1}. Best is trial 11 with value: -2777.100309646695.\u001b[0m\n",
      "\u001b[32m[I 2023-08-29 04:46:32,634]\u001b[0m Trial 111 finished with value: -1339.2505217416933 and parameters: {'lambda': 10.324115972662918, 'alpha': 14.646512087056285, 'learning_rate': 0.4506157513859175, 'colsample_bytree': 0.4954319488144911, 'n_estimators': 3}. Best is trial 11 with value: -2777.100309646695.\u001b[0m\n",
      "\u001b[32m[I 2023-08-29 04:46:32,666]\u001b[0m Trial 112 finished with value: -2777.100309646695 and parameters: {'lambda': 11.376397993328474, 'alpha': 10.271845793815459, 'learning_rate': 0.3486319040976475, 'colsample_bytree': 0.5949283687539386, 'n_estimators': 0}. Best is trial 11 with value: -2777.100309646695.\u001b[0m\n",
      "\u001b[32m[I 2023-08-29 04:46:32,745]\u001b[0m Trial 113 finished with value: -1138.065896735736 and parameters: {'lambda': 9.366176098921056, 'alpha': 10.267690333934983, 'learning_rate': 0.43437756418783285, 'colsample_bytree': 0.6197888133003788, 'n_estimators': 9}. Best is trial 11 with value: -2777.100309646695.\u001b[0m\n",
      "\u001b[32m[I 2023-08-29 04:46:32,794]\u001b[0m Trial 114 finished with value: -2777.100309646695 and parameters: {'lambda': 10.551349988026764, 'alpha': 15.301394739749178, 'learning_rate': 0.18952219980973906, 'colsample_bytree': 0.5704095570224128, 'n_estimators': 0}. Best is trial 11 with value: -2777.100309646695.\u001b[0m\n",
      "\u001b[32m[I 2023-08-29 04:46:32,855]\u001b[0m Trial 115 finished with value: -1524.864663990544 and parameters: {'lambda': 9.579682365817158, 'alpha': 15.323288021892685, 'learning_rate': 0.18448220867108445, 'colsample_bytree': 0.5758670763197599, 'n_estimators': 5}. Best is trial 11 with value: -2777.100309646695.\u001b[0m\n",
      "\u001b[32m[I 2023-08-29 04:46:33,220]\u001b[0m Trial 116 finished with value: -1177.8285728053347 and parameters: {'lambda': 10.667098403793675, 'alpha': 16.531407242013707, 'learning_rate': 0.46895627711717125, 'colsample_bytree': 0.47386889459713305, 'n_estimators': 75}. Best is trial 11 with value: -2777.100309646695.\u001b[0m\n",
      "\u001b[32m[I 2023-08-29 04:46:33,267]\u001b[0m Trial 117 finished with value: -2777.100309646695 and parameters: {'lambda': 11.535880995985481, 'alpha': 15.595751512489059, 'learning_rate': 0.4880305353821499, 'colsample_bytree': 0.5473161924868559, 'n_estimators': 0}. Best is trial 11 with value: -2777.100309646695.\u001b[0m\n",
      "\u001b[32m[I 2023-08-29 04:46:33,315]\u001b[0m Trial 118 finished with value: -1338.0537750318874 and parameters: {'lambda': 11.920117856271622, 'alpha': 14.25918192260261, 'learning_rate': 0.4848483612832824, 'colsample_bytree': 0.546832630898532, 'n_estimators': 2}. Best is trial 11 with value: -2777.100309646695.\u001b[0m\n",
      "\u001b[32m[I 2023-08-29 04:46:33,393]\u001b[0m Trial 119 finished with value: -1162.744217765703 and parameters: {'lambda': 11.326897491320516, 'alpha': 9.060644787212055, 'learning_rate': 0.3245132879188851, 'colsample_bytree': 0.5944299206246901, 'n_estimators': 7}. Best is trial 11 with value: -2777.100309646695.\u001b[0m\n",
      "\u001b[32m[I 2023-08-29 04:46:33,815]\u001b[0m Trial 120 finished with value: -1147.875892219427 and parameters: {'lambda': 8.397924017111405, 'alpha': 16.399000603520868, 'learning_rate': 0.14747753447911877, 'colsample_bytree': 0.5352102006969761, 'n_estimators': 89}. Best is trial 11 with value: -2777.100309646695.\u001b[0m\n",
      "\u001b[32m[I 2023-08-29 04:46:33,877]\u001b[0m Trial 121 finished with value: -2777.100309646695 and parameters: {'lambda': 10.511483463186714, 'alpha': 9.570276941601842, 'learning_rate': 0.0799993353075463, 'colsample_bytree': 0.6026233496326072, 'n_estimators': 0}. Best is trial 11 with value: -2777.100309646695.\u001b[0m\n",
      "\u001b[32m[I 2023-08-29 04:46:33,924]\u001b[0m Trial 122 finished with value: -2777.100309646695 and parameters: {'lambda': 11.056199461522375, 'alpha': 8.045020368732546, 'learning_rate': 0.063876326095732, 'colsample_bytree': 0.6079286621788738, 'n_estimators': 0}. Best is trial 11 with value: -2777.100309646695.\u001b[0m\n",
      "\u001b[32m[I 2023-08-29 04:46:34,009]\u001b[0m Trial 123 finished with value: -2293.8414202371055 and parameters: {'lambda': 10.070860627769807, 'alpha': 9.667758439605704, 'learning_rate': 0.08240411768650162, 'colsample_bytree': 0.5857047573742391, 'n_estimators': 3}. Best is trial 11 with value: -2777.100309646695.\u001b[0m\n",
      "\u001b[32m[I 2023-08-29 04:46:34,089]\u001b[0m Trial 124 finished with value: -2278.702039641509 and parameters: {'lambda': 11.073144639279286, 'alpha': 16.119659704902347, 'learning_rate': 0.06455942193978624, 'colsample_bytree': 0.6200052010964099, 'n_estimators': 4}. Best is trial 11 with value: -2777.100309646695.\u001b[0m\n",
      "\u001b[32m[I 2023-08-29 04:46:34,377]\u001b[0m Trial 125 finished with value: -1146.405852949496 and parameters: {'lambda': 10.695177956948246, 'alpha': 13.31066832921186, 'learning_rate': 0.24720167916395094, 'colsample_bytree': 0.46599601575108374, 'n_estimators': 54}. Best is trial 11 with value: -2777.100309646695.\u001b[0m\n",
      "\u001b[32m[I 2023-08-29 04:46:34,437]\u001b[0m Trial 126 finished with value: -1326.4138896468467 and parameters: {'lambda': 10.548841307719853, 'alpha': 15.314145585230479, 'learning_rate': 0.49104501900580105, 'colsample_bytree': 0.5755870848558577, 'n_estimators': 2}. Best is trial 11 with value: -2777.100309646695.\u001b[0m\n",
      "\u001b[32m[I 2023-08-29 04:46:34,501]\u001b[0m Trial 127 finished with value: -2247.6571648318695 and parameters: {'lambda': 10.799411210881857, 'alpha': 14.642579814468379, 'learning_rate': 0.051083404035378255, 'colsample_bytree': 0.4885571122492049, 'n_estimators': 6}. Best is trial 11 with value: -2777.100309646695.\u001b[0m\n",
      "\u001b[32m[I 2023-08-29 04:46:34,548]\u001b[0m Trial 128 finished with value: -2777.100309646695 and parameters: {'lambda': 11.724586330459275, 'alpha': 15.90020341460041, 'learning_rate': 0.2626129059080895, 'colsample_bytree': 0.5200032806063353, 'n_estimators': 0}. Best is trial 11 with value: -2777.100309646695.\u001b[0m\n",
      "\u001b[32m[I 2023-08-29 04:46:34,606]\u001b[0m Trial 129 finished with value: -1500.8618537142916 and parameters: {'lambda': 11.031693448187525, 'alpha': 14.132036618394714, 'learning_rate': 0.22641732643845663, 'colsample_bytree': 0.5552320175817319, 'n_estimators': 4}. Best is trial 11 with value: -2777.100309646695.\u001b[0m\n",
      "\u001b[32m[I 2023-08-29 04:46:34,699]\u001b[0m Trial 130 finished with value: -1273.167961894555 and parameters: {'lambda': 12.342391944126456, 'alpha': 15.70958627777789, 'learning_rate': 0.27133471365275047, 'colsample_bytree': 0.44686217950720986, 'n_estimators': 10}. Best is trial 11 with value: -2777.100309646695.\u001b[0m\n",
      "\u001b[32m[I 2023-08-29 04:46:34,746]\u001b[0m Trial 131 finished with value: -2491.237245923672 and parameters: {'lambda': 9.929650926041752, 'alpha': 13.066436073928118, 'learning_rate': 0.07284687708748665, 'colsample_bytree': 0.46244915626734995, 'n_estimators': 2}. Best is trial 11 with value: -2777.100309646695.\u001b[0m\n",
      "\u001b[32m[I 2023-08-29 04:46:34,810]\u001b[0m Trial 132 finished with value: -1638.6176942358375 and parameters: {'lambda': 10.208960392929624, 'alpha': 16.83157377963319, 'learning_rate': 0.1559775189834407, 'colsample_bytree': 0.5018222056343082, 'n_estimators': 5}. Best is trial 11 with value: -2777.100309646695.\u001b[0m\n",
      "\u001b[32m[I 2023-08-29 04:46:34,859]\u001b[0m Trial 133 finished with value: -2777.100309646695 and parameters: {'lambda': 11.618761532065955, 'alpha': 14.836049011896572, 'learning_rate': 0.370211686909097, 'colsample_bytree': 0.5840669602579996, 'n_estimators': 0}. Best is trial 11 with value: -2777.100309646695.\u001b[0m\n",
      "\u001b[32m[I 2023-08-29 04:46:34,906]\u001b[0m Trial 134 finished with value: -2777.100309646695 and parameters: {'lambda': 11.41273531006757, 'alpha': 7.721390306039237, 'learning_rate': 0.3600335021963803, 'colsample_bytree': 0.6329367232590434, 'n_estimators': 0}. Best is trial 11 with value: -2777.100309646695.\u001b[0m\n",
      "\u001b[32m[I 2023-08-29 04:46:34,953]\u001b[0m Trial 135 finished with value: -1810.8151411172944 and parameters: {'lambda': 11.222087393955075, 'alpha': 11.651901842574388, 'learning_rate': 0.2930652708219995, 'colsample_bytree': 0.48157068027717365, 'n_estimators': 2}. Best is trial 11 with value: -2777.100309646695.\u001b[0m\n",
      "\u001b[32m[I 2023-08-29 04:46:35,016]\u001b[0m Trial 136 finished with value: -1725.8602063385165 and parameters: {'lambda': 10.881150825567012, 'alpha': 7.006015264368047, 'learning_rate': 0.11282621757399658, 'colsample_bytree': 0.45558631144627054, 'n_estimators': 7}. Best is trial 11 with value: -2777.100309646695.\u001b[0m\n",
      "\u001b[32m[I 2023-08-29 04:46:35,078]\u001b[0m Trial 137 finished with value: -1536.9531919307246 and parameters: {'lambda': 12.573355956977887, 'alpha': 12.327763741336291, 'learning_rate': 0.2156654041690202, 'colsample_bytree': 0.5656227067831369, 'n_estimators': 4}. Best is trial 11 with value: -2777.100309646695.\u001b[0m\n",
      "\u001b[32m[I 2023-08-29 04:46:35,139]\u001b[0m Trial 138 finished with value: -2097.2629976187854 and parameters: {'lambda': 9.107863152271618, 'alpha': 12.872795136147067, 'learning_rate': 0.16927169052415245, 'colsample_bytree': 0.5265192396563377, 'n_estimators': 2}. Best is trial 11 with value: -2777.100309646695.\u001b[0m\n",
      "\u001b[32m[I 2023-08-29 04:46:35,233]\u001b[0m Trial 139 finished with value: -1142.2062242009697 and parameters: {'lambda': 12.91832586867026, 'alpha': 15.524686284576514, 'learning_rate': 0.4083814280392485, 'colsample_bytree': 0.5585144213827734, 'n_estimators': 8}. Best is trial 11 with value: -2777.100309646695.\u001b[0m\n",
      "\u001b[32m[I 2023-08-29 04:46:35,295]\u001b[0m Trial 140 finished with value: -2777.100309646695 and parameters: {'lambda': 11.954895215818803, 'alpha': 14.322669290604011, 'learning_rate': 0.20647316713614916, 'colsample_bytree': 0.4348093130243697, 'n_estimators': 0}. Best is trial 11 with value: -2777.100309646695.\u001b[0m\n",
      "\u001b[32m[I 2023-08-29 04:46:35,343]\u001b[0m Trial 141 finished with value: -2777.100309646695 and parameters: {'lambda': 10.396321168526756, 'alpha': 10.029112982523802, 'learning_rate': 0.20492570978909516, 'colsample_bytree': 0.6012784291567383, 'n_estimators': 0}. Best is trial 11 with value: -2777.100309646695.\u001b[0m\n",
      "\u001b[32m[I 2023-08-29 04:46:35,394]\u001b[0m Trial 142 finished with value: -2777.100309646695 and parameters: {'lambda': 10.4359414666068, 'alpha': 8.625495132487185, 'learning_rate': 0.2079369032941999, 'colsample_bytree': 0.6025368986628917, 'n_estimators': 0}. Best is trial 11 with value: -2777.100309646695.\u001b[0m\n",
      "\u001b[32m[I 2023-08-29 04:46:35,455]\u001b[0m Trial 143 finished with value: -1877.408267534046 and parameters: {'lambda': 10.373987438035691, 'alpha': 8.834578567112777, 'learning_rate': 0.19077756035066487, 'colsample_bytree': 0.4708196523114391, 'n_estimators': 3}. Best is trial 11 with value: -2777.100309646695.\u001b[0m\n",
      "\u001b[32m[I 2023-08-29 04:46:35,518]\u001b[0m Trial 144 finished with value: -1150.250556826016 and parameters: {'lambda': 11.46804302676564, 'alpha': 15.499553326301342, 'learning_rate': 0.45947244567357, 'colsample_bytree': 0.5404573012955045, 'n_estimators': 5}. Best is trial 11 with value: -2777.100309646695.\u001b[0m\n",
      "\u001b[32m[I 2023-08-29 04:46:35,580]\u001b[0m Trial 145 finished with value: -1441.4376595632311 and parameters: {'lambda': 11.4962233577288, 'alpha': 15.113796090082378, 'learning_rate': 0.41984837406215325, 'colsample_bytree': 0.5832157978903142, 'n_estimators': 2}. Best is trial 11 with value: -2777.100309646695.\u001b[0m\n",
      "\u001b[32m[I 2023-08-29 04:46:35,627]\u001b[0m Trial 146 finished with value: -2777.100309646695 and parameters: {'lambda': 11.1274635805536, 'alpha': 9.421828771199069, 'learning_rate': 0.1376956607013931, 'colsample_bytree': 0.613014565866417, 'n_estimators': 0}. Best is trial 11 with value: -2777.100309646695.\u001b[0m\n",
      "\u001b[32m[I 2023-08-29 04:46:35,689]\u001b[0m Trial 147 finished with value: -1488.99856439502 and parameters: {'lambda': 10.814962838886817, 'alpha': 14.488627735841778, 'learning_rate': 0.1622775278754368, 'colsample_bytree': 0.570956402215588, 'n_estimators': 6}. Best is trial 11 with value: -2777.100309646695.\u001b[0m\n",
      "\u001b[32m[I 2023-08-29 04:46:35,751]\u001b[0m Trial 148 finished with value: -1214.371252075041 and parameters: {'lambda': 11.789874810309147, 'alpha': 15.965300383866552, 'learning_rate': 0.48228441005958794, 'colsample_bytree': 0.516476176454129, 'n_estimators': 3}. Best is trial 11 with value: -2777.100309646695.\u001b[0m\n",
      "\u001b[32m[I 2023-08-29 04:46:35,800]\u001b[0m Trial 149 finished with value: -2777.100309646695 and parameters: {'lambda': 9.718330429395994, 'alpha': 8.27712886860122, 'learning_rate': 0.26106193619954937, 'colsample_bytree': 0.5950228235883691, 'n_estimators': 0}. Best is trial 11 with value: -2777.100309646695.\u001b[0m\n",
      "\u001b[32m[I 2023-08-29 04:46:35,860]\u001b[0m Trial 150 finished with value: -1464.4690586388106 and parameters: {'lambda': 12.145282988238888, 'alpha': 10.963968381974018, 'learning_rate': 0.23945485672395803, 'colsample_bytree': 0.5512313928263802, 'n_estimators': 4}. Best is trial 11 with value: -2777.100309646695.\u001b[0m\n",
      "\u001b[32m[I 2023-08-29 04:46:35,908]\u001b[0m Trial 151 finished with value: -2777.100309646695 and parameters: {'lambda': 11.307623065982146, 'alpha': 9.380134423161376, 'learning_rate': 0.07421138906865365, 'colsample_bytree': 0.5907950529687209, 'n_estimators': 0}. Best is trial 11 with value: -2777.100309646695.\u001b[0m\n",
      "\u001b[32m[I 2023-08-29 04:46:35,969]\u001b[0m Trial 152 finished with value: -2377.199318651865 and parameters: {'lambda': 9.727759189763528, 'alpha': 13.379606216138873, 'learning_rate': 0.10407028755879147, 'colsample_bytree': 0.4491619297718619, 'n_estimators': 2}. Best is trial 11 with value: -2777.100309646695.\u001b[0m\n",
      "\u001b[32m[I 2023-08-29 04:46:36,047]\u001b[0m Trial 153 finished with value: -2054.261950426616 and parameters: {'lambda': 10.604332960703752, 'alpha': 8.06001845777366, 'learning_rate': 0.08263607124099073, 'colsample_bytree': 0.5697787660122543, 'n_estimators': 5}. Best is trial 11 with value: -2777.100309646695.\u001b[0m\n",
      "\u001b[32m[I 2023-08-29 04:46:36,111]\u001b[0m Trial 154 finished with value: -2777.100309646695 and parameters: {'lambda': 11.033249654678414, 'alpha': 10.017492849699751, 'learning_rate': 0.19427627941598552, 'colsample_bytree': 0.5438736644033597, 'n_estimators': 0}. Best is trial 11 with value: -2777.100309646695.\u001b[0m\n",
      "\u001b[32m[I 2023-08-29 04:46:36,177]\u001b[0m Trial 155 finished with value: -2081.55119181585 and parameters: {'lambda': 10.777592483858918, 'alpha': 13.819453887146222, 'learning_rate': 0.1743890635431451, 'colsample_bytree': 0.5797754012879839, 'n_estimators': 2}. Best is trial 11 with value: -2777.100309646695.\u001b[0m\n",
      "\u001b[32m[I 2023-08-29 04:46:36,255]\u001b[0m Trial 156 finished with value: -1503.2334795728307 and parameters: {'lambda': 10.97661907133765, 'alpha': 10.551313776059834, 'learning_rate': 0.12760686837105367, 'colsample_bytree': 0.5252484212368272, 'n_estimators': 8}. Best is trial 11 with value: -2777.100309646695.\u001b[0m\n",
      "\u001b[32m[I 2023-08-29 04:46:36,302]\u001b[0m Trial 157 finished with value: -2777.100309646695 and parameters: {'lambda': 11.715934744586278, 'alpha': 7.505974112806125, 'learning_rate': 0.3689922484271511, 'colsample_bytree': 0.641160365950447, 'n_estimators': 0}. Best is trial 11 with value: -2777.100309646695.\u001b[0m\n",
      "\u001b[32m[I 2023-08-29 04:46:36,365]\u001b[0m Trial 158 finished with value: -1230.5031579794004 and parameters: {'lambda': 11.713547231896646, 'alpha': 7.3898640265060855, 'learning_rate': 0.36998575094181013, 'colsample_bytree': 0.6425412075853747, 'n_estimators': 4}. Best is trial 11 with value: -2777.100309646695.\u001b[0m\n",
      "\u001b[32m[I 2023-08-29 04:46:36,453]\u001b[0m Trial 159 finished with value: -2406.327105778081 and parameters: {'lambda': 11.413062368551024, 'alpha': 14.792569504977482, 'learning_rate': 0.061724638395873, 'colsample_bytree': 0.6335459627011818, 'n_estimators': 3}. Best is trial 11 with value: -2777.100309646695.\u001b[0m\n",
      "\u001b[32m[I 2023-08-29 04:46:36,516]\u001b[0m Trial 160 finished with value: -1171.5654255267273 and parameters: {'lambda': 13.301635359350914, 'alpha': 15.600008043161914, 'learning_rate': 0.33525916543058376, 'colsample_bytree': 0.5627488170499787, 'n_estimators': 6}. Best is trial 11 with value: -2777.100309646695.\u001b[0m\n",
      "\u001b[32m[I 2023-08-29 04:46:36,573]\u001b[0m Trial 161 finished with value: -2055.466805375761 and parameters: {'lambda': 12.008899931640524, 'alpha': 16.294126606280432, 'learning_rate': 0.20614311466675753, 'colsample_bytree': 0.4335805833724469, 'n_estimators': 2}. Best is trial 11 with value: -2777.100309646695.\u001b[0m\n",
      "\u001b[32m[I 2023-08-29 04:46:36,623]\u001b[0m Trial 162 finished with value: -2777.100309646695 and parameters: {'lambda': 11.5696559502645, 'alpha': 7.770569555139005, 'learning_rate': 0.498409146118857, 'colsample_bytree': 0.6102552870682548, 'n_estimators': 0}. Best is trial 11 with value: -2777.100309646695.\u001b[0m\n",
      "\u001b[32m[I 2023-08-29 04:46:36,673]\u001b[0m Trial 163 finished with value: -2777.100309646695 and parameters: {'lambda': 11.23196449693408, 'alpha': 14.972758014543372, 'learning_rate': 0.3464212922682598, 'colsample_bytree': 0.5724611438057154, 'n_estimators': 0}. Best is trial 11 with value: -2777.100309646695.\u001b[0m\n",
      "\u001b[32m[I 2023-08-29 04:46:36,724]\u001b[0m Trial 164 finished with value: -1587.6619687605914 and parameters: {'lambda': 11.252819390044607, 'alpha': 15.003734390269738, 'learning_rate': 0.3477437245717388, 'colsample_bytree': 0.5718438992429834, 'n_estimators': 2}. Best is trial 11 with value: -2777.100309646695.\u001b[0m\n",
      "\u001b[32m[I 2023-08-29 04:46:36,771]\u001b[0m Trial 165 finished with value: -2777.100309646695 and parameters: {'lambda': 11.588359744262833, 'alpha': 14.970301275077704, 'learning_rate': 0.35963169407407486, 'colsample_bytree': 0.5995391756808451, 'n_estimators': 0}. Best is trial 11 with value: -2777.100309646695.\u001b[0m\n",
      "\u001b[32m[I 2023-08-29 04:46:36,832]\u001b[0m Trial 166 finished with value: -1213.9651348507487 and parameters: {'lambda': 11.75590146761999, 'alpha': 15.267508199687443, 'learning_rate': 0.38420413879997606, 'colsample_bytree': 0.5156209174719535, 'n_estimators': 4}. Best is trial 11 with value: -2777.100309646695.\u001b[0m\n",
      "\u001b[32m[I 2023-08-29 04:46:36,880]\u001b[0m Trial 167 finished with value: -2777.100309646695 and parameters: {'lambda': 10.457851735975872, 'alpha': 8.72508710042822, 'learning_rate': 0.13692294728785018, 'colsample_bytree': 0.6085375477536875, 'n_estimators': 0}. Best is trial 11 with value: -2777.100309646695.\u001b[0m\n",
      "\u001b[32m[I 2023-08-29 04:46:37,037]\u001b[0m Trial 168 finished with value: -1189.0596336114625 and parameters: {'lambda': 11.615147989067875, 'alpha': 8.174025958417738, 'learning_rate': 0.08884221411836424, 'colsample_bytree': 0.5868739755101882, 'n_estimators': 27}. Best is trial 11 with value: -2777.100309646695.\u001b[0m\n",
      "\u001b[32m[I 2023-08-29 04:46:37,247]\u001b[0m Trial 169 finished with value: -1149.1962515712248 and parameters: {'lambda': 10.18155349305242, 'alpha': 13.935743446681656, 'learning_rate': 0.2889307927816901, 'colsample_bytree': 0.6578903879226999, 'n_estimators': 41}. Best is trial 11 with value: -2777.100309646695.\u001b[0m\n",
      "\u001b[32m[I 2023-08-29 04:46:37,293]\u001b[0m Trial 170 finished with value: -2569.756253376697 and parameters: {'lambda': 10.981984594352797, 'alpha': 9.392839961027951, 'learning_rate': 0.052305117574404876, 'colsample_bytree': 0.49847884390591013, 'n_estimators': 2}. Best is trial 11 with value: -2777.100309646695.\u001b[0m\n",
      "\u001b[32m[I 2023-08-29 04:46:37,342]\u001b[0m Trial 171 finished with value: -2777.100309646695 and parameters: {'lambda': 10.566231290346012, 'alpha': 8.564018215839779, 'learning_rate': 0.204194279857006, 'colsample_bytree': 0.626305929158721, 'n_estimators': 0}. Best is trial 11 with value: -2777.100309646695.\u001b[0m\n",
      "\u001b[32m[I 2023-08-29 04:46:37,387]\u001b[0m Trial 172 finished with value: -1913.9147643260296 and parameters: {'lambda': 11.950115689703466, 'alpha': 8.528039850941866, 'learning_rate': 0.22618292346423385, 'colsample_bytree': 0.6357132351212175, 'n_estimators': 2}. Best is trial 11 with value: -2777.100309646695.\u001b[0m\n",
      "\u001b[32m[I 2023-08-29 04:46:37,440]\u001b[0m Trial 173 finished with value: -2777.100309646695 and parameters: {'lambda': 11.363200257430472, 'alpha': 7.931967924052912, 'learning_rate': 0.3241666303114427, 'colsample_bytree': 0.6163045657931014, 'n_estimators': 0}. Best is trial 11 with value: -2777.100309646695.\u001b[0m\n",
      "\u001b[32m[I 2023-08-29 04:46:37,503]\u001b[0m Trial 174 finished with value: -1296.5152850545292 and parameters: {'lambda': 9.944493430222305, 'alpha': 7.672589727771234, 'learning_rate': 0.316053315643047, 'colsample_bytree': 0.6219611667607112, 'n_estimators': 4}. Best is trial 11 with value: -2777.100309646695.\u001b[0m\n",
      "\u001b[32m[I 2023-08-29 04:46:37,601]\u001b[0m Trial 175 finished with value: -1159.4092820878282 and parameters: {'lambda': 12.26036063815929, 'alpha': 14.424056941961005, 'learning_rate': 0.36123099964065136, 'colsample_bytree': 0.5923565438560658, 'n_estimators': 6}. Best is trial 11 with value: -2777.100309646695.\u001b[0m\n",
      "\u001b[32m[I 2023-08-29 04:46:37,677]\u001b[0m Trial 176 finished with value: -2003.7753623179449 and parameters: {'lambda': 11.11235333472784, 'alpha': 15.847341167205592, 'learning_rate': 0.1976603151048131, 'colsample_bytree': 0.5553193597023659, 'n_estimators': 2}. Best is trial 11 with value: -2777.100309646695.\u001b[0m\n",
      "\u001b[32m[I 2023-08-29 04:46:37,757]\u001b[0m Trial 177 finished with value: -1158.9611016924084 and parameters: {'lambda': 10.975892153553353, 'alpha': 10.515399937075223, 'learning_rate': 0.4760101003630586, 'colsample_bytree': 0.5348771383685751, 'n_estimators': 4}. Best is trial 11 with value: -2777.100309646695.\u001b[0m\n",
      "\u001b[32m[I 2023-08-29 04:46:37,804]\u001b[0m Trial 178 finished with value: -2777.100309646695 and parameters: {'lambda': 11.165974705090594, 'alpha': 9.98001084122016, 'learning_rate': 0.3971139415845959, 'colsample_bytree': 0.8101964666664401, 'n_estimators': 0}. Best is trial 11 with value: -2777.100309646695.\u001b[0m\n",
      "\u001b[32m[I 2023-08-29 04:46:37,870]\u001b[0m Trial 179 finished with value: -1395.5584921063628 and parameters: {'lambda': 10.719846008425323, 'alpha': 15.387488814706266, 'learning_rate': 0.16926754351426637, 'colsample_bytree': 0.5816159141846312, 'n_estimators': 7}. Best is trial 11 with value: -2777.100309646695.\u001b[0m\n",
      "\u001b[32m[I 2023-08-29 04:46:37,918]\u001b[0m Trial 180 finished with value: -2475.243859795324 and parameters: {'lambda': 10.30307404598435, 'alpha': 14.299433304771727, 'learning_rate': 0.06995589159652817, 'colsample_bytree': 0.6032484126253118, 'n_estimators': 2}. Best is trial 11 with value: -2777.100309646695.\u001b[0m\n",
      "\u001b[32m[I 2023-08-29 04:46:37,965]\u001b[0m Trial 181 finished with value: -2777.100309646695 and parameters: {'lambda': 10.664565030108943, 'alpha': 14.112502706140893, 'learning_rate': 0.17844742540212624, 'colsample_bytree': 0.625775377908214, 'n_estimators': 0}. Best is trial 11 with value: -2777.100309646695.\u001b[0m\n",
      "\u001b[32m[I 2023-08-29 04:46:38,012]\u001b[0m Trial 182 finished with value: -2777.100309646695 and parameters: {'lambda': 10.614022704781512, 'alpha': 14.675821436831788, 'learning_rate': 0.18490019738868754, 'colsample_bytree': 0.6180553971585978, 'n_estimators': 0}. Best is trial 11 with value: -2777.100309646695.\u001b[0m\n",
      "\u001b[32m[I 2023-08-29 04:46:38,061]\u001b[0m Trial 183 finished with value: -1958.1563881445927 and parameters: {'lambda': 10.472260609342086, 'alpha': 10.252851768718331, 'learning_rate': 0.21145426534892306, 'colsample_bytree': 0.6031856899153867, 'n_estimators': 2}. Best is trial 11 with value: -2777.100309646695.\u001b[0m\n",
      "\u001b[32m[I 2023-08-29 04:46:38,139]\u001b[0m Trial 184 finished with value: -1609.821724204745 and parameters: {'lambda': 11.919298636364385, 'alpha': 9.798243591421766, 'learning_rate': 0.19396538162939853, 'colsample_bytree': 0.59569027679879, 'n_estimators': 4}. Best is trial 11 with value: -2777.100309646695.\u001b[0m\n",
      "\u001b[32m[I 2023-08-29 04:46:38,187]\u001b[0m Trial 185 finished with value: -2777.100309646695 and parameters: {'lambda': 11.342889254962376, 'alpha': 7.529961195046934, 'learning_rate': 0.26625208358110763, 'colsample_bytree': 0.6615794640282162, 'n_estimators': 0}. Best is trial 11 with value: -2777.100309646695.\u001b[0m\n",
      "\u001b[32m[I 2023-08-29 04:46:38,250]\u001b[0m Trial 186 finished with value: -1828.687218255372 and parameters: {'lambda': 9.856825682096144, 'alpha': 7.290324270451476, 'learning_rate': 0.2535122535661422, 'colsample_bytree': 0.6825362407808123, 'n_estimators': 2}. Best is trial 11 with value: -2777.100309646695.\u001b[0m\n",
      "\u001b[32m[I 2023-08-29 04:46:38,298]\u001b[0m Trial 187 finished with value: -2777.100309646695 and parameters: {'lambda': 11.190267943261274, 'alpha': 9.057472963476663, 'learning_rate': 0.2821232577452222, 'colsample_bytree': 0.5914973732487828, 'n_estimators': 0}. Best is trial 11 with value: -2777.100309646695.\u001b[0m\n",
      "\u001b[32m[I 2023-08-29 04:46:38,362]\u001b[0m Trial 188 finished with value: -1439.7551883664867 and parameters: {'lambda': 12.110642151863424, 'alpha': 10.049262237050389, 'learning_rate': 0.2115200135797182, 'colsample_bytree': 0.5422784496892458, 'n_estimators': 5}. Best is trial 11 with value: -2777.100309646695.\u001b[0m\n",
      "\u001b[32m[I 2023-08-29 04:46:38,424]\u001b[0m Trial 189 finished with value: -1575.9233051348153 and parameters: {'lambda': 10.890921204868318, 'alpha': 9.508106160505973, 'learning_rate': 0.2631943260815234, 'colsample_bytree': 0.593477593050059, 'n_estimators': 3}. Best is trial 11 with value: -2777.100309646695.\u001b[0m\n",
      "\u001b[32m[I 2023-08-29 04:46:38,500]\u001b[0m Trial 190 finished with value: -1140.9907553774249 and parameters: {'lambda': 11.110037257594575, 'alpha': 9.210500153855554, 'learning_rate': 0.4424769354639173, 'colsample_bytree': 0.564036362329286, 'n_estimators': 6}. Best is trial 11 with value: -2777.100309646695.\u001b[0m\n",
      "\u001b[32m[I 2023-08-29 04:46:38,581]\u001b[0m Trial 191 finished with value: -2777.100309646695 and parameters: {'lambda': 10.671697434071543, 'alpha': 15.615644357681866, 'learning_rate': 0.1816503356129947, 'colsample_bytree': 0.7775233980357384, 'n_estimators': 0}. Best is trial 11 with value: -2777.100309646695.\u001b[0m\n",
      "\u001b[32m[I 2023-08-29 04:46:38,630]\u001b[0m Trial 192 finished with value: -2516.492191164083 and parameters: {'lambda': 10.890577675561474, 'alpha': 15.211555139637733, 'learning_rate': 0.06004954029592419, 'colsample_bytree': 0.5869169804496046, 'n_estimators': 2}. Best is trial 11 with value: -2777.100309646695.\u001b[0m\n",
      "\u001b[32m[I 2023-08-29 04:46:38,677]\u001b[0m Trial 193 finished with value: -2777.100309646695 and parameters: {'lambda': 11.538930917954593, 'alpha': 9.221934521568482, 'learning_rate': 0.08019813773049884, 'colsample_bytree': 0.860706384379596, 'n_estimators': 0}. Best is trial 11 with value: -2777.100309646695.\u001b[0m\n",
      "\u001b[32m[I 2023-08-29 04:46:38,724]\u001b[0m Trial 194 finished with value: -2777.100309646695 and parameters: {'lambda': 11.527151930309925, 'alpha': 9.184028892580606, 'learning_rate': 0.22169566210700167, 'colsample_bytree': 0.7366672297109198, 'n_estimators': 0}. Best is trial 11 with value: -2777.100309646695.\u001b[0m\n",
      "\u001b[32m[I 2023-08-29 04:46:38,773]\u001b[0m Trial 195 finished with value: -2777.100309646695 and parameters: {'lambda': 11.559539976060147, 'alpha': 8.804989601647248, 'learning_rate': 0.07615280993437307, 'colsample_bytree': 0.8657767284595419, 'n_estimators': 0}. Best is trial 11 with value: -2777.100309646695.\u001b[0m\n",
      "\u001b[32m[I 2023-08-29 04:46:38,836]\u001b[0m Trial 196 finished with value: -1219.4830058954701 and parameters: {'lambda': 10.998347742964354, 'alpha': 14.583923872824816, 'learning_rate': 0.37744507446333386, 'colsample_bytree': 0.8955798565221862, 'n_estimators': 4}. Best is trial 11 with value: -2777.100309646695.\u001b[0m\n",
      "\u001b[32m[I 2023-08-29 04:46:38,883]\u001b[0m Trial 197 finished with value: -1571.331573805562 and parameters: {'lambda': 11.817194689144175, 'alpha': 14.893461601320274, 'learning_rate': 0.3554476268258285, 'colsample_bytree': 0.5768924473590957, 'n_estimators': 2}. Best is trial 11 with value: -2777.100309646695.\u001b[0m\n",
      "\u001b[32m[I 2023-08-29 04:46:38,946]\u001b[0m Trial 198 finished with value: -1667.7987420915815 and parameters: {'lambda': 10.245734206539339, 'alpha': 8.19942977003829, 'learning_rate': 0.2320072729909201, 'colsample_bytree': 0.6112825138821308, 'n_estimators': 3}. Best is trial 11 with value: -2777.100309646695.\u001b[0m\n",
      "\u001b[32m[I 2023-08-29 04:46:38,993]\u001b[0m Trial 199 finished with value: -2180.951821873312 and parameters: {'lambda': 16.154551364141653, 'alpha': 8.445726332355308, 'learning_rate': 0.14783364494747767, 'colsample_bytree': 0.607448317838276, 'n_estimators': 2}. Best is trial 11 with value: -2777.100309646695.\u001b[0m\n"
     ]
    },
    {
     "data": {
      "application/vnd.plotly.v1+json": {
       "config": {
        "plotlyServerURL": "https://plot.ly"
       },
       "data": [
        {
         "dimensions": [
          {
           "label": "Objective Value",
           "range": [
            -2777.100309646695,
            -1133.7678392693672
           ],
           "values": [
            -1138.6706175441504,
            -1162.304431399994,
            -1150.838992180735,
            -1145.9555201078272,
            -1163.5108433968717,
            -1149.2622588379072,
            -1147.8141809182991,
            -1146.5588236674962,
            -1139.133230920194,
            -1285.7622586674543,
            -1967.4976339642635,
            -2777.100309646695,
            -2777.100309646695,
            -1157.0754381706352,
            -1145.2300558272068,
            -1151.6322952126552,
            -1174.1701281199607,
            -1156.9494122394967,
            -1157.5155707860736,
            -1178.2414731852723,
            -1147.5362759016398,
            -2777.100309646695,
            -2777.100309646695,
            -1217.1538075978863,
            -1149.124404896354,
            -1181.9897293601507,
            -1156.1876550866232,
            -1159.4809294830043,
            -1149.7583139299793,
            -2777.100309646695,
            -1151.720123166356,
            -1433.1790237570585,
            -1155.5537935721236,
            -1193.0737397021912,
            -1169.8966412282355,
            -2777.100309646695,
            -1141.555073235915,
            -1182.933017513085,
            -1137.7520452395313,
            -1155.0448438792373,
            -1227.9246054446007,
            -2777.100309646695,
            -1355.9935882607544,
            -1773.9780645575277,
            -2777.100309646695,
            -1133.7678392693672,
            -1265.315493753109,
            -1403.15429867339,
            -2777.100309646695,
            -1138.5246556272161,
            -1145.200793963509,
            -2777.100309646695,
            -1173.1336863360393,
            -1213.0976789536116,
            -1184.6177237167713,
            -2777.100309646695,
            -2173.8288938963988,
            -1791.300321871588,
            -1236.3120441903566,
            -1140.0299524959096,
            -1178.3314650684115,
            -2777.100309646695,
            -1858.7638859669448,
            -1311.0484191094915,
            -2777.100309646695,
            -2777.100309646695,
            -1230.8665357834134,
            -1139.2816844780161,
            -1609.7343511999538,
            -1676.660703560969,
            -1150.504783579959,
            -2189.8891191396037,
            -2005.9676058138402,
            -2777.100309646695,
            -1416.1081107115506,
            -1138.6450502565804,
            -1238.564664976355,
            -2777.100309646695,
            -1162.5267317251469,
            -2056.8230980734515,
            -1391.3518721233363,
            -2042.1472661833218,
            -1711.2705487525013,
            -1687.7524171634093,
            -2777.100309646695,
            -1315.219638831146,
            -1311.766776688091,
            -1140.0934562670673,
            -2777.100309646695,
            -2777.100309646695,
            -1142.0302261910347,
            -1513.0599420632313,
            -1281.5427657000187,
            -1195.2681394479164,
            -1293.5517373882228,
            -2777.100309646695,
            -1953.7722362693862,
            -1172.082178725686,
            -2175.4493240739966,
            -2108.962486084021,
            -1145.094516043554,
            -2648.166719751061,
            -2777.100309646695,
            -1517.2126103438918,
            -1220.4925893818706,
            -1217.4636498228383,
            -1692.682846055454,
            -1929.3419448091363,
            -1141.2800687246374,
            -1191.6177913658742,
            -2572.3322704803622,
            -1339.2505217416933,
            -2777.100309646695,
            -1138.065896735736,
            -2777.100309646695,
            -1524.864663990544,
            -1177.8285728053347,
            -2777.100309646695,
            -1338.0537750318874,
            -1162.744217765703,
            -1147.875892219427,
            -2777.100309646695,
            -2777.100309646695,
            -2293.8414202371055,
            -2278.702039641509,
            -1146.405852949496,
            -1326.4138896468467,
            -2247.6571648318695,
            -2777.100309646695,
            -1500.8618537142916,
            -1273.167961894555,
            -2491.237245923672,
            -1638.6176942358375,
            -2777.100309646695,
            -2777.100309646695,
            -1810.8151411172944,
            -1725.8602063385165,
            -1536.9531919307246,
            -2097.2629976187854,
            -1142.2062242009697,
            -2777.100309646695,
            -2777.100309646695,
            -2777.100309646695,
            -1877.408267534046,
            -1150.250556826016,
            -1441.4376595632311,
            -2777.100309646695,
            -1488.99856439502,
            -1214.371252075041,
            -2777.100309646695,
            -1464.4690586388106,
            -2777.100309646695,
            -2377.199318651865,
            -2054.261950426616,
            -2777.100309646695,
            -2081.55119181585,
            -1503.2334795728307,
            -2777.100309646695,
            -1230.5031579794004,
            -2406.327105778081,
            -1171.5654255267273,
            -2055.466805375761,
            -2777.100309646695,
            -2777.100309646695,
            -1587.6619687605914,
            -2777.100309646695,
            -1213.9651348507487,
            -2777.100309646695,
            -1189.0596336114625,
            -1149.1962515712248,
            -2569.756253376697,
            -2777.100309646695,
            -1913.9147643260296,
            -2777.100309646695,
            -1296.5152850545292,
            -1159.4092820878282,
            -2003.7753623179449,
            -1158.9611016924084,
            -2777.100309646695,
            -1395.5584921063628,
            -2475.243859795324,
            -2777.100309646695,
            -2777.100309646695,
            -1958.1563881445927,
            -1609.821724204745,
            -2777.100309646695,
            -1828.687218255372,
            -2777.100309646695,
            -1439.7551883664867,
            -1575.9233051348153,
            -1140.9907553774249,
            -2777.100309646695,
            -2516.492191164083,
            -2777.100309646695,
            -2777.100309646695,
            -2777.100309646695,
            -1219.4830058954701,
            -1571.331573805562,
            -1667.7987420915815,
            -2180.951821873312
           ]
          },
          {
           "label": "alpha",
           "range": [
            7.006015264368047,
            16.990847993028552
           ],
           "values": [
            12.63374831088244,
            7.811751962178478,
            11.689546348482757,
            13.113739065605301,
            16.033311209043454,
            13.992130458509681,
            7.262808460334276,
            9.2054584247738,
            7.115550339570164,
            16.588139176000585,
            16.90640763133891,
            16.76972485296252,
            15.116072176909908,
            14.984569257542532,
            14.812635073626387,
            15.581004977491329,
            10.950009410556582,
            13.974169146463963,
            14.237466501352184,
            15.639418588646993,
            11.469450865113773,
            16.47405672339986,
            16.97595883188456,
            16.036325829570494,
            15.133860811897486,
            16.943480287303228,
            13.19868061985078,
            16.279597997042607,
            16.92981751183027,
            14.776237476639206,
            12.668484407079434,
            16.104911825519565,
            14.63984447617463,
            15.443741432315422,
            13.624258371457534,
            9.955430480031753,
            9.8748413796369,
            8.841654614730901,
            10.379014262499094,
            12.038076618663691,
            8.399735326287058,
            16.355710878862496,
            16.343953933611587,
            15.784721087571624,
            14.412475669277832,
            16.448147927324747,
            12.697320980273323,
            14.223096604480483,
            14.547986064789066,
            7.830378978738581,
            13.507004241879795,
            15.450718270442232,
            15.16727907298206,
            15.42094460903577,
            14.749509013198768,
            15.790843745823327,
            16.57351284571633,
            16.031694326963287,
            11.816740373697712,
            16.74137025818431,
            10.88131407467358,
            14.481906139122026,
            14.360636528057713,
            13.82824270798083,
            14.569998414001825,
            13.152364301706648,
            13.19427536668194,
            15.864279392163539,
            16.990847993028552,
            15.118598312176777,
            12.194756882657629,
            14.799238627513544,
            14.408729889701984,
            15.396453837116363,
            15.506205152705306,
            9.61672138106187,
            16.363843414932973,
            14.11502449758304,
            16.165308605810047,
            15.814159437092037,
            11.24492075495214,
            16.638556035415164,
            15.179551874156198,
            16.643548773478756,
            15.783682131980353,
            15.630866390862003,
            14.949985344533642,
            13.847740097526632,
            14.192388571858178,
            12.90594333483164,
            13.492852530882999,
            12.999104573161276,
            16.0203612333896,
            16.283703730737674,
            14.057948389635472,
            15.464262941845675,
            14.533075289767753,
            15.030527277464676,
            13.601967829777122,
            12.387115900619754,
            15.291270239062015,
            14.63511471664866,
            14.875859772288212,
            14.476708509894042,
            14.968176581079112,
            15.77860955288107,
            14.191852480279533,
            13.74865953702625,
            16.79306769533484,
            14.80641971189888,
            13.970381566042393,
            14.646512087056285,
            10.271845793815459,
            10.267690333934983,
            15.301394739749178,
            15.323288021892685,
            16.531407242013707,
            15.595751512489059,
            14.25918192260261,
            9.060644787212055,
            16.399000603520868,
            9.570276941601842,
            8.045020368732546,
            9.667758439605704,
            16.119659704902347,
            13.31066832921186,
            15.314145585230479,
            14.642579814468379,
            15.90020341460041,
            14.132036618394714,
            15.70958627777789,
            13.066436073928118,
            16.83157377963319,
            14.836049011896572,
            7.721390306039237,
            11.651901842574388,
            7.006015264368047,
            12.327763741336291,
            12.872795136147067,
            15.524686284576514,
            14.322669290604011,
            10.029112982523802,
            8.625495132487185,
            8.834578567112777,
            15.499553326301342,
            15.113796090082378,
            9.421828771199069,
            14.488627735841778,
            15.965300383866552,
            8.27712886860122,
            10.963968381974018,
            9.380134423161376,
            13.379606216138873,
            8.06001845777366,
            10.017492849699751,
            13.819453887146222,
            10.551313776059834,
            7.505974112806125,
            7.3898640265060855,
            14.792569504977482,
            15.600008043161914,
            16.294126606280432,
            7.770569555139005,
            14.972758014543372,
            15.003734390269738,
            14.970301275077704,
            15.267508199687443,
            8.72508710042822,
            8.174025958417738,
            13.935743446681656,
            9.392839961027951,
            8.564018215839779,
            8.528039850941866,
            7.931967924052912,
            7.672589727771234,
            14.424056941961005,
            15.847341167205592,
            10.515399937075223,
            9.98001084122016,
            15.387488814706266,
            14.299433304771727,
            14.112502706140893,
            14.675821436831788,
            10.252851768718331,
            9.798243591421766,
            7.529961195046934,
            7.290324270451476,
            9.057472963476663,
            10.049262237050389,
            9.508106160505973,
            9.210500153855554,
            15.615644357681866,
            15.211555139637733,
            9.221934521568482,
            9.184028892580606,
            8.804989601647248,
            14.583923872824816,
            14.893461601320274,
            8.19942977003829,
            8.445726332355308
           ]
          },
          {
           "label": "colsample_bytree",
           "range": [
            0.4001069531273026,
            0.8955798565221862
           ],
           "values": [
            0.5536332330510287,
            0.5961765829317223,
            0.5306141555482193,
            0.7206432110328058,
            0.8033415783498766,
            0.5270808653593851,
            0.7867009950043653,
            0.7677805556408197,
            0.6526542813794345,
            0.513126957205644,
            0.40461319478853414,
            0.400242828099084,
            0.41469630313853445,
            0.40011241330953173,
            0.4518432279188347,
            0.47395570184462554,
            0.8837812345333811,
            0.4635249076606312,
            0.6306522988153246,
            0.4370807128064949,
            0.5877153898282235,
            0.4001069531273026,
            0.48500674156041845,
            0.4021541618823661,
            0.4383180257888708,
            0.49194786914769173,
            0.49075128857159245,
            0.5655046017838996,
            0.6712456784570826,
            0.44201870606738863,
            0.5499637513220468,
            0.44193447335130476,
            0.42443033033872096,
            0.4903945570582723,
            0.473739065935148,
            0.5137295163312307,
            0.5186781798421671,
            0.6050573421531191,
            0.5380124518646032,
            0.6992083262147879,
            0.4521823646072522,
            0.5099822162021063,
            0.4356605368443063,
            0.5053338227056287,
            0.5693135320010411,
            0.5218185567052206,
            0.5686062607891201,
            0.615275059380804,
            0.5765312419487596,
            0.5415193118338295,
            0.5030982756718615,
            0.4746167444130341,
            0.416000484109778,
            0.46414732924584473,
            0.47853429785550994,
            0.5866798618475445,
            0.6443847234451755,
            0.5884019663568736,
            0.5581806316674945,
            0.8503846076071946,
            0.4190193562214477,
            0.4567068248397984,
            0.526620675788862,
            0.45876698659537835,
            0.5804055568711073,
            0.5720791048621481,
            0.6210905260945704,
            0.5496231416495017,
            0.5046229191285925,
            0.40345580526169134,
            0.6421045977708932,
            0.48332584212820345,
            0.5807015358402573,
            0.5717158631527137,
            0.6034343464641908,
            0.6727546033913385,
            0.5412913261721636,
            0.5846520673493859,
            0.4258703089494766,
            0.5991475584324102,
            0.445051090326954,
            0.4129500397833708,
            0.7248555817473118,
            0.51435312983917,
            0.4643403271188935,
            0.4697396657915351,
            0.43463990400939023,
            0.49378058610821374,
            0.4532751515458357,
            0.5649723450429881,
            0.6292730993796037,
            0.5340173134413255,
            0.42987557307431057,
            0.4818495733644997,
            0.41126791087959325,
            0.5820406249758475,
            0.6101471717597069,
            0.550024355084275,
            0.591873871409964,
            0.44307083908654143,
            0.6571176893519705,
            0.5584293987043932,
            0.5254622853293345,
            0.565810543254134,
            0.5290022823546502,
            0.5043760046759009,
            0.562689257811986,
            0.5771390177684181,
            0.4545633732330872,
            0.4207099079428712,
            0.5135931686875952,
            0.4954319488144911,
            0.5949283687539386,
            0.6197888133003788,
            0.5704095570224128,
            0.5758670763197599,
            0.47386889459713305,
            0.5473161924868559,
            0.546832630898532,
            0.5944299206246901,
            0.5352102006969761,
            0.6026233496326072,
            0.6079286621788738,
            0.5857047573742391,
            0.6200052010964099,
            0.46599601575108374,
            0.5755870848558577,
            0.4885571122492049,
            0.5200032806063353,
            0.5552320175817319,
            0.44686217950720986,
            0.46244915626734995,
            0.5018222056343082,
            0.5840669602579996,
            0.6329367232590434,
            0.48157068027717365,
            0.45558631144627054,
            0.5656227067831369,
            0.5265192396563377,
            0.5585144213827734,
            0.4348093130243697,
            0.6012784291567383,
            0.6025368986628917,
            0.4708196523114391,
            0.5404573012955045,
            0.5832157978903142,
            0.613014565866417,
            0.570956402215588,
            0.516476176454129,
            0.5950228235883691,
            0.5512313928263802,
            0.5907950529687209,
            0.4491619297718619,
            0.5697787660122543,
            0.5438736644033597,
            0.5797754012879839,
            0.5252484212368272,
            0.641160365950447,
            0.6425412075853747,
            0.6335459627011818,
            0.5627488170499787,
            0.4335805833724469,
            0.6102552870682548,
            0.5724611438057154,
            0.5718438992429834,
            0.5995391756808451,
            0.5156209174719535,
            0.6085375477536875,
            0.5868739755101882,
            0.6578903879226999,
            0.49847884390591013,
            0.626305929158721,
            0.6357132351212175,
            0.6163045657931014,
            0.6219611667607112,
            0.5923565438560658,
            0.5553193597023659,
            0.5348771383685751,
            0.8101964666664401,
            0.5816159141846312,
            0.6032484126253118,
            0.625775377908214,
            0.6180553971585978,
            0.6031856899153867,
            0.59569027679879,
            0.6615794640282162,
            0.6825362407808123,
            0.5914973732487828,
            0.5422784496892458,
            0.593477593050059,
            0.564036362329286,
            0.7775233980357384,
            0.5869169804496046,
            0.860706384379596,
            0.7366672297109198,
            0.8657767284595419,
            0.8955798565221862,
            0.5768924473590957,
            0.6112825138821308,
            0.607448317838276
           ]
          },
          {
           "label": "lambda",
           "range": [
            7.24900574905414,
            16.964352158436448
           ],
           "values": [
            7.369219694227853,
            9.089082334878228,
            13.360218936015887,
            8.033184053812619,
            16.260851265594447,
            11.788237660447209,
            15.582383881629829,
            7.662680619516662,
            8.234165873624063,
            8.15048627638535,
            10.731581388482375,
            10.328890844180604,
            10.617107083924173,
            10.201299762338163,
            13.743465442972598,
            10.088943328709762,
            12.163997225373627,
            11.781840496634306,
            9.13378457146467,
            13.66159096584013,
            10.912947849085413,
            10.539470941245384,
            9.378547629120359,
            12.818687613168576,
            11.286132903445473,
            9.276737253367028,
            9.613570816095804,
            8.853077166876407,
            9.784530283136174,
            11.443228917201912,
            15.05583118255738,
            7.24900574905414,
            10.99297841826292,
            12.394534402514669,
            11.366941430409394,
            10.298901608840762,
            10.58705620271536,
            12.997162297583294,
            8.834272085167914,
            8.498980581457717,
            10.171282819063775,
            11.627256526959059,
            11.583856374213536,
            12.388497337469666,
            9.67072708839216,
            16.964352158436448,
            9.762574594495288,
            14.467833255973403,
            11.170755356229833,
            11.017107344293507,
            12.061921116104102,
            10.481482562035474,
            10.293866471204996,
            11.374865003498302,
            9.415106815205501,
            10.542472209372779,
            10.418219807516618,
            7.972484058927561,
            9.999706952695673,
            11.734160981575956,
            13.049179624387136,
            10.986619809563829,
            11.06475650440773,
            10.738027545647434,
            10.653191131286986,
            9.91953534009541,
            11.87649802138952,
            8.991483662985388,
            9.515708742112515,
            12.443817158773198,
            9.894392645711259,
            11.44427564132282,
            10.684536197604048,
            10.759349341726155,
            11.125562233496419,
            10.252399929628282,
            8.676337476917862,
            10.779290200559538,
            9.533859765591465,
            9.10596073544163,
            10.070464135380112,
            10.45139133383976,
            9.895697148251644,
            9.329791775204606,
            11.08757827915229,
            11.185101449254448,
            10.517510435585411,
            9.768154940157428,
            12.208778229509322,
            10.80974917024329,
            10.684634058176096,
            12.220954785126114,
            11.603271989809066,
            11.52463538831908,
            10.124292287784055,
            10.878573504869737,
            10.500516532595187,
            11.915749997275585,
            11.22596798679021,
            10.22988083596859,
            10.87171865896503,
            10.897316673471595,
            11.647683308289615,
            12.631235910327632,
            9.700200492159938,
            11.290553606039403,
            10.348719892650912,
            9.975805887643379,
            10.871326400811737,
            11.741569312961449,
            12.150327111352647,
            10.324115972662918,
            11.376397993328474,
            9.366176098921056,
            10.551349988026764,
            9.579682365817158,
            10.667098403793675,
            11.535880995985481,
            11.920117856271622,
            11.326897491320516,
            8.397924017111405,
            10.511483463186714,
            11.056199461522375,
            10.070860627769807,
            11.073144639279286,
            10.695177956948246,
            10.548841307719853,
            10.799411210881857,
            11.724586330459275,
            11.031693448187525,
            12.342391944126456,
            9.929650926041752,
            10.208960392929624,
            11.618761532065955,
            11.41273531006757,
            11.222087393955075,
            10.881150825567012,
            12.573355956977887,
            9.107863152271618,
            12.91832586867026,
            11.954895215818803,
            10.396321168526756,
            10.4359414666068,
            10.373987438035691,
            11.46804302676564,
            11.4962233577288,
            11.1274635805536,
            10.814962838886817,
            11.789874810309147,
            9.718330429395994,
            12.145282988238888,
            11.307623065982146,
            9.727759189763528,
            10.604332960703752,
            11.033249654678414,
            10.777592483858918,
            10.97661907133765,
            11.715934744586278,
            11.713547231896646,
            11.413062368551024,
            13.301635359350914,
            12.008899931640524,
            11.5696559502645,
            11.23196449693408,
            11.252819390044607,
            11.588359744262833,
            11.75590146761999,
            10.457851735975872,
            11.615147989067875,
            10.18155349305242,
            10.981984594352797,
            10.566231290346012,
            11.950115689703466,
            11.363200257430472,
            9.944493430222305,
            12.26036063815929,
            11.11235333472784,
            10.975892153553353,
            11.165974705090594,
            10.719846008425323,
            10.30307404598435,
            10.664565030108943,
            10.614022704781512,
            10.472260609342086,
            11.919298636364385,
            11.342889254962376,
            9.856825682096144,
            11.190267943261274,
            12.110642151863424,
            10.890921204868318,
            11.110037257594575,
            10.671697434071543,
            10.890577675561474,
            11.538930917954593,
            11.527151930309925,
            11.559539976060147,
            10.998347742964354,
            11.817194689144175,
            10.245734206539339,
            16.154551364141653
           ]
          },
          {
           "label": "learning_rate",
           "range": [
            0.05097041225250855,
            0.49962653500282683
           ],
           "values": [
            0.05180592188171176,
            0.23498361936876544,
            0.22555584559151176,
            0.1585119366346452,
            0.2363812624992413,
            0.301283641629306,
            0.1394450261176508,
            0.2658122657340499,
            0.09490666392140787,
            0.40815570723183314,
            0.45495065036439425,
            0.4605435014801005,
            0.4969106945470882,
            0.4953606319537149,
            0.3665281821592059,
            0.3796121563132174,
            0.4785360603297442,
            0.4269796407985891,
            0.3420905744013767,
            0.4449323376256489,
            0.33334637641912573,
            0.47031454265402906,
            0.482614432538332,
            0.39590887511456585,
            0.4340660834887924,
            0.4901843681760093,
            0.4184201889070802,
            0.4585626140631043,
            0.35337723706295565,
            0.49802619737535636,
            0.32411872191280006,
            0.4648977767576885,
            0.4972814803502047,
            0.4979219207392048,
            0.39578651129758097,
            0.46096388963219265,
            0.4349770727227887,
            0.47025246513665536,
            0.29485434018475504,
            0.3929645644507425,
            0.2521002862611784,
            0.4684303967525928,
            0.4382010991776073,
            0.15427928838236338,
            0.1837025436588668,
            0.4756633813303998,
            0.10760522879000795,
            0.2256111666944789,
            0.19305039744279429,
            0.1987384132567132,
            0.20016135315140748,
            0.45385945466353544,
            0.4798537130318631,
            0.4121197233353273,
            0.45193577709785826,
            0.08086984430276148,
            0.08032667514492509,
            0.06576233103882315,
            0.11773867814444894,
            0.48486801139310215,
            0.4651264805944601,
            0.19145940166841247,
            0.1780921355913167,
            0.4241901525149373,
            0.1400152354632978,
            0.12981204260225623,
            0.13630921087421227,
            0.44892120325086776,
            0.16240534110444102,
            0.09112255541980137,
            0.12761992942542608,
            0.16022683148526143,
            0.19681865796912443,
            0.18318661989010832,
            0.18284984936067766,
            0.24991314264354667,
            0.21985146814677206,
            0.057203023775268605,
            0.4883123175672753,
            0.09907097654334177,
            0.07913718089185091,
            0.14653495539921327,
            0.11598810451097712,
            0.30464031117167906,
            0.2776675685669828,
            0.21504579190196105,
            0.2774680669985703,
            0.17619309672396838,
            0.3650786046165899,
            0.05791825927060845,
            0.13208204527881237,
            0.383123707316885,
            0.44349743637273015,
            0.46159229787046174,
            0.49962653500282683,
            0.05097041225250855,
            0.06951505977726899,
            0.205816212769309,
            0.14787718995371596,
            0.10094791630624211,
            0.4711498123292444,
            0.05734169939345392,
            0.16897992071669354,
            0.1873263268037752,
            0.1712086673612163,
            0.23717391423287698,
            0.3035002082818899,
            0.12201290502276312,
            0.054030700133331964,
            0.4789867607063864,
            0.09159307553649926,
            0.4506157513859175,
            0.3486319040976475,
            0.43437756418783285,
            0.18952219980973906,
            0.18448220867108445,
            0.46895627711717125,
            0.4880305353821499,
            0.4848483612832824,
            0.3245132879188851,
            0.14747753447911877,
            0.0799993353075463,
            0.063876326095732,
            0.08240411768650162,
            0.06455942193978624,
            0.24720167916395094,
            0.49104501900580105,
            0.051083404035378255,
            0.2626129059080895,
            0.22641732643845663,
            0.27133471365275047,
            0.07284687708748665,
            0.1559775189834407,
            0.370211686909097,
            0.3600335021963803,
            0.2930652708219995,
            0.11282621757399658,
            0.2156654041690202,
            0.16927169052415245,
            0.4083814280392485,
            0.20647316713614916,
            0.20492570978909516,
            0.2079369032941999,
            0.19077756035066487,
            0.45947244567357,
            0.41984837406215325,
            0.1376956607013931,
            0.1622775278754368,
            0.48228441005958794,
            0.26106193619954937,
            0.23945485672395803,
            0.07421138906865365,
            0.10407028755879147,
            0.08263607124099073,
            0.19427627941598552,
            0.1743890635431451,
            0.12760686837105367,
            0.3689922484271511,
            0.36998575094181013,
            0.061724638395873,
            0.33525916543058376,
            0.20614311466675753,
            0.498409146118857,
            0.3464212922682598,
            0.3477437245717388,
            0.35963169407407486,
            0.38420413879997606,
            0.13692294728785018,
            0.08884221411836424,
            0.2889307927816901,
            0.052305117574404876,
            0.204194279857006,
            0.22618292346423385,
            0.3241666303114427,
            0.316053315643047,
            0.36123099964065136,
            0.1976603151048131,
            0.4760101003630586,
            0.3971139415845959,
            0.16926754351426637,
            0.06995589159652817,
            0.17844742540212624,
            0.18490019738868754,
            0.21145426534892306,
            0.19396538162939853,
            0.26625208358110763,
            0.2535122535661422,
            0.2821232577452222,
            0.2115200135797182,
            0.2631943260815234,
            0.4424769354639173,
            0.1816503356129947,
            0.06004954029592419,
            0.08019813773049884,
            0.22169566210700167,
            0.07615280993437307,
            0.37744507446333386,
            0.3554476268258285,
            0.2320072729909201,
            0.14783364494747767
           ]
          },
          {
           "label": "n_estimators",
           "range": [
            0,
            99
           ],
           "values": [
            86,
            95,
            69,
            60,
            91,
            52,
            99,
            26,
            70,
            3,
            1,
            0,
            0,
            27,
            23,
            14,
            39,
            13,
            38,
            11,
            37,
            0,
            0,
            10,
            20,
            7,
            18,
            31,
            7,
            0,
            45,
            2,
            16,
            7,
            82,
            0,
            7,
            61,
            20,
            29,
            12,
            0,
            3,
            4,
            0,
            9,
            16,
            5,
            0,
            23,
            53,
            0,
            12,
            6,
            79,
            0,
            4,
            10,
            16,
            9,
            93,
            0,
            3,
            4,
            0,
            0,
            13,
            8,
            5,
            10,
            22,
            2,
            2,
            0,
            6,
            14,
            8,
            0,
            34,
            4,
            19,
            3,
            6,
            2,
            0,
            10,
            6,
            44,
            0,
            0,
            66,
            2,
            5,
            8,
            3,
            0,
            7,
            12,
            2,
            4,
            15,
            1,
            0,
            5,
            11,
            8,
            2,
            4,
            98,
            6,
            1,
            3,
            0,
            9,
            0,
            5,
            75,
            0,
            2,
            7,
            89,
            0,
            0,
            3,
            4,
            54,
            2,
            6,
            0,
            4,
            10,
            2,
            5,
            0,
            0,
            2,
            7,
            4,
            2,
            8,
            0,
            0,
            0,
            3,
            5,
            2,
            0,
            6,
            3,
            0,
            4,
            0,
            2,
            5,
            0,
            2,
            8,
            0,
            4,
            3,
            6,
            2,
            0,
            0,
            2,
            0,
            4,
            0,
            27,
            41,
            2,
            0,
            2,
            0,
            4,
            6,
            2,
            4,
            0,
            7,
            2,
            0,
            0,
            2,
            4,
            0,
            2,
            0,
            5,
            3,
            6,
            0,
            2,
            0,
            0,
            0,
            4,
            2,
            3,
            2
           ]
          }
         ],
         "labelangle": 30,
         "labelside": "bottom",
         "line": {
          "color": [
           -1138.6706175441504,
           -1162.304431399994,
           -1150.838992180735,
           -1145.9555201078272,
           -1163.5108433968717,
           -1149.2622588379072,
           -1147.8141809182991,
           -1146.5588236674962,
           -1139.133230920194,
           -1285.7622586674543,
           -1967.4976339642635,
           -2777.100309646695,
           -2777.100309646695,
           -1157.0754381706352,
           -1145.2300558272068,
           -1151.6322952126552,
           -1174.1701281199607,
           -1156.9494122394967,
           -1157.5155707860736,
           -1178.2414731852723,
           -1147.5362759016398,
           -2777.100309646695,
           -2777.100309646695,
           -1217.1538075978863,
           -1149.124404896354,
           -1181.9897293601507,
           -1156.1876550866232,
           -1159.4809294830043,
           -1149.7583139299793,
           -2777.100309646695,
           -1151.720123166356,
           -1433.1790237570585,
           -1155.5537935721236,
           -1193.0737397021912,
           -1169.8966412282355,
           -2777.100309646695,
           -1141.555073235915,
           -1182.933017513085,
           -1137.7520452395313,
           -1155.0448438792373,
           -1227.9246054446007,
           -2777.100309646695,
           -1355.9935882607544,
           -1773.9780645575277,
           -2777.100309646695,
           -1133.7678392693672,
           -1265.315493753109,
           -1403.15429867339,
           -2777.100309646695,
           -1138.5246556272161,
           -1145.200793963509,
           -2777.100309646695,
           -1173.1336863360393,
           -1213.0976789536116,
           -1184.6177237167713,
           -2777.100309646695,
           -2173.8288938963988,
           -1791.300321871588,
           -1236.3120441903566,
           -1140.0299524959096,
           -1178.3314650684115,
           -2777.100309646695,
           -1858.7638859669448,
           -1311.0484191094915,
           -2777.100309646695,
           -2777.100309646695,
           -1230.8665357834134,
           -1139.2816844780161,
           -1609.7343511999538,
           -1676.660703560969,
           -1150.504783579959,
           -2189.8891191396037,
           -2005.9676058138402,
           -2777.100309646695,
           -1416.1081107115506,
           -1138.6450502565804,
           -1238.564664976355,
           -2777.100309646695,
           -1162.5267317251469,
           -2056.8230980734515,
           -1391.3518721233363,
           -2042.1472661833218,
           -1711.2705487525013,
           -1687.7524171634093,
           -2777.100309646695,
           -1315.219638831146,
           -1311.766776688091,
           -1140.0934562670673,
           -2777.100309646695,
           -2777.100309646695,
           -1142.0302261910347,
           -1513.0599420632313,
           -1281.5427657000187,
           -1195.2681394479164,
           -1293.5517373882228,
           -2777.100309646695,
           -1953.7722362693862,
           -1172.082178725686,
           -2175.4493240739966,
           -2108.962486084021,
           -1145.094516043554,
           -2648.166719751061,
           -2777.100309646695,
           -1517.2126103438918,
           -1220.4925893818706,
           -1217.4636498228383,
           -1692.682846055454,
           -1929.3419448091363,
           -1141.2800687246374,
           -1191.6177913658742,
           -2572.3322704803622,
           -1339.2505217416933,
           -2777.100309646695,
           -1138.065896735736,
           -2777.100309646695,
           -1524.864663990544,
           -1177.8285728053347,
           -2777.100309646695,
           -1338.0537750318874,
           -1162.744217765703,
           -1147.875892219427,
           -2777.100309646695,
           -2777.100309646695,
           -2293.8414202371055,
           -2278.702039641509,
           -1146.405852949496,
           -1326.4138896468467,
           -2247.6571648318695,
           -2777.100309646695,
           -1500.8618537142916,
           -1273.167961894555,
           -2491.237245923672,
           -1638.6176942358375,
           -2777.100309646695,
           -2777.100309646695,
           -1810.8151411172944,
           -1725.8602063385165,
           -1536.9531919307246,
           -2097.2629976187854,
           -1142.2062242009697,
           -2777.100309646695,
           -2777.100309646695,
           -2777.100309646695,
           -1877.408267534046,
           -1150.250556826016,
           -1441.4376595632311,
           -2777.100309646695,
           -1488.99856439502,
           -1214.371252075041,
           -2777.100309646695,
           -1464.4690586388106,
           -2777.100309646695,
           -2377.199318651865,
           -2054.261950426616,
           -2777.100309646695,
           -2081.55119181585,
           -1503.2334795728307,
           -2777.100309646695,
           -1230.5031579794004,
           -2406.327105778081,
           -1171.5654255267273,
           -2055.466805375761,
           -2777.100309646695,
           -2777.100309646695,
           -1587.6619687605914,
           -2777.100309646695,
           -1213.9651348507487,
           -2777.100309646695,
           -1189.0596336114625,
           -1149.1962515712248,
           -2569.756253376697,
           -2777.100309646695,
           -1913.9147643260296,
           -2777.100309646695,
           -1296.5152850545292,
           -1159.4092820878282,
           -2003.7753623179449,
           -1158.9611016924084,
           -2777.100309646695,
           -1395.5584921063628,
           -2475.243859795324,
           -2777.100309646695,
           -2777.100309646695,
           -1958.1563881445927,
           -1609.821724204745,
           -2777.100309646695,
           -1828.687218255372,
           -2777.100309646695,
           -1439.7551883664867,
           -1575.9233051348153,
           -1140.9907553774249,
           -2777.100309646695,
           -2516.492191164083,
           -2777.100309646695,
           -2777.100309646695,
           -2777.100309646695,
           -1219.4830058954701,
           -1571.331573805562,
           -1667.7987420915815,
           -2180.951821873312
          ],
          "colorbar": {
           "title": {
            "text": "Objective Value"
           }
          },
          "colorscale": [
           [
            0,
            "rgb(247,251,255)"
           ],
           [
            0.125,
            "rgb(222,235,247)"
           ],
           [
            0.25,
            "rgb(198,219,239)"
           ],
           [
            0.375,
            "rgb(158,202,225)"
           ],
           [
            0.5,
            "rgb(107,174,214)"
           ],
           [
            0.625,
            "rgb(66,146,198)"
           ],
           [
            0.75,
            "rgb(33,113,181)"
           ],
           [
            0.875,
            "rgb(8,81,156)"
           ],
           [
            1,
            "rgb(8,48,107)"
           ]
          ],
          "reversescale": true,
          "showscale": true
         },
         "type": "parcoords"
        }
       ],
       "layout": {
        "template": {
         "data": {
          "bar": [
           {
            "error_x": {
             "color": "#2a3f5f"
            },
            "error_y": {
             "color": "#2a3f5f"
            },
            "marker": {
             "line": {
              "color": "#E5ECF6",
              "width": 0.5
             },
             "pattern": {
              "fillmode": "overlay",
              "size": 10,
              "solidity": 0.2
             }
            },
            "type": "bar"
           }
          ],
          "barpolar": [
           {
            "marker": {
             "line": {
              "color": "#E5ECF6",
              "width": 0.5
             },
             "pattern": {
              "fillmode": "overlay",
              "size": 10,
              "solidity": 0.2
             }
            },
            "type": "barpolar"
           }
          ],
          "carpet": [
           {
            "aaxis": {
             "endlinecolor": "#2a3f5f",
             "gridcolor": "white",
             "linecolor": "white",
             "minorgridcolor": "white",
             "startlinecolor": "#2a3f5f"
            },
            "baxis": {
             "endlinecolor": "#2a3f5f",
             "gridcolor": "white",
             "linecolor": "white",
             "minorgridcolor": "white",
             "startlinecolor": "#2a3f5f"
            },
            "type": "carpet"
           }
          ],
          "choropleth": [
           {
            "colorbar": {
             "outlinewidth": 0,
             "ticks": ""
            },
            "type": "choropleth"
           }
          ],
          "contour": [
           {
            "colorbar": {
             "outlinewidth": 0,
             "ticks": ""
            },
            "colorscale": [
             [
              0,
              "#0d0887"
             ],
             [
              0.1111111111111111,
              "#46039f"
             ],
             [
              0.2222222222222222,
              "#7201a8"
             ],
             [
              0.3333333333333333,
              "#9c179e"
             ],
             [
              0.4444444444444444,
              "#bd3786"
             ],
             [
              0.5555555555555556,
              "#d8576b"
             ],
             [
              0.6666666666666666,
              "#ed7953"
             ],
             [
              0.7777777777777778,
              "#fb9f3a"
             ],
             [
              0.8888888888888888,
              "#fdca26"
             ],
             [
              1,
              "#f0f921"
             ]
            ],
            "type": "contour"
           }
          ],
          "contourcarpet": [
           {
            "colorbar": {
             "outlinewidth": 0,
             "ticks": ""
            },
            "type": "contourcarpet"
           }
          ],
          "heatmap": [
           {
            "colorbar": {
             "outlinewidth": 0,
             "ticks": ""
            },
            "colorscale": [
             [
              0,
              "#0d0887"
             ],
             [
              0.1111111111111111,
              "#46039f"
             ],
             [
              0.2222222222222222,
              "#7201a8"
             ],
             [
              0.3333333333333333,
              "#9c179e"
             ],
             [
              0.4444444444444444,
              "#bd3786"
             ],
             [
              0.5555555555555556,
              "#d8576b"
             ],
             [
              0.6666666666666666,
              "#ed7953"
             ],
             [
              0.7777777777777778,
              "#fb9f3a"
             ],
             [
              0.8888888888888888,
              "#fdca26"
             ],
             [
              1,
              "#f0f921"
             ]
            ],
            "type": "heatmap"
           }
          ],
          "heatmapgl": [
           {
            "colorbar": {
             "outlinewidth": 0,
             "ticks": ""
            },
            "colorscale": [
             [
              0,
              "#0d0887"
             ],
             [
              0.1111111111111111,
              "#46039f"
             ],
             [
              0.2222222222222222,
              "#7201a8"
             ],
             [
              0.3333333333333333,
              "#9c179e"
             ],
             [
              0.4444444444444444,
              "#bd3786"
             ],
             [
              0.5555555555555556,
              "#d8576b"
             ],
             [
              0.6666666666666666,
              "#ed7953"
             ],
             [
              0.7777777777777778,
              "#fb9f3a"
             ],
             [
              0.8888888888888888,
              "#fdca26"
             ],
             [
              1,
              "#f0f921"
             ]
            ],
            "type": "heatmapgl"
           }
          ],
          "histogram": [
           {
            "marker": {
             "pattern": {
              "fillmode": "overlay",
              "size": 10,
              "solidity": 0.2
             }
            },
            "type": "histogram"
           }
          ],
          "histogram2d": [
           {
            "colorbar": {
             "outlinewidth": 0,
             "ticks": ""
            },
            "colorscale": [
             [
              0,
              "#0d0887"
             ],
             [
              0.1111111111111111,
              "#46039f"
             ],
             [
              0.2222222222222222,
              "#7201a8"
             ],
             [
              0.3333333333333333,
              "#9c179e"
             ],
             [
              0.4444444444444444,
              "#bd3786"
             ],
             [
              0.5555555555555556,
              "#d8576b"
             ],
             [
              0.6666666666666666,
              "#ed7953"
             ],
             [
              0.7777777777777778,
              "#fb9f3a"
             ],
             [
              0.8888888888888888,
              "#fdca26"
             ],
             [
              1,
              "#f0f921"
             ]
            ],
            "type": "histogram2d"
           }
          ],
          "histogram2dcontour": [
           {
            "colorbar": {
             "outlinewidth": 0,
             "ticks": ""
            },
            "colorscale": [
             [
              0,
              "#0d0887"
             ],
             [
              0.1111111111111111,
              "#46039f"
             ],
             [
              0.2222222222222222,
              "#7201a8"
             ],
             [
              0.3333333333333333,
              "#9c179e"
             ],
             [
              0.4444444444444444,
              "#bd3786"
             ],
             [
              0.5555555555555556,
              "#d8576b"
             ],
             [
              0.6666666666666666,
              "#ed7953"
             ],
             [
              0.7777777777777778,
              "#fb9f3a"
             ],
             [
              0.8888888888888888,
              "#fdca26"
             ],
             [
              1,
              "#f0f921"
             ]
            ],
            "type": "histogram2dcontour"
           }
          ],
          "mesh3d": [
           {
            "colorbar": {
             "outlinewidth": 0,
             "ticks": ""
            },
            "type": "mesh3d"
           }
          ],
          "parcoords": [
           {
            "line": {
             "colorbar": {
              "outlinewidth": 0,
              "ticks": ""
             }
            },
            "type": "parcoords"
           }
          ],
          "pie": [
           {
            "automargin": true,
            "type": "pie"
           }
          ],
          "scatter": [
           {
            "fillpattern": {
             "fillmode": "overlay",
             "size": 10,
             "solidity": 0.2
            },
            "type": "scatter"
           }
          ],
          "scatter3d": [
           {
            "line": {
             "colorbar": {
              "outlinewidth": 0,
              "ticks": ""
             }
            },
            "marker": {
             "colorbar": {
              "outlinewidth": 0,
              "ticks": ""
             }
            },
            "type": "scatter3d"
           }
          ],
          "scattercarpet": [
           {
            "marker": {
             "colorbar": {
              "outlinewidth": 0,
              "ticks": ""
             }
            },
            "type": "scattercarpet"
           }
          ],
          "scattergeo": [
           {
            "marker": {
             "colorbar": {
              "outlinewidth": 0,
              "ticks": ""
             }
            },
            "type": "scattergeo"
           }
          ],
          "scattergl": [
           {
            "marker": {
             "colorbar": {
              "outlinewidth": 0,
              "ticks": ""
             }
            },
            "type": "scattergl"
           }
          ],
          "scattermapbox": [
           {
            "marker": {
             "colorbar": {
              "outlinewidth": 0,
              "ticks": ""
             }
            },
            "type": "scattermapbox"
           }
          ],
          "scatterpolar": [
           {
            "marker": {
             "colorbar": {
              "outlinewidth": 0,
              "ticks": ""
             }
            },
            "type": "scatterpolar"
           }
          ],
          "scatterpolargl": [
           {
            "marker": {
             "colorbar": {
              "outlinewidth": 0,
              "ticks": ""
             }
            },
            "type": "scatterpolargl"
           }
          ],
          "scatterternary": [
           {
            "marker": {
             "colorbar": {
              "outlinewidth": 0,
              "ticks": ""
             }
            },
            "type": "scatterternary"
           }
          ],
          "surface": [
           {
            "colorbar": {
             "outlinewidth": 0,
             "ticks": ""
            },
            "colorscale": [
             [
              0,
              "#0d0887"
             ],
             [
              0.1111111111111111,
              "#46039f"
             ],
             [
              0.2222222222222222,
              "#7201a8"
             ],
             [
              0.3333333333333333,
              "#9c179e"
             ],
             [
              0.4444444444444444,
              "#bd3786"
             ],
             [
              0.5555555555555556,
              "#d8576b"
             ],
             [
              0.6666666666666666,
              "#ed7953"
             ],
             [
              0.7777777777777778,
              "#fb9f3a"
             ],
             [
              0.8888888888888888,
              "#fdca26"
             ],
             [
              1,
              "#f0f921"
             ]
            ],
            "type": "surface"
           }
          ],
          "table": [
           {
            "cells": {
             "fill": {
              "color": "#EBF0F8"
             },
             "line": {
              "color": "white"
             }
            },
            "header": {
             "fill": {
              "color": "#C8D4E3"
             },
             "line": {
              "color": "white"
             }
            },
            "type": "table"
           }
          ]
         },
         "layout": {
          "annotationdefaults": {
           "arrowcolor": "#2a3f5f",
           "arrowhead": 0,
           "arrowwidth": 1
          },
          "autotypenumbers": "strict",
          "coloraxis": {
           "colorbar": {
            "outlinewidth": 0,
            "ticks": ""
           }
          },
          "colorscale": {
           "diverging": [
            [
             0,
             "#8e0152"
            ],
            [
             0.1,
             "#c51b7d"
            ],
            [
             0.2,
             "#de77ae"
            ],
            [
             0.3,
             "#f1b6da"
            ],
            [
             0.4,
             "#fde0ef"
            ],
            [
             0.5,
             "#f7f7f7"
            ],
            [
             0.6,
             "#e6f5d0"
            ],
            [
             0.7,
             "#b8e186"
            ],
            [
             0.8,
             "#7fbc41"
            ],
            [
             0.9,
             "#4d9221"
            ],
            [
             1,
             "#276419"
            ]
           ],
           "sequential": [
            [
             0,
             "#0d0887"
            ],
            [
             0.1111111111111111,
             "#46039f"
            ],
            [
             0.2222222222222222,
             "#7201a8"
            ],
            [
             0.3333333333333333,
             "#9c179e"
            ],
            [
             0.4444444444444444,
             "#bd3786"
            ],
            [
             0.5555555555555556,
             "#d8576b"
            ],
            [
             0.6666666666666666,
             "#ed7953"
            ],
            [
             0.7777777777777778,
             "#fb9f3a"
            ],
            [
             0.8888888888888888,
             "#fdca26"
            ],
            [
             1,
             "#f0f921"
            ]
           ],
           "sequentialminus": [
            [
             0,
             "#0d0887"
            ],
            [
             0.1111111111111111,
             "#46039f"
            ],
            [
             0.2222222222222222,
             "#7201a8"
            ],
            [
             0.3333333333333333,
             "#9c179e"
            ],
            [
             0.4444444444444444,
             "#bd3786"
            ],
            [
             0.5555555555555556,
             "#d8576b"
            ],
            [
             0.6666666666666666,
             "#ed7953"
            ],
            [
             0.7777777777777778,
             "#fb9f3a"
            ],
            [
             0.8888888888888888,
             "#fdca26"
            ],
            [
             1,
             "#f0f921"
            ]
           ]
          },
          "colorway": [
           "#636efa",
           "#EF553B",
           "#00cc96",
           "#ab63fa",
           "#FFA15A",
           "#19d3f3",
           "#FF6692",
           "#B6E880",
           "#FF97FF",
           "#FECB52"
          ],
          "font": {
           "color": "#2a3f5f"
          },
          "geo": {
           "bgcolor": "white",
           "lakecolor": "white",
           "landcolor": "#E5ECF6",
           "showlakes": true,
           "showland": true,
           "subunitcolor": "white"
          },
          "hoverlabel": {
           "align": "left"
          },
          "hovermode": "closest",
          "mapbox": {
           "style": "light"
          },
          "paper_bgcolor": "white",
          "plot_bgcolor": "#E5ECF6",
          "polar": {
           "angularaxis": {
            "gridcolor": "white",
            "linecolor": "white",
            "ticks": ""
           },
           "bgcolor": "#E5ECF6",
           "radialaxis": {
            "gridcolor": "white",
            "linecolor": "white",
            "ticks": ""
           }
          },
          "scene": {
           "xaxis": {
            "backgroundcolor": "#E5ECF6",
            "gridcolor": "white",
            "gridwidth": 2,
            "linecolor": "white",
            "showbackground": true,
            "ticks": "",
            "zerolinecolor": "white"
           },
           "yaxis": {
            "backgroundcolor": "#E5ECF6",
            "gridcolor": "white",
            "gridwidth": 2,
            "linecolor": "white",
            "showbackground": true,
            "ticks": "",
            "zerolinecolor": "white"
           },
           "zaxis": {
            "backgroundcolor": "#E5ECF6",
            "gridcolor": "white",
            "gridwidth": 2,
            "linecolor": "white",
            "showbackground": true,
            "ticks": "",
            "zerolinecolor": "white"
           }
          },
          "shapedefaults": {
           "line": {
            "color": "#2a3f5f"
           }
          },
          "ternary": {
           "aaxis": {
            "gridcolor": "white",
            "linecolor": "white",
            "ticks": ""
           },
           "baxis": {
            "gridcolor": "white",
            "linecolor": "white",
            "ticks": ""
           },
           "bgcolor": "#E5ECF6",
           "caxis": {
            "gridcolor": "white",
            "linecolor": "white",
            "ticks": ""
           }
          },
          "title": {
           "x": 0.05
          },
          "xaxis": {
           "automargin": true,
           "gridcolor": "white",
           "linecolor": "white",
           "ticks": "",
           "title": {
            "standoff": 15
           },
           "zerolinecolor": "white",
           "zerolinewidth": 2
          },
          "yaxis": {
           "automargin": true,
           "gridcolor": "white",
           "linecolor": "white",
           "ticks": "",
           "title": {
            "standoff": 15
           },
           "zerolinecolor": "white",
           "zerolinewidth": 2
          }
         }
        },
        "title": {
         "text": "Parallel Coordinate Plot"
        }
       }
      }
     },
     "metadata": {},
     "output_type": "display_data"
    },
    {
     "name": "stderr",
     "output_type": "stream",
     "text": [
      "INFO:__main__:Best parameters: {'lambda': 10.328890844180604, 'alpha': 16.76972485296252, 'learning_rate': 0.4605435014801005, 'colsample_bytree': 0.400242828099084, 'n_estimators': 0}\n"
     ]
    }
   ],
   "source": [
    "\"\"\"\n",
    "\n",
    "AUTHORS: ANGELA EDITH SILES\n",
    "\n",
    "\"\"\"\n",
    "\n",
    "# Imports\n",
    "import logging\n",
    "import os\n",
    "import optuna\n",
    "from optuna import Trial, visualization\n",
    "from optuna.samplers import TPESampler\n",
    "import xgboost as xgboost_regressor\n",
    "import pandas as pd\n",
    "import numpy as np\n",
    "from sklearn.model_selection import cross_val_score, train_test_split\n",
    "\n",
    "# Configure logging\n",
    "logging.basicConfig(level=logging.INFO)\n",
    "logger = logging.getLogger(__name__)\n",
    "\n",
    "def preprocess_dataframe(pandas_df: pd.DataFrame):\n",
    "    \"\"\"Preprocess the dataframe obtained after applying feature engineering.\n",
    "    \n",
    "    Args:\n",
    "        pandas_df (pd.DataFrame): DataFrame obtained after loading.\n",
    "    \n",
    "    Returns:\n",
    "        pd.DataFrame: Preprocessed DataFrame.\n",
    "    \"\"\"\n",
    "    logger.info('Preprocessing data: Item_MRP')\n",
    "    dataset = pandas_df.drop(columns=['Item_Identifier', 'Outlet_Identifier'])\n",
    "\n",
    "    # Split the dataset into train and test sets\n",
    "    df_train = dataset.loc[pandas_df['Set'] == 'train']\n",
    "    df_test = dataset.loc[pandas_df['Set'] == 'test']\n",
    "\n",
    "    return df_train, df_test\n",
    "\n",
    "class TuningHyperParametersPipeline(object):\n",
    "    \"\"\"Pipeline for tuning hyperparameters using Optuna and XGBoost.\"\"\"\n",
    "    \n",
    "    def __init__(self, input_path, output_path: str = None):\n",
    "        self.input_path = input_path\n",
    "        self.output_path = output_path\n",
    "\n",
    "    def load_data(self) -> pd.DataFrame:\n",
    "        \"\"\"Load the dataframe for processing.\n",
    "        \n",
    "        Returns:\n",
    "            pd.DataFrame: Loaded DataFrame.\n",
    "        \"\"\"\n",
    "        try:\n",
    "            train_file = 'features.csv'\n",
    "            train_data = os.path.join(self.input_path, train_file)\n",
    "            pandas_df = pd.read_csv(train_data)\n",
    "            logger.info(\"Loading data from: %s\", self.input_path)\n",
    "        except (FileNotFoundError, PermissionError, OSError) as error_load_file:\n",
    "            logger.exception(\"An error occurred while loading data: %s\", error_load_file)\n",
    "\n",
    "        return pandas_df\n",
    "\n",
    "    def prepare_data_for_training(self, df: pd.DataFrame):\n",
    "        \"\"\"Prepare the data for training.\n",
    "        \n",
    "        Args:\n",
    "            df (pd.DataFrame): Dataframe to be trained.\n",
    "        \n",
    "        Returns:\n",
    "            x_train, y_train (pd.DataFrame, pd.Series): Datasets obtained after applying the machine learning model.\n",
    "        \"\"\"\n",
    "\n",
    "        global x_train\n",
    "        global y_train\n",
    "\n",
    "        df_train, df_test = preprocess_dataframe(pandas_df=df)\n",
    "\n",
    "        # Delete columns without data\n",
    "        df_train.drop(['Set'], axis=1, inplace=True)\n",
    "        df_test.drop(['Item_Outlet_Sales', 'Set'],\n",
    "                     axis=1, inplace=True)\n",
    "\n",
    "        seed = 28\n",
    "\n",
    "        # Split the dataset into training and validation sets\n",
    "        X = df_train.drop(columns='Item_Outlet_Sales')\n",
    "        logger.info('Data prepared for training: X')\n",
    "\n",
    "        y = df_train['Item_Outlet_Sales']\n",
    "\n",
    "        x_train, _, y_train, _ = train_test_split(\n",
    "            X, y, test_size=0.3, random_state=seed)\n",
    "        return x_train, y_train\n",
    "\n",
    "    def train_model(self, x_train, y_train):\n",
    "        \"\"\"Train the model and evaluate its performance.\n",
    "        \n",
    "        Args:\n",
    "            x_train (np.array): Features to be trained.\n",
    "            y_train (np.array): Target to be trained.\n",
    "        \"\"\"\n",
    "        seed = 28\n",
    "        model_trained = xgboost_regressor.XGBRegressor(\n",
    "            objective='reg:linear', n_estimators=10, random_state=seed)\n",
    "        try:\n",
    "            # Train the model\n",
    "            score_model = cross_val_score(\n",
    "                model_trained, x_train, y_train, scoring='neg_root_mean_squared_error', n_jobs=-1, cv=10)\n",
    "            logger.info('Model trained successfully')\n",
    "            logger.info('Score model: %s', score_model)\n",
    "            logger.info('Mean: %s, Std: %s', np.mean(score_model), np.std(score_model))\n",
    "            return score_model\n",
    "        except Exception as e:\n",
    "            logger.exception(\"An error occurred while training the model: %s\", str(e))\n",
    "\n",
    "    def evaluate_score(self, param):\n",
    "        \"\"\"Return the score after applying xgboost regressor.\n",
    "        \n",
    "        Args:\n",
    "            param (_type_): Variable used as a parameter to pass to the XGB Regressor function.\n",
    "        \n",
    "        Returns:\n",
    "            float: Metric obtained after model training.\n",
    "        \"\"\"\n",
    "        model = xgboost_regressor.XGBRegressor(**param)\n",
    "        try:\n",
    "            root_mean_square_error = np.mean(cross_val_score(\n",
    "                model, x_train, y_train, cv=4, n_jobs=-1, scoring='neg_root_mean_squared_error'))\n",
    "            return root_mean_square_error\n",
    "        except Exception as e:\n",
    "            logger.exception(\"An error occurred while returning the score: %s\", str(e))\n",
    "\n",
    "    def objective_function(self, trial):\n",
    "        \"\"\"Optuna objective function.\n",
    "        \n",
    "        Args:\n",
    "            trial (_type_): Description.\n",
    "        \"\"\"\n",
    "        # Define hyperparameters\n",
    "        param = {'sampling_method': 'gradient_based', 'reg_lambda':\n",
    "                 trial.suggest_uniform('lambda', 7.0, 17.0), 'reg_alpha': trial.suggest_uniform('alpha', 7.0, 17.0), 'learning_rate': trial.suggest_uniform('learning_rate', 0.05, 0.5),\n",
    "                 'colsample_bytree': trial.suggest_uniform('colsample_bytree', 0.4, 0.9),\n",
    "                 'n_estimators': trial.suggest_int('n_estimators', 0, 100)}\n",
    "        return self.evaluate_score(param)\n",
    "\n",
    "    def run(self):\n",
    "        \"\"\"Run the entire pipeline.\"\"\"\n",
    "        try:\n",
    "            data_frame = self.load_data()\n",
    "            x_trained, y_trained = self.prepare_data_for_training(data_frame)\n",
    "            model_trained = self.train_model(x_train=x_trained, y_train=y_trained)\n",
    "            study_object = optuna.create_study(\n",
    "                direction='minimize', sampler=TPESampler())\n",
    "            study_object.optimize(self.objective_function, n_trials=200)\n",
    "\n",
    "            fig = optuna.visualization.plot_parallel_coordinate(study_object)\n",
    "            fig.show()\n",
    "\n",
    "            logger.info('Best parameters: %s', study_object.best_params)\n",
    "        except Exception as e:\n",
    "            logger.exception(\"An error occurred in the pipeline: %s\", str(e))\n",
    "\n",
    "if __name__ == \"__main__\":\n",
    "    try:\n",
    "        pipeline = TuningHyperParametersPipeline(\n",
    "            input_path='../data/',\n",
    "            output_path='')\n",
    "        pipeline.run()\n",
    "    except Exception as e:\n",
    "        logger.exception(\"An error occurred: %s\", str(e))\n"
   ]
  }
 ],
 "metadata": {
  "kernelspec": {
   "display_name": "base",
   "language": "python",
   "name": "python3"
  },
  "language_info": {
   "codemirror_mode": {
    "name": "ipython",
    "version": 3
   },
   "file_extension": ".py",
   "mimetype": "text/x-python",
   "name": "python",
   "nbconvert_exporter": "python",
   "pygments_lexer": "ipython3",
   "version": "3.9.7"
  },
  "orig_nbformat": 4
 },
 "nbformat": 4,
 "nbformat_minor": 2
}
